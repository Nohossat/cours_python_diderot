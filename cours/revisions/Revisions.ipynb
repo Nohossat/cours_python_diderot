{
 "cells": [
  {
   "cell_type": "markdown",
   "id": "smoking-publisher",
   "metadata": {},
   "source": [
    "# Révisions\n"
   ]
  },
  {
   "cell_type": "markdown",
   "id": "sorted-panama",
   "metadata": {},
   "source": [
    "### Exercice 1 - Traitement de fichier\n",
    "\n",
    "Vous avez récupéré un fichier `texte.txt` d'un collaborateur. Votre supérieur vous demande de le nettoyer avant de l'utiliser pour entraîner un modèle de traitement naturel du langage (NLP). Il souhaite récupérer le texte modifié et le script ayant servi au traitement du fichier pour pouvoir l'appliquer à d'autres fichiers ultérieurement."
   ]
  },
  {
   "cell_type": "markdown",
   "id": "fixed-turtle",
   "metadata": {},
   "source": [
    "#### Q1 - Récupérer l'intégralité du fichier dans une variable `texte`. Nous nous servirons de cette variable pour les manipulations à venir. Afficher le contenu de cette variable avec un `print`."
   ]
  },
  {
   "cell_type": "code",
   "execution_count": null,
   "id": "cellular-location",
   "metadata": {},
   "outputs": [],
   "source": []
  },
  {
   "cell_type": "markdown",
   "id": "unusual-sense",
   "metadata": {},
   "source": [
    "#### Q2 - Passer le texte en minuscule"
   ]
  },
  {
   "cell_type": "code",
   "execution_count": null,
   "id": "brave-nashville",
   "metadata": {},
   "outputs": [],
   "source": []
  },
  {
   "cell_type": "markdown",
   "id": "scenic-recruitment",
   "metadata": {},
   "source": [
    "#### Q3 - Importer la librairie re."
   ]
  },
  {
   "cell_type": "code",
   "execution_count": null,
   "id": "educated-zealand",
   "metadata": {},
   "outputs": [],
   "source": []
  },
  {
   "cell_type": "markdown",
   "id": "fifty-celebration",
   "metadata": {},
   "source": [
    "#### Q4 - Utiliser une regex pour remplacer la ponctuation et les retours à la ligne par un espace."
   ]
  },
  {
   "cell_type": "code",
   "execution_count": null,
   "id": "fourth-difficulty",
   "metadata": {},
   "outputs": [],
   "source": []
  },
  {
   "cell_type": "markdown",
   "id": "polyphonic-resource",
   "metadata": {},
   "source": [
    "#### Q3 - Retirer du texte tous les mots dont la longueur est inférieure à 3."
   ]
  },
  {
   "cell_type": "code",
   "execution_count": null,
   "id": "circular-blowing",
   "metadata": {},
   "outputs": [],
   "source": []
  },
  {
   "cell_type": "markdown",
   "id": "living-civilian",
   "metadata": {},
   "source": [
    "#### Q4 - Certains mots considérés comme neutres peuvent être retirés du texte. Il s'agit des stop words. Vous avez aussi reçu un fichier `stop_words.txt`. Importer son contenu dans une liste nommée `stop_words`."
   ]
  },
  {
   "cell_type": "code",
   "execution_count": null,
   "id": "monetary-duncan",
   "metadata": {},
   "outputs": [],
   "source": []
  },
  {
   "cell_type": "markdown",
   "id": "functional-petersburg",
   "metadata": {},
   "source": [
    "#### Q5 - Comme vous pouvez le constater, cette liste `stop_words` contient des retours à la ligne parasites. Trouver une méthode pour les retirer."
   ]
  },
  {
   "cell_type": "code",
   "execution_count": null,
   "id": "starting-offense",
   "metadata": {},
   "outputs": [],
   "source": []
  },
  {
   "cell_type": "markdown",
   "id": "tired-premium",
   "metadata": {},
   "source": [
    "#### Q6 - Utiliser la liste `stop_words` pour tous les retirer du texte original"
   ]
  },
  {
   "cell_type": "code",
   "execution_count": null,
   "id": "israeli-patent",
   "metadata": {},
   "outputs": [],
   "source": []
  },
  {
   "cell_type": "markdown",
   "id": "quick-organization",
   "metadata": {},
   "source": [
    "#### Q7 - Identifier tous les mots se terminant par `ait`, `aît` et `aient` et passez-les en majuscule."
   ]
  },
  {
   "cell_type": "code",
   "execution_count": null,
   "id": "collectible-lingerie",
   "metadata": {},
   "outputs": [],
   "source": []
  },
  {
   "cell_type": "markdown",
   "id": "consistent-enemy",
   "metadata": {},
   "source": [
    "#### Q8 - Sauvegarder vos changements dans un nouveau fichier `texte_nlp.txt`"
   ]
  },
  {
   "cell_type": "code",
   "execution_count": null,
   "id": "demonstrated-exhibition",
   "metadata": {},
   "outputs": [],
   "source": []
  },
  {
   "cell_type": "markdown",
   "id": "canadian-driver",
   "metadata": {},
   "source": [
    "-----------"
   ]
  },
  {
   "cell_type": "markdown",
   "id": "collective-netscape",
   "metadata": {},
   "source": [
    "### Exercice 2 - Calculatrice"
   ]
  },
  {
   "cell_type": "markdown",
   "id": "unnecessary-conditions",
   "metadata": {},
   "source": [
    "#### Q1 - Créer une fonction `calc` avec la signature suivante : `calc(terme1, operation, terme2)`, `terme1` et `terme2` sont des nombres (int, float acceptés) et `operation` un des symboles suivants : \"+\", \"-\", \"/\", \"*\". La variable `operation` permettra au programme d'identifier le calcul à réaliser. Par exemple, `calc(2, \"+\", 3)` retournera 5."
   ]
  },
  {
   "cell_type": "code",
   "execution_count": null,
   "id": "orange-convergence",
   "metadata": {},
   "outputs": [],
   "source": []
  },
  {
   "cell_type": "markdown",
   "id": "superior-nothing",
   "metadata": {},
   "source": [
    "#### Q2 - On va améliorer cette fonction avec la validation des arguments. Pour rappel, `terme1` et `terme2` n'acceptent que des nombres, `operation` est une chaîne de caractères ne pouvant être qu'un des symboles décrits dans Q1."
   ]
  },
  {
   "cell_type": "code",
   "execution_count": null,
   "id": "associate-trail",
   "metadata": {},
   "outputs": [],
   "source": []
  },
  {
   "cell_type": "markdown",
   "id": "limited-posting",
   "metadata": {},
   "source": [
    "#### Q3 - Maintenant que notre calculatrice est opérationnelle, on souhaite mettre en place une interface utilisateur. Créer une autre fonction `interface_calc` qui permettra de demander à un utilisateur, les termes et le type d'opération qu'ils souhaite réaliser. N'oubliez pas le contrôle sur les données récoltées avant de passer ces valeurs à la fonction `calc`. "
   ]
  },
  {
   "cell_type": "code",
   "execution_count": null,
   "id": "handed-swing",
   "metadata": {},
   "outputs": [],
   "source": []
  },
  {
   "cell_type": "markdown",
   "id": "mechanical-export",
   "metadata": {},
   "source": [
    "#### Q4 - Bonus - Transformer ce programme en une classe nommée Calculatrice"
   ]
  },
  {
   "cell_type": "code",
   "execution_count": null,
   "id": "worth-battery",
   "metadata": {},
   "outputs": [],
   "source": []
  },
  {
   "cell_type": "markdown",
   "id": "blank-positive",
   "metadata": {},
   "source": [
    "-----------"
   ]
  },
  {
   "cell_type": "markdown",
   "id": "swiss-plymouth",
   "metadata": {},
   "source": [
    "### Exercice 3 - le jeu du Morpion\n",
    "\n",
    "Nous allons essayer de reproduire un morpion en Python. Pour des raisons de simplicité, chaque case sera identifiée par un numéro entre 0 et 8. Comme ci-dessous:\n",
    "\n",
    "0 | 1 | 2  \n",
    "3 | 4 | 5  \n",
    "6 | 7 | 8  "
   ]
  },
  {
   "cell_type": "markdown",
   "id": "cooperative-peter",
   "metadata": {},
   "source": [
    "#### Q1 - La ligne `(0, 1, 2)` représente une combinaison gagnante. En effet, le jeu s'arrête si cette ligne est remplie de 'O' ou de 'X'. Identifier toutes les combinaisons gagnantes d'un morpion. Pour info, il y en a 8. Chaque combinaison sera un tuple comme par exemple `(0, 1, 2)`. On les ajoutera à une liste nommée `combinaisons_gagnantes`."
   ]
  },
  {
   "cell_type": "code",
   "execution_count": null,
   "id": "flush-dietary",
   "metadata": {},
   "outputs": [],
   "source": []
  },
  {
   "cell_type": "markdown",
   "id": "atomic-territory",
   "metadata": {},
   "source": [
    "#### Q2 - Créer une fonction qui permet d'afficher un plateau de morpion. Cette fonction s'appelera `print_board`, elle prendra en argument une liste `board` de 9 chaînes de caractères. Pour le moment, ces chaînes de caractères seront toutes égales à \".\". Cette fonction permet donc de modifier l'affichage d'une liste : au lieu d'une ligne de 1x9, nous souhaitons un affichage de 3x3, comme ci-dessous:\n",
    "\n",
    "| . | . | . |  \n",
    "| . | . | . |  \n",
    "| . | . | . |  \n"
   ]
  },
  {
   "cell_type": "code",
   "execution_count": null,
   "id": "prime-colors",
   "metadata": {},
   "outputs": [],
   "source": []
  },
  {
   "cell_type": "markdown",
   "id": "sunrise-circular",
   "metadata": {},
   "source": [
    "#### Q3 - Créer une fonction `update_board` prenant en argument un nombre `idx` entre 0 et 8, une chaîne de caractères `symbol` et la liste `board`. Cette fonction nous permettra de mettre à jour `board` : on remplacera la valeur à l'indice `idx` par la valeur contenue dans `symbol`. Par exemple, si nous souhaitons mette un 'O' à l'indice 2 du `board`, on appelera `update_board(2, 'O', board)`."
   ]
  },
  {
   "cell_type": "code",
   "execution_count": null,
   "id": "national-apparel",
   "metadata": {},
   "outputs": [],
   "source": []
  },
  {
   "cell_type": "markdown",
   "id": "valued-thompson",
   "metadata": {},
   "source": [
    "#### Q4 - Créer une fonction `check_if_case_available` : cette fonction permet de vérifier si la case à l'indice `idx` est vide ou non. Retourner `True` si la case est vide. Cette petite fonction nous sera utile pour éviter d'écraser la valeur d'une case non vide. Elle prend `idx` et `board` comme arguments."
   ]
  },
  {
   "cell_type": "code",
   "execution_count": null,
   "id": "spoken-valuable",
   "metadata": {},
   "outputs": [],
   "source": []
  },
  {
   "cell_type": "markdown",
   "id": "public-bradford",
   "metadata": {},
   "source": [
    "#### Q5 - On commence à avoir toutes les pièces nécessaires pour mettre en place ce jeu. Le morpion se joue à 2. Créer une fonction `start_game`. Cette fonction réalise plusieurs actions.\n",
    "\n",
    "Dans un premier temps, on initialise le jeu : \n",
    "- Elle prend en argument une liste `joueurs` ayant pour éléments \"O\" et \"X\". Un joueur est identifié par son symbole.\n",
    "- Création d'un plateau `board` => une liste de 9 éléments ayant tous la valeur \".\" par défaut\n",
    "- Création de la variable `joueur_actuel` qui par défaut sera le premier élément de la liste `joueurs`\n",
    "\n",
    "On utilise ensuite une boucle `while` permettant d'alterner entre joueur O et joueur X. La boucle commencera par `while True:`. Nous verrons la condition d'arrêt à la question suivante.\n",
    "\n",
    "Dans cette boucle on décrit le déroulement d'un tour : \n",
    "- on affiche le plateau\n",
    "- on demande au joueur actuel de choisir la case à cocher (une case étant identifiée par son indice)\n",
    "- vérifier que la case sélectionnée est vide : tant que cette condition n'est pas vérifiée, on demandera au joueur de choisir à nouveau\n",
    "- on actualise le plateau en conséquence\n",
    "- on change de joueur"
   ]
  },
  {
   "cell_type": "code",
   "execution_count": null,
   "id": "statutory-brunswick",
   "metadata": {},
   "outputs": [],
   "source": []
  },
  {
   "cell_type": "markdown",
   "id": "wrong-terry",
   "metadata": {},
   "source": [
    "#### Q6 - Nous avons vu qu'avec `while True`, nous avions une boucle infinie. Mais nous savons que le jeu s'arrête lorsqu'un des deux joueurs réalise une combinaison gagnante. Il faudra donc inspecter le plateau après chaque coup pour voir si un des deux joueurs a gagné.\n",
    "\n",
    "Créer une fonction `check_winner` qui prendra en argument `board`, `symbol` et les combinaisons gagnantes définies à la question 1.\n",
    "\n",
    "La liste `combinaisons_gagnantes` identifie les indices des cases permettant au joueur O ou X de gagner. Nous pouvons déclarer la victoire si toutes les cases d'une combinaison gagnante ont le même symbole. Retourner `True` si une combinaison gagnante a été identifiée dans le plateau sinon `False`.\n",
    "\n",
    "N'oubliez pas de tester votre fonction."
   ]
  },
  {
   "cell_type": "code",
   "execution_count": null,
   "id": "million-profession",
   "metadata": {},
   "outputs": [],
   "source": []
  },
  {
   "cell_type": "markdown",
   "id": "weird-volleyball",
   "metadata": {},
   "source": [
    "#### Q7 - Nous pouvons aussi ajouter une fonction `is_board_full` pour vérifier s'il y a encore des cases vides dans `board`. On utilisera aussi ce résultat pour déterminer la poursuite ou la fin du jeu"
   ]
  },
  {
   "cell_type": "code",
   "execution_count": null,
   "id": "retained-tunnel",
   "metadata": {},
   "outputs": [],
   "source": []
  },
  {
   "cell_type": "markdown",
   "id": "downtown-vehicle",
   "metadata": {},
   "source": [
    "#### Q8 - Nous pouvons reprendre la fonction `start_game` et y inclure les fonctions `check_winner`, `is_board_full` et la variable `combinaisons_gagnantes`. \n",
    "\n",
    "Utiliser le résultat des `check_winner` et `is_board_full` pour arrêter la boucle while."
   ]
  },
  {
   "cell_type": "code",
   "execution_count": null,
   "id": "naval-shipping",
   "metadata": {},
   "outputs": [],
   "source": []
  },
  {
   "cell_type": "markdown",
   "id": "strategic-queensland",
   "metadata": {},
   "source": [
    "#### Q9 - Pour améliorer l'interface, au lieu d'indiquer une case de 0 à 8, nous souhaitons que cela soit plus intuitif pour l'utilisateur donc il pourra choisir un nombre entre 1 et 9. Ajuster la fonction `start_game` en conséquence."
   ]
  },
  {
   "cell_type": "code",
   "execution_count": null,
   "id": "magnetic-workplace",
   "metadata": {},
   "outputs": [],
   "source": []
  },
  {
   "cell_type": "markdown",
   "id": "metropolitan-participant",
   "metadata": {},
   "source": [
    "#### Q10 - Créer une fonction `validation_input` pour restreindre le choix de l'utilisateur : on vérifiera que l'indice `idx` passé en argument est compris dans une séquence de nombres allant de 1 à 9 inclus."
   ]
  },
  {
   "cell_type": "code",
   "execution_count": null,
   "id": "protective-electricity",
   "metadata": {},
   "outputs": [],
   "source": []
  },
  {
   "cell_type": "markdown",
   "id": "contained-poker",
   "metadata": {},
   "source": [
    "#### Q11 - Inclure cette étape de validation dans la fonction `start_game` : vous pouvez utiliser une boucle while qui demandera à l'utilisateur de saisir un nouvel indice tant qu'il n'aura pas choisi une valeur correspondant aux critères de la fonction `validation_input`."
   ]
  },
  {
   "cell_type": "code",
   "execution_count": null,
   "id": "joined-argument",
   "metadata": {},
   "outputs": [],
   "source": []
  }
 ],
 "metadata": {
  "kernelspec": {
   "display_name": "Python 3",
   "language": "python",
   "name": "python3"
  },
  "language_info": {
   "codemirror_mode": {
    "name": "ipython",
    "version": 3
   },
   "file_extension": ".py",
   "mimetype": "text/x-python",
   "name": "python",
   "nbconvert_exporter": "python",
   "pygments_lexer": "ipython3",
   "version": "3.9.0"
  }
 },
 "nbformat": 4,
 "nbformat_minor": 5
}
