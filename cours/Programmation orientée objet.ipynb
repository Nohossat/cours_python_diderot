{
 "cells": [
  {
   "cell_type": "markdown",
   "metadata": {},
   "source": [
    "# Programmation orientée objet (POO) en Python - 9/05\n",
    "\n",
    "Ce notebook abordera plutôt l'implémentation de la programmation orientée objet en Python. Je suppose que vous avez eu des cours approfondis sur le paradigme.\n",
    "\n",
    "La POO facilite la maintenance du code et la coopération.\n",
    "\n",
    "## Mais petit rappel...\n",
    "\n",
    "La programmation orientée objet (OOP) permet la création d'objets ayant des caractéristiques (attributs) et comportements (méthodes) propres. Les objets sont générés à partir de classes - ces classes contiennent la définition de ses objets, elles agissent comme des \"patrons\". On peut donc créer autant d'objets que l'on souhaite à partir d'une classe.\n",
    "\n",
    "La programmation orientée objet est caractérisée par certains principes. \n",
    "\n",
    "### Encapsulation\n",
    "\n",
    "Les attributs et les méthodes d'une classe sont tous rassemblés dans une classe et définis lors de son implémentation. Ils sont seulement accessibles via une **interface**. \n",
    "\n",
    "Cette pratique peut sembler un peu complexe mais elle garantit l'intégrité des données de l'objet créé. Plus concretement, l'interface définit comment le développeur doit intéragir avec l'objet, ce qui évite les erreurs de manipulation et les effets de bord.\n",
    "\n",
    "### Héritage\n",
    "\n",
    "Une classe peut être créée à partir d'une autre. Cette caractéristique permet entre autres, de réutiliser des attributs / méthodes d'une classe mère.\n",
    "\n",
    "### Polymorphisme\n",
    "\n",
    "Ce principe découle en partie de l'héritage. Avec l'héritage, on peut très bien définir une classe mère A servant de base pour les classes enfants B et C. Ces classes enfants implémenteront tous les attributs et méthodes de la classe mère. Mais elles peuvent aussi avoir une autre implémentation de certains de ces méthodes / attributs. Cette rédéfinition sera invisible du point de vue de l'interface. \n",
    "\n",
    "Prenons par exemple une méthode say_hello().  \n",
    "\n",
    "La classe A définie une méthode say_hello() qui peut avoir un code différent dans les classes B et C. Cependant, au niveau de l'interface, il n'y aura pas de changement : on appelera toujours la méthode say_hello() pour les classes A, B et C."
   ]
  },
  {
   "cell_type": "markdown",
   "metadata": {},
   "source": [
    "## La POO en Python\n",
    "\n",
    "Comment écrit-on une classe en Python ?"
   ]
  },
  {
   "cell_type": "code",
   "execution_count": 1,
   "metadata": {},
   "outputs": [
    {
     "name": "stdout",
     "output_type": "stream",
     "text": [
      "Il s'appelle Leo, il est Noir et il a 4 pattes. Il s'agit d'un Animal.\n",
      "Noir\n"
     ]
    }
   ],
   "source": [
    "class Animal:\n",
    "    def __init__(self, nom, couleur, nb_pattes):\n",
    "        self.nom = nom\n",
    "        self.couleur = couleur\n",
    "        self.pattes = nb_pattes\n",
    "        \n",
    "    def speak(self):\n",
    "        return \"Un animal ne parle pas\"\n",
    "        \n",
    "    def __repr__(self):\n",
    "        return f\"Il s'appelle {self.nom}, il est {self.couleur} et il a {self.pattes} pattes. Il s'agit d'un {self.__class__.__name__}.\"\n",
    "        \n",
    "chien = Animal(\"Leo\", \"Noir\", 4)\n",
    "print(chien)\n",
    "print(chien.couleur)"
   ]
  },
  {
   "cell_type": "markdown",
   "metadata": {},
   "source": [
    "### Caractéristiques"
   ]
  },
  {
   "cell_type": "markdown",
   "metadata": {},
   "source": [
    "- La création d'une classe commence par le mot-clé **class**\n",
    "- Les méthodes et attributs doivent être indentés\n",
    "- Le mot-clé **self** fait référence à l'instance de la classe. Lors de la création de méthodes, le mot-clé **self** doit apparaître comme premier argument. Mais lors de l'appel des méthodes, vous n'avez pas besoin de l'ajouter, Python le fait automatiquement.\n",
    "- La méthode **__init__** est la méthode la plus importante d'une classe : il s'agit de la méthode appelée lors de la création de l'objet.\n",
    "- Pour accéder aux méthodes et attributs d'un objet, il faut faire suivre le nom de l'objet d'un point et du nom de l'attribut/méthode. \n",
    "    - `objet.method()`\n",
    "    - `objet.attribut`.\n",
    "\n",
    "Comme vous pouvez le voir Python est plus laxiste que d'autres langages en ce qui concerne l'encapsulation : on peut lire/modifier les attributs directement. Il existe cependant des moyens pour rendre l'encapsulation plus stricte.\n",
    "\n",
    "## L'héritage de classes en Python"
   ]
  },
  {
   "cell_type": "code",
   "execution_count": 2,
   "metadata": {},
   "outputs": [
    {
     "name": "stdout",
     "output_type": "stream",
     "text": [
      "Miaou\n",
      "Woaf\n",
      "Il s'appelle Leo, il est Noir et il a 4 pattes. Il s'agit d'un Dog.\n",
      "Il s'appelle Felix, il est Miel et il a 4 pattes. Il s'agit d'un Cat.\n"
     ]
    }
   ],
   "source": [
    "class Cat(Animal):\n",
    "    def __init__(self, nom, couleur):\n",
    "        super().__init__(nom, couleur, 4)\n",
    "        \n",
    "    def speak(self):\n",
    "        return \"Miaou\"\n",
    "    \n",
    "class Dog(Animal):\n",
    "    def __init__(self, nom, couleur):\n",
    "        super().__init__(nom, couleur, 4)\n",
    "        \n",
    "    def speak(self):\n",
    "        return \"Woaf\"\n",
    "    \n",
    "chat = Cat(\"Felix\", \"Miel\")\n",
    "chien = Dog(\"Leo\", \"Noir\")\n",
    "\n",
    "print(chat.speak())\n",
    "print(chien.speak())\n",
    "print(chien)\n",
    "print(chat)"
   ]
  },
  {
   "cell_type": "markdown",
   "metadata": {},
   "source": [
    "Pour créer une nouvelle classe à partir d'une autre, il faut passer la classe mère entre parenthèses lors de la définition de la nouvelle classe.\n",
    "\n",
    "Si vous voulez utiliser les méthodes de la classe mère dans une méthode de la classe enfant, vous pouvez utiliser la fonction **super()** comme on peut le voir dans les méthodes **\\_\\_init\\_\\_** de Cat et Dog."
   ]
  },
  {
   "cell_type": "markdown",
   "metadata": {},
   "source": [
    "## Magic Methods\n",
    "\n",
    "Les méthodes **\\_\\_init\\_\\_** et **\\_\\_repr\\_\\_** sont des méthodes magiques. Généralement, on ne les appelle pas directement. Par exemple, **\\_\\_init\\_\\_** est utilisé lors l'instanciation d'une classe, **\\_\\_repr\\_\\_** lors de l'affichage d'un objet. Il existe d'autres méthodes magiques, elles sont remarquables par les double underscores qui les entourent. \n",
    "\n",
    "Les méthodes magiques sont aussi utiles lorsqu'on veut définir de opérateurs propres à une classe. En voici un exemple :"
   ]
  },
  {
   "cell_type": "code",
   "execution_count": 3,
   "metadata": {},
   "outputs": [
    {
     "name": "stdout",
     "output_type": "stream",
     "text": [
      "Vecteur ayant pour coordonnées (12, 8)\n",
      "Vecteur ayant pour coordonnées (20, 15)\n"
     ]
    }
   ],
   "source": [
    "class Vector2D:\n",
    "    def __init__(self, x, y):\n",
    "        self.x = x\n",
    "        self.y = y\n",
    "    \n",
    "    def __add__(self, another_vector):\n",
    "        return Vector2D(self.x + another_vector.x, self.y + another_vector.y)\n",
    "    \n",
    "    def __mul__(self, another_vector):\n",
    "        return Vector2D(self.x * another_vector.x, self.y * another_vector.y)\n",
    "    \n",
    "    def __repr__(self):\n",
    "        return f\"Vecteur ayant pour coordonnées ({self.x}, {self.y})\"\n",
    "    \n",
    "vect1 = Vector2D(2, 3)\n",
    "vect2 = Vector2D(10, 5)\n",
    "vect3 = vect1 + vect2\n",
    "vect4 = vect1 * vect2\n",
    "print(vect3)\n",
    "print(vect4)"
   ]
  },
  {
   "cell_type": "markdown",
   "metadata": {},
   "source": [
    "On peut ainsi modifier le comportement attendu lors de l'addition ou la multiplication entre deux éléments de la même classe. Il en existe d'autres, vous pouvez voir la liste et leur implémentation dans les Ressources du notebook.\n"
   ]
  },
  {
   "cell_type": "markdown",
   "metadata": {},
   "source": [
    "### Encapsulation : différents niveaux d'accès\n",
    "\n",
    "Les méthodes et attributs sont facilement accessibles en Python. Les underscores devant le nom d'une méthode / attribut peuvent rendre difficile l'accès à ces éléments. \n",
    "\n",
    "**Méthodes / attributs protégés**\n",
    "\n",
    "Avec un underscore devant le nom, la méthode ou attribut montre aux autres développeurs qu'ils doivent être considérés comme protégés mais n'empêche nullement leur accès. Le seul effet de l'underscore intervient lorsque la méthode est créée au sein d'un un module. Lorsque le module est importé dans un programme, l'élément ne sera pas importé."
   ]
  },
  {
   "cell_type": "code",
   "execution_count": 4,
   "metadata": {},
   "outputs": [
    {
     "data": {
      "text/plain": [
       "'100 rue de la Paix'"
      ]
     },
     "execution_count": 4,
     "metadata": {},
     "output_type": "execute_result"
    }
   ],
   "source": [
    "class Person:\n",
    "    def __init__(self, nom, age, adresse):\n",
    "        self.nom = nom\n",
    "        self.age = age\n",
    "        self._adresse = adresse\n",
    "        \n",
    "        \n",
    "john = Person(\"John\", 20, \"100 rue de la Paix\")\n",
    "john._adresse"
   ]
  },
  {
   "cell_type": "markdown",
   "metadata": {},
   "source": [
    "**Méthodes / attributs privés**\n",
    "\n",
    "En ajoutant deux underscores devant le nom de la méthode / attribut, on rend impossible l'accès à l'élément tel quel: Python change le nom de l'élément."
   ]
  },
  {
   "cell_type": "code",
   "execution_count": 2,
   "metadata": {},
   "outputs": [
    {
     "data": {
      "text/plain": [
       "20"
      ]
     },
     "execution_count": 2,
     "metadata": {},
     "output_type": "execute_result"
    }
   ],
   "source": [
    "class Person:\n",
    "    def __init__(self, nom, age, adresse):\n",
    "        self.nom = nom\n",
    "        self.__age = age\n",
    "        self._adresse = adresse\n",
    "        \n",
    "        \n",
    "john = Person(\"John\", 20, \"100 rue de la Paix\")\n",
    "john.__age # erreur\n",
    "john._Person__age # nouveau nom de l'attribut"
   ]
  },
  {
   "cell_type": "markdown",
   "metadata": {},
   "source": [
    "Pour y accéder, il faut ajouter _NomClasse devant le nom de l'attribut."
   ]
  },
  {
   "cell_type": "code",
   "execution_count": 47,
   "metadata": {},
   "outputs": [
    {
     "data": {
      "text/plain": [
       "'100 rue de la Paix'"
      ]
     },
     "execution_count": 47,
     "metadata": {},
     "output_type": "execute_result"
    }
   ],
   "source": [
    "john._Person__adresse"
   ]
  },
  {
   "cell_type": "markdown",
   "metadata": {},
   "source": [
    "## Méthodes d'instance / de classe / statiques\n",
    "\n",
    "Jusqu'à présent, nous avons vu que des méthodes d'instance. Elles sont remarquables par leur premier argument, **self**.\n",
    "\n",
    "**Méthodes de classe**\n",
    "\n",
    "Les méthodes de classe font référence à une classe et non à une instance. Elles prennent en argument le mot-clé **cls**. Elles sont aussi précédées du décorateur **@classmethod**. \n",
    "\n",
    "Ce type de méthode est plutôt utilisé lorsque vous souhaitez créer plusieurs constructeurs."
   ]
  },
  {
   "cell_type": "code",
   "execution_count": 24,
   "metadata": {},
   "outputs": [
    {
     "name": "stdout",
     "output_type": "stream",
     "text": [
      "Théo 33\n"
     ]
    }
   ],
   "source": [
    "from datetime import datetime\n",
    "\n",
    "class Person:\n",
    "    def __init__(self, nom, age, adresse):\n",
    "        self.nom = nom\n",
    "        self.age = age\n",
    "        self.__adresse = adresse\n",
    "        \n",
    "    @classmethod\n",
    "    def fromYear(cls, nom, year, addresse):\n",
    "        return cls(nom, datetime.now().year - year, addresse)\n",
    "        \n",
    "        \n",
    "theo = Person.fromYear(\"Théo\", 1988, \"100 rue de la Paix\")\n",
    "print(theo.nom, theo.age)"
   ]
  },
  {
   "cell_type": "markdown",
   "metadata": {},
   "source": [
    "**Méthodes statiques**\n",
    "\n",
    "Il s'agit de fonctions comme vous avez pu en voir dans les précédents notebooks sauf qu'elles sont accessibles depuis un objet. Les méthodes statiques ne prennent pas d'argument en particulier mais elles sont précédées d'un décorateur **@staticmethod**. Les méthodes statiques sont limitées car elles ne peuvent pas accéder à l'instance ou à la classe à laquelle elles appartiennent. Par contre, elles sont utiles lorsqu'il s'agit de fonctions utilitaires."
   ]
  },
  {
   "cell_type": "code",
   "execution_count": 3,
   "metadata": {},
   "outputs": [
    {
     "data": {
      "text/plain": [
       "20"
      ]
     },
     "execution_count": 3,
     "metadata": {},
     "output_type": "execute_result"
    }
   ],
   "source": [
    "from datetime import datetime\n",
    "\n",
    "class Person:\n",
    "    def __init__(self, nom, year, adresse):\n",
    "        self.nom = nom\n",
    "        self.year = year\n",
    "        self.__adresse = adresse\n",
    "        \n",
    "    @staticmethod\n",
    "    def find_age(birth_year):\n",
    "        return datetime.now().year - birth_year\n",
    "        \n",
    "theo = Person(\"Théo\", 2001, \"100 rue de la Paix\")\n",
    "Person.find_age(theo.year)"
   ]
  },
  {
   "cell_type": "markdown",
   "metadata": {},
   "source": [
    "## Les propriétés\n",
    "\n",
    "On peut utiliser les propriétés pour créer des attributs en lecture seule."
   ]
  },
  {
   "cell_type": "code",
   "execution_count": 10,
   "metadata": {},
   "outputs": [
    {
     "name": "stdout",
     "output_type": "stream",
     "text": [
      "20\n"
     ]
    },
    {
     "ename": "AttributeError",
     "evalue": "can't set attribute",
     "output_type": "error",
     "traceback": [
      "\u001b[0;31m---------------------------------------------------------------------------\u001b[0m",
      "\u001b[0;31mAttributeError\u001b[0m                            Traceback (most recent call last)",
      "\u001b[0;32m<ipython-input-10-f064c2570695>\u001b[0m in \u001b[0;36m<module>\u001b[0;34m\u001b[0m\n\u001b[1;32m     16\u001b[0m \u001b[0;34m\u001b[0m\u001b[0m\n\u001b[1;32m     17\u001b[0m \u001b[0mprint\u001b[0m\u001b[0;34m(\u001b[0m\u001b[0mtheo\u001b[0m\u001b[0;34m.\u001b[0m\u001b[0mpoids\u001b[0m\u001b[0;34m)\u001b[0m\u001b[0;34m\u001b[0m\u001b[0;34m\u001b[0m\u001b[0m\n\u001b[0;32m---> 18\u001b[0;31m \u001b[0mtheo\u001b[0m\u001b[0;34m.\u001b[0m\u001b[0mpoids\u001b[0m \u001b[0;34m=\u001b[0m \u001b[0;36m30\u001b[0m\u001b[0;34m\u001b[0m\u001b[0;34m\u001b[0m\u001b[0m\n\u001b[0m",
      "\u001b[0;31mAttributeError\u001b[0m: can't set attribute"
     ]
    }
   ],
   "source": [
    "class Person:\n",
    "    def __init__(self, nom, age, adresse):\n",
    "        self.nom = nom\n",
    "        self.age = age\n",
    "        self.__adresse = adresse\n",
    "        \n",
    "    @property\n",
    "    def poids(self):\n",
    "        return 20\n",
    "        \n",
    "theo = Person(\"Théo\", 20, \"100 rue de la Paix\")\n",
    "print(theo.poids)\n",
    "theo.poids = 30 # génère une erreur"
   ]
  },
  {
   "cell_type": "markdown",
   "metadata": {},
   "source": [
    "Les propriétés peuvent aussi servir pour créer des accesseurs / mutateurs (getters / setters)."
   ]
  },
  {
   "cell_type": "code",
   "execution_count": 32,
   "metadata": {},
   "outputs": [
    {
     "name": "stdout",
     "output_type": "stream",
     "text": [
      "le poids de Théo est 20\n",
      "le poids de Théo est 60\n"
     ]
    }
   ],
   "source": [
    "class Person:\n",
    "    def __init__(self, nom, age, adresse):\n",
    "        self.nom = nom\n",
    "        self.age = age\n",
    "        self.__adresse = adresse\n",
    "        self.__poids = 20\n",
    "        \n",
    "    @property # on définit d'abord la propriété poids\n",
    "    def poids(self):\n",
    "        return self.__poids\n",
    "    \n",
    "    @poids.setter # mutateur\n",
    "    def poids(self, nouveau_poids):\n",
    "        self.__poids = nouveau_poids\n",
    "        \n",
    "    @poids.getter # accesseur\n",
    "    def poids(self):\n",
    "        return f\"le poids de {self.nom} est {self.__poids}\"\n",
    "        \n",
    "theo = Person(\"Théo\", 20, \"100 rue de la Paix\")\n",
    "print(theo.poids)\n",
    "theo.poids = 60\n",
    "print(theo.poids)"
   ]
  },
  {
   "cell_type": "markdown",
   "metadata": {},
   "source": [
    "## Exercice\n",
    "\n",
    "### 1. Créer une classe `Vehicule` avec les attributs `marque`, `vitesse_max`, `kilométrage`, `nb_places` et une `méthode afficher_nb_places`, affichant le nombre de places dans le véhicule"
   ]
  },
  {
   "cell_type": "code",
   "execution_count": null,
   "metadata": {},
   "outputs": [],
   "source": []
  },
  {
   "cell_type": "markdown",
   "metadata": {},
   "source": [
    "### 2. Créer une classe enfant `Bus` qui héritera des attributs / méthodes de la classe `Vehicule`. Ajouter un attribut `prix_ticket`."
   ]
  },
  {
   "cell_type": "code",
   "execution_count": null,
   "metadata": {},
   "outputs": [],
   "source": []
  },
  {
   "cell_type": "markdown",
   "metadata": {},
   "source": [
    "### 3. Reprendre le code de la classe `Bus`. Ajouter une méthode `calculer_gain_total` retournant le produit de `nb_places` et du `prix_ticket`."
   ]
  },
  {
   "cell_type": "code",
   "execution_count": null,
   "metadata": {},
   "outputs": [],
   "source": []
  },
  {
   "cell_type": "markdown",
   "metadata": {},
   "source": [
    "### 4. Créer une instance `mercedes` de type `Vehicule` et un `bus_ecole` de type `Bus`. Vérifier à quelle classe appartient chaque objet."
   ]
  },
  {
   "cell_type": "code",
   "execution_count": null,
   "metadata": {},
   "outputs": [],
   "source": []
  },
  {
   "cell_type": "markdown",
   "metadata": {},
   "source": [
    "### 5. Appeler la méthode `afficher_nb_places` de `mercedes` et `bus_ecole`."
   ]
  },
  {
   "cell_type": "code",
   "execution_count": null,
   "metadata": {},
   "outputs": [],
   "source": []
  },
  {
   "cell_type": "markdown",
   "metadata": {},
   "source": [
    "### 6. Reprendre le code de la classe `Vehicule`. Ajouter une méthode `__repr__` à `Vehicule`. Cette fonction permet de modifier la description d'une instance. Essayer d'utiliser tous les attributs pour donner la description la plus exhaustive possible. Créer une instance `Vehicule` nommée `moto`. Vérifier que `print(moto)` correspond au résultat de la méthode `__repr__`."
   ]
  },
  {
   "cell_type": "code",
   "execution_count": 42,
   "metadata": {},
   "outputs": [],
   "source": []
  },
  {
   "cell_type": "markdown",
   "metadata": {},
   "source": [
    "### 7. Reprendre le code de la classe Vehicule. Ajouter une méthode de classe `fromYear` permettant de créer un véhicule autrement. Cette méthode prendra en argument tous les éléments nécessaires pour créer un `Vehicule` à l'exception de `kilométrage`. On l'estimera en fonction d'un paramètre supplémentaire `annee` correspondant à l'année de fabrication du `Véhicule`. On supposera que depuis sa fabrication, le véhicule aura roulé 200km par an. Il faudra donc calculer le kilométrage total depuis la fabrication du véhicule. \n",
    "\n",
    "(Voir dans le cours l'exemple sur les méthodes de classe pour récupérer le nombre d'années de fonctionnement)."
   ]
  },
  {
   "cell_type": "code",
   "execution_count": null,
   "metadata": {},
   "outputs": [],
   "source": []
  },
  {
   "cell_type": "markdown",
   "metadata": {},
   "source": [
    "### 8. Reprendre le code de la classe `Bus`. Ajouter un attribut protégé `annee`. Créer une nouvelle instance de `Bus`. Pouvez-vous accéder à l'attribut `annee` ?"
   ]
  },
  {
   "cell_type": "code",
   "execution_count": null,
   "metadata": {},
   "outputs": [],
   "source": []
  },
  {
   "cell_type": "markdown",
   "metadata": {},
   "source": [
    "### 9. Reprendre le code de la classe Bus. Ajouter un attribut privé `usure` de type booléen. Faites les modifications qui s'imposent pour que le code continue de fonctionner. Afficher l'attribut `usure` de `bus_ecole`. Qu'obtenez-vous ?"
   ]
  },
  {
   "cell_type": "code",
   "execution_count": null,
   "metadata": {},
   "outputs": [],
   "source": []
  },
  {
   "cell_type": "markdown",
   "metadata": {},
   "source": [
    "### 10. Reprendre le code de la classe Bus. Créer une méthode statique nommé `getFullCapacity` qui nous permettra de calculer la capacité totale de plusieurs bus (passer en argument une liste de plusieurs `Bus`)."
   ]
  },
  {
   "cell_type": "code",
   "execution_count": null,
   "metadata": {},
   "outputs": [],
   "source": []
  },
  {
   "cell_type": "markdown",
   "metadata": {},
   "source": [
    "### 11. Reprendre le code de la classe `Bus`. Ajouter un attribut privé nommé `__annee`. Créer ensuite une propriété `annee` pour accéder à cette donnée en lecture seule. Créer une nouvelle instance de `Bus` nommé `bus` et vérifier que `bus.annee` retourne bien la valeur attendue. Essayer de changer la valeur de l'attribut `annee`."
   ]
  },
  {
   "cell_type": "code",
   "execution_count": 78,
   "metadata": {},
   "outputs": [],
   "source": []
  },
  {
   "cell_type": "markdown",
   "metadata": {},
   "source": [
    "### 12. Reprendre le code de la classe `Bus`. Modifier la propriété `annee` pour qu'elle soit accessible en lecture et écriture."
   ]
  },
  {
   "cell_type": "code",
   "execution_count": null,
   "metadata": {},
   "outputs": [],
   "source": []
  },
  {
   "cell_type": "markdown",
   "metadata": {},
   "source": [
    "## Ressources\n",
    "\n",
    "[Encapsulation - Datascientest](https://datascientest.com/lencapsulation-programmation-orientee-objet)  \n",
    "[Programmation orientée objet - Wikipedia](https://fr.wikipedia.org/wiki/Programmation_orient%C3%A9e_objet)  \n",
    "[Supercharge Your Classes With Python super() - Real Python](https://realpython.com/python-super/)  \n",
    "[Méthodes magiques](https://www.tutorialsteacher.com/python/magic-methods-in-python)  \n",
    "[Qu'est-ce que la programmation orientée-objet ? - Jedha](https://www.jedha.co/blog/quest-ce-que-la-programmation-orientee-objet)"
   ]
  }
 ],
 "metadata": {
  "kernelspec": {
   "display_name": "Python 3",
   "language": "python",
   "name": "python3"
  },
  "language_info": {
   "codemirror_mode": {
    "name": "ipython",
    "version": 3
   },
   "file_extension": ".py",
   "mimetype": "text/x-python",
   "name": "python",
   "nbconvert_exporter": "python",
   "pygments_lexer": "ipython3",
   "version": "3.9.0"
  }
 },
 "nbformat": 4,
 "nbformat_minor": 4
}
