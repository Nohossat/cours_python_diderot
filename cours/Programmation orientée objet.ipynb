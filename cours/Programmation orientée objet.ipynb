{
 "cells": [
  {
   "cell_type": "markdown",
   "metadata": {},
   "source": [
    "# Programmation orientée objet (POO) en Python - 7/05\n",
    "\n",
    "\n",
    "La programmation orientée objet (POO) permet la création d'objets ayant des propriétés (attributs) et comportements (méthodes) propres. Les objets sont générés à partir de classes - ces classes contiennent la définition de ces objets, elles agissent comme des \"templates\". On peut donc créer autant d'objets que l'on souhaite à partir d'une classe.\n",
    "\n",
    "La programmation orientée objet est caractérisée par certains principes. \n",
    "\n",
    "### Encapsulation\n",
    "\n",
    "Les attributs et les méthodes d'une classe sont tous rassemblés dans une classe et définis lors de son implémentation. Ils sont seulement accessibles via une **interface**. \n",
    "\n",
    "Cette interface conditionne l'accès aux données rassemblées dans un objet, ce qui permet de limiter les erreurs de manipulation (modification involontaire des données, etc..).\n",
    "\n",
    "### Héritage\n",
    "\n",
    "Une classe peut être créée à partir d'une autre. Cette caractéristique permet entre autres, de réutiliser des attributs / méthodes d'une classe mère.\n",
    "\n",
    "### Polymorphisme\n",
    "\n",
    "Ce principe découle en partie de l'héritage. \n",
    "\n",
    "Une classe B peut hériter des attributs et des méthodes d'une classe A. Mais il est aussi possible de changer l'implémentation de certaines de ces méthodes au sein de la classe B. \n",
    "\n",
    "Prenons un example: la classe A peut avoir une méthode say_hello() qui retourne le message \"Hello\"  et la classe B peut avoir la même méthode retournant le message \"Hi\". Ainsi les deux classes partagent la même interface say_hello() mais avoir une implémentation différente (messages différents en sortie). "
   ]
  },
  {
   "cell_type": "markdown",
   "metadata": {},
   "source": [
    "## La POO en Python\n",
    "\n",
    "Python permet de faire de la programmation orientée objet mais il y a certains éléments qui la distinguent de certains langages telles que Java lors de l'implémentation de son paradigme. \n",
    "\n",
    "### Comment écrit-on une classe en Python ?"
   ]
  },
  {
   "cell_type": "code",
   "execution_count": 21,
   "metadata": {},
   "outputs": [
    {
     "name": "stdout",
     "output_type": "stream",
     "text": [
      "Il s'appelle Leo, il est Noir et il a 4 pattes. Il s'agit d'un Animal.\n",
      "Noir\n"
     ]
    }
   ],
   "source": [
    "class Animal:\n",
    "    nb_yeux = 2\n",
    "    \n",
    "    def __init__(self, nom, couleur, nb_pattes):\n",
    "        self.nom = nom\n",
    "        self.couleur = couleur\n",
    "        self.pattes = nb_pattes\n",
    "        \n",
    "    def speak(self):\n",
    "        return \"Un animal ne parle pas\"\n",
    "        \n",
    "    def __str__(self):\n",
    "        return f\"Il s'appelle {self.nom}, il est {self.couleur} et il a {self.pattes} pattes. Il s'agit d'un {self.__class__.__name__}.\"\n",
    "        \n",
    "chien = Animal(\"Leo\", \"Noir\", 4)\n",
    "print(chien)\n",
    "print(chien.couleur)"
   ]
  },
  {
   "cell_type": "markdown",
   "metadata": {},
   "source": [
    "### Attributs\n",
    "\n",
    "On peut avoir deux types d'atributs de classe et d'instance: \n",
    "\n",
    "#### Attributs de classe\n",
    "\n",
    "Comme vous pouvez le voir dans la classe `Animal`, la variable `nb_yeux` est un attribut de classe. Cette variable aura la même valeur pour toutes les instances d'`Animal`.\n",
    "\n",
    "#### Attributs d'instance\n",
    "\n",
    "Les attributs sont définis lors de la création de l'objet. La création d'objet passe par l'appel de la méthode `__init__`. En l'occurrence, le nom, la couleur et le nombre de pattes de l'`Animal` sont des attributs d'instance, ils peuvent avoir des valeurs distinctes selon l'instance. "
   ]
  },
  {
   "cell_type": "markdown",
   "metadata": {},
   "source": [
    "### Méthodes d'instance / de classe et statiques\n",
    "\n",
    "#### Méthodes d'instance \n",
    "\n",
    "Dans l'exemple précédent, on observe que certaines méthodes i.e. les fonctions contenues au sein d'une classe, ont pour premier argument `self`. \n",
    "\n",
    "On le retrouve dans toutes les méthodes d'instance. Le mot-clé `self` fait référence à l'instance utilisant la méthode. On pourra ainsi accéder aux attributs d'instance. Si vous observez la méthode `__str__`, grâce au `self` on peut utiliser tous les attributs lors de la définition de la méthode. \n",
    "\n",
    "#### Méthodes de classe\n",
    "\n",
    "Les méthodes de classe sont attachées à une classe et non à une instance. Elles prennent en argument le mot-clé `cls`. Elles sont aussi précédées du décorateur `@classmethod`. \n",
    "\n",
    ">Ce type de méthode est plutôt utilisé lorsque vous souhaitez créer plusieurs constructeurs."
   ]
  },
  {
   "cell_type": "code",
   "execution_count": 22,
   "metadata": {},
   "outputs": [
    {
     "name": "stdout",
     "output_type": "stream",
     "text": [
      "Théo 33\n"
     ]
    }
   ],
   "source": [
    "from datetime import datetime\n",
    "\n",
    "class Person:\n",
    "    def __init__(self, nom, age, adresse):\n",
    "        self.nom = nom\n",
    "        self.age = age\n",
    "        self.__adresse = adresse\n",
    "        \n",
    "    @classmethod\n",
    "    def fromYear(cls, nom, year, addresse):\n",
    "        return cls(nom, datetime.now().year - year, addresse)\n",
    "        \n",
    "        \n",
    "theo = Person.fromYear(\"Théo\", 1988, \"100 rue de la Paix\")\n",
    "print(theo.nom, theo.age)"
   ]
  },
  {
   "cell_type": "markdown",
   "metadata": {},
   "source": [
    "#### Méthodes statiques\n",
    "\n",
    "Il s'agit de fonctions comme vous avez pu en voir dans les précédents notebooks sauf qu'elles sont accessibles depuis un objet. Les méthodes statiques ne prennent pas d'argument en particulier mais elles sont précédées d'un décorateur `@staticmethod`. \n",
    "\n",
    ">Les méthodes statiques sont limitées car elles ne peuvent pas accéder à l'instance ou à la classe à laquelle elles appartiennent. Par contre, elles sont utiles lorsqu'il s'agit de fonctions utilitaires."
   ]
  },
  {
   "cell_type": "code",
   "execution_count": 23,
   "metadata": {},
   "outputs": [
    {
     "data": {
      "text/plain": [
       "20"
      ]
     },
     "execution_count": 23,
     "metadata": {},
     "output_type": "execute_result"
    }
   ],
   "source": [
    "from datetime import datetime\n",
    "\n",
    "class Person:\n",
    "    def __init__(self, nom, year, adresse):\n",
    "        self.nom = nom\n",
    "        self.year = year\n",
    "        self.__adresse = adresse\n",
    "        \n",
    "    @staticmethod\n",
    "    def find_age(birth_year):\n",
    "        return datetime.now().year - birth_year\n",
    "        \n",
    "theo = Person(\"Théo\", 2001, \"100 rue de la Paix\")\n",
    "Person.find_age(theo.year)"
   ]
  },
  {
   "cell_type": "markdown",
   "metadata": {},
   "source": [
    "## L'héritage de classes en Python"
   ]
  },
  {
   "cell_type": "code",
   "execution_count": 7,
   "metadata": {},
   "outputs": [
    {
     "name": "stdout",
     "output_type": "stream",
     "text": [
      "Il s'appelle Leo, il est Noir et il a 4 pattes. Il s'agit d'un Dog.\n",
      "Il s'appelle Felix, il est Miel et il a 4 pattes. Il s'agit d'un Cat.\n",
      "Miaou\n",
      "Woaf\n",
      "Berger Allemand\n"
     ]
    }
   ],
   "source": [
    "class Cat(Animal):\n",
    "    def __init__(self, nom, couleur):\n",
    "        super().__init__(nom, couleur, 4)\n",
    "        \n",
    "    def speak(self):\n",
    "        return \"Miaou\"\n",
    "    \n",
    "class Dog(Animal):\n",
    "    def __init__(self, nom, couleur, race):\n",
    "        super().__init__(nom, couleur, 4)\n",
    "        self.race = race\n",
    "        \n",
    "    def speak(self):\n",
    "        return \"Woaf\"\n",
    "    \n",
    "chat = Cat(\"Felix\", \"Miel\")\n",
    "chien = Dog(\"Leo\", \"Noir\", \"Berger Allemand\")\n",
    "\n",
    "print(chien)\n",
    "print(chat)\n",
    "print(chat.speak())\n",
    "print(chien.speak())\n",
    "print(chien.race)"
   ]
  },
  {
   "cell_type": "markdown",
   "metadata": {},
   "source": [
    ">Pour créer une nouvelle classe à partir d'une autre, il faut passer la classe mère entre parenthèses lors de la définition de la nouvelle classe.\n",
    "\n",
    "Si vous voulez utiliser les méthodes de la classe mère dans une méthode de la classe enfant, vous pouvez utiliser la fonction `super()` comme on peut le voir dans les méthodes `__init__` de Cat et Dog."
   ]
  },
  {
   "cell_type": "markdown",
   "metadata": {},
   "source": [
    "## Encapsulation\n",
    "\n",
    "Comme dit précédemment, l'encapsulation permet de regrouper les variables et méthodes propres à une classe. On définit par la même occasion le niveau d'accès à ces derniers pour limiter les effets de bord. Cependant, contrairement à Java ou C#, les méthodes et attributs sont facilement accessibles en Python. Il n'y a pas de véritables attributs/méthodes privées.\n",
    "\n",
    "Mais on peut mettre en place certains mécanismes pour protéger certaines variables et renforcer l'accès via des fonctions spécifiques.\n",
    "\n",
    "**Méthodes / attributs protégés**\n",
    "\n",
    "Le nom d'une méthode ou d'un attribut précédé d'un underscore indique aux autres développeurs que ces éléments ne doivent pas être rendus publics. On privilégiera des méthodes pour accéder à ces variables protégées. Par ailleurs, pendant l'import d'une classe dans un autre module (ex : `import Person from python_classes`), les variables protégées ne sont pas embarquées."
   ]
  },
  {
   "cell_type": "code",
   "execution_count": 24,
   "metadata": {},
   "outputs": [
    {
     "name": "stdout",
     "output_type": "stream",
     "text": [
      "100 rue de la Paix\n",
      "100 rue de la Paix\n"
     ]
    }
   ],
   "source": [
    "class Person:\n",
    "    def __init__(self, nom, age, adresse):\n",
    "        self.nom = nom\n",
    "        self.age = age\n",
    "        self._adresse = adresse\n",
    "    \n",
    "    def displayAddress(self):\n",
    "        return self._adresse\n",
    "\n",
    "        \n",
    "john = Person(\"John\", 20, \"100 rue de la Paix\")\n",
    "print(john.displayAddress())\n",
    "print(john._adresse) # toujours accessible"
   ]
  },
  {
   "cell_type": "markdown",
   "metadata": {},
   "source": [
    "> Malheureusement, comme vous pouvez le constater, ces variables protégées sont parfaitement accessibles.\n",
    "\n",
    "Si ce niveau d'accès est insuffisant, vous pouvez aussi opté pour les **variables privées**."
   ]
  },
  {
   "cell_type": "markdown",
   "metadata": {},
   "source": [
    "**Méthodes / attributs privés**\n",
    "\n",
    "En ajoutant deux underscores devant le nom de la méthode / attribut, on rend impossible l'accès à l'élément tel quel: Python change le nom de l'élément."
   ]
  },
  {
   "cell_type": "code",
   "execution_count": 16,
   "metadata": {},
   "outputs": [
    {
     "ename": "AttributeError",
     "evalue": "'Person' object has no attribute '__age'",
     "output_type": "error",
     "traceback": [
      "\u001b[0;31m---------------------------------------------------------------------------\u001b[0m",
      "\u001b[0;31mAttributeError\u001b[0m                            Traceback (most recent call last)",
      "\u001b[0;32m<ipython-input-16-6e163473ef6b>\u001b[0m in \u001b[0;36m<module>\u001b[0;34m\u001b[0m\n\u001b[1;32m     10\u001b[0m \u001b[0;34m\u001b[0m\u001b[0m\n\u001b[1;32m     11\u001b[0m \u001b[0mjohn\u001b[0m \u001b[0;34m=\u001b[0m \u001b[0mPerson\u001b[0m\u001b[0;34m(\u001b[0m\u001b[0;34m\"John\"\u001b[0m\u001b[0;34m,\u001b[0m \u001b[0;36m20\u001b[0m\u001b[0;34m,\u001b[0m \u001b[0;34m\"100 rue de la Paix\"\u001b[0m\u001b[0;34m)\u001b[0m\u001b[0;34m\u001b[0m\u001b[0;34m\u001b[0m\u001b[0m\n\u001b[0;32m---> 12\u001b[0;31m \u001b[0mjohn\u001b[0m\u001b[0;34m.\u001b[0m\u001b[0m__age\u001b[0m \u001b[0;31m# erreur\u001b[0m\u001b[0;34m\u001b[0m\u001b[0;34m\u001b[0m\u001b[0m\n\u001b[0m",
      "\u001b[0;31mAttributeError\u001b[0m: 'Person' object has no attribute '__age'"
     ]
    }
   ],
   "source": [
    "class Person:\n",
    "    def __init__(self, nom, age, adresse):\n",
    "        self.nom = nom\n",
    "        self.__age = age\n",
    "        self._adresse = adresse\n",
    "        \n",
    "    def displayAge(self):\n",
    "        return self.__age\n",
    "        \n",
    "        \n",
    "john = Person(\"John\", 20, \"100 rue de la Paix\")\n",
    "john.__age # erreur"
   ]
  },
  {
   "cell_type": "code",
   "execution_count": 17,
   "metadata": {},
   "outputs": [
    {
     "name": "stdout",
     "output_type": "stream",
     "text": [
      "20\n"
     ]
    }
   ],
   "source": [
    "# accès possible avec la méthode displayAge \n",
    "print(john.displayAge())"
   ]
  },
  {
   "cell_type": "markdown",
   "metadata": {},
   "source": [
    "> Pour y accéder, il faut ajouter _NomClasse devant le nom de l'attribut."
   ]
  },
  {
   "cell_type": "code",
   "execution_count": 18,
   "metadata": {},
   "outputs": [
    {
     "data": {
      "text/plain": [
       "20"
      ]
     },
     "execution_count": 18,
     "metadata": {},
     "output_type": "execute_result"
    }
   ],
   "source": [
    "john._Person__age # non recommandé"
   ]
  },
  {
   "cell_type": "markdown",
   "metadata": {},
   "source": [
    "## Les propriétés\n",
    "\n",
    "Les propriétés sont bien utiles lorsque vous souhaitez implémenter les accès en lecture / écriture aux variables protégées / privées. "
   ]
  },
  {
   "cell_type": "code",
   "execution_count": 25,
   "metadata": {},
   "outputs": [
    {
     "name": "stdout",
     "output_type": "stream",
     "text": [
      "20\n"
     ]
    },
    {
     "ename": "AttributeError",
     "evalue": "can't set attribute",
     "output_type": "error",
     "traceback": [
      "\u001b[0;31m---------------------------------------------------------------------------\u001b[0m",
      "\u001b[0;31mAttributeError\u001b[0m                            Traceback (most recent call last)",
      "\u001b[0;32m<ipython-input-25-ce0371f3724e>\u001b[0m in \u001b[0;36m<module>\u001b[0;34m\u001b[0m\n\u001b[1;32m     11\u001b[0m \u001b[0mtheo\u001b[0m \u001b[0;34m=\u001b[0m \u001b[0mPerson\u001b[0m\u001b[0;34m(\u001b[0m\u001b[0;34m\"Théo\"\u001b[0m\u001b[0;34m,\u001b[0m \u001b[0;36m20\u001b[0m\u001b[0;34m,\u001b[0m \u001b[0;34m\"100 rue de la Paix\"\u001b[0m\u001b[0;34m)\u001b[0m\u001b[0;34m\u001b[0m\u001b[0;34m\u001b[0m\u001b[0m\n\u001b[1;32m     12\u001b[0m \u001b[0mprint\u001b[0m\u001b[0;34m(\u001b[0m\u001b[0mtheo\u001b[0m\u001b[0;34m.\u001b[0m\u001b[0mpoids\u001b[0m\u001b[0;34m)\u001b[0m\u001b[0;34m\u001b[0m\u001b[0;34m\u001b[0m\u001b[0m\n\u001b[0;32m---> 13\u001b[0;31m \u001b[0mtheo\u001b[0m\u001b[0;34m.\u001b[0m\u001b[0mpoids\u001b[0m \u001b[0;34m=\u001b[0m \u001b[0;36m30\u001b[0m \u001b[0;31m# génère une erreur\u001b[0m\u001b[0;34m\u001b[0m\u001b[0;34m\u001b[0m\u001b[0m\n\u001b[0m",
      "\u001b[0;31mAttributeError\u001b[0m: can't set attribute"
     ]
    }
   ],
   "source": [
    "class Person:\n",
    "    def __init__(self, nom, age, adresse):\n",
    "        self.nom = nom\n",
    "        self.age = age\n",
    "        self.__adresse = adresse\n",
    "        \n",
    "    @property\n",
    "    def poids(self):\n",
    "        return 20\n",
    "        \n",
    "theo = Person(\"Théo\", 20, \"100 rue de la Paix\")\n",
    "print(theo.poids)\n",
    "theo.poids = 30 # génère une erreur"
   ]
  },
  {
   "cell_type": "markdown",
   "metadata": {},
   "source": [
    "> Ici la propriété `poids` permet un accès en lecture seule à l'attribut privé `__poids__`."
   ]
  },
  {
   "cell_type": "markdown",
   "metadata": {},
   "source": [
    "#### Ecriture des méthodes d'accès\n",
    "\n",
    "Les propriétés peuvent aussi servir pour créer des accesseurs / mutateurs (getters / setters)."
   ]
  },
  {
   "cell_type": "code",
   "execution_count": 31,
   "metadata": {},
   "outputs": [
    {
     "name": "stdout",
     "output_type": "stream",
     "text": [
      "le poids de Théo est 20\n"
     ]
    },
    {
     "ename": "ValueError",
     "evalue": "Le poids doit être inférieure à 400 kilos",
     "output_type": "error",
     "traceback": [
      "\u001b[0;31m---------------------------------------------------------------------------\u001b[0m",
      "\u001b[0;31mValueError\u001b[0m                                Traceback (most recent call last)",
      "\u001b[0;32m<ipython-input-31-25655c9ebd56>\u001b[0m in \u001b[0;36m<module>\u001b[0;34m\u001b[0m\n\u001b[1;32m     22\u001b[0m \u001b[0mtheo\u001b[0m \u001b[0;34m=\u001b[0m \u001b[0mPerson\u001b[0m\u001b[0;34m(\u001b[0m\u001b[0;34m\"Théo\"\u001b[0m\u001b[0;34m,\u001b[0m \u001b[0;36m20\u001b[0m\u001b[0;34m,\u001b[0m \u001b[0;34m\"100 rue de la Paix\"\u001b[0m\u001b[0;34m)\u001b[0m\u001b[0;34m\u001b[0m\u001b[0;34m\u001b[0m\u001b[0m\n\u001b[1;32m     23\u001b[0m \u001b[0mprint\u001b[0m\u001b[0;34m(\u001b[0m\u001b[0mtheo\u001b[0m\u001b[0;34m.\u001b[0m\u001b[0mpoids\u001b[0m\u001b[0;34m)\u001b[0m\u001b[0;34m\u001b[0m\u001b[0;34m\u001b[0m\u001b[0m\n\u001b[0;32m---> 24\u001b[0;31m \u001b[0mtheo\u001b[0m\u001b[0;34m.\u001b[0m\u001b[0mpoids\u001b[0m \u001b[0;34m=\u001b[0m \u001b[0;36m500\u001b[0m\u001b[0;34m\u001b[0m\u001b[0;34m\u001b[0m\u001b[0m\n\u001b[0m",
      "\u001b[0;32m<ipython-input-31-25655c9ebd56>\u001b[0m in \u001b[0;36mpoids\u001b[0;34m(self, nouveau_poids)\u001b[0m\n\u001b[1;32m     13\u001b[0m     \u001b[0;32mdef\u001b[0m \u001b[0mpoids\u001b[0m\u001b[0;34m(\u001b[0m\u001b[0mself\u001b[0m\u001b[0;34m,\u001b[0m \u001b[0mnouveau_poids\u001b[0m\u001b[0;34m)\u001b[0m\u001b[0;34m:\u001b[0m\u001b[0;34m\u001b[0m\u001b[0;34m\u001b[0m\u001b[0m\n\u001b[1;32m     14\u001b[0m         \u001b[0;32mif\u001b[0m \u001b[0mnouveau_poids\u001b[0m \u001b[0;34m>\u001b[0m \u001b[0;36m400\u001b[0m\u001b[0;34m:\u001b[0m\u001b[0;34m\u001b[0m\u001b[0;34m\u001b[0m\u001b[0m\n\u001b[0;32m---> 15\u001b[0;31m             \u001b[0;32mraise\u001b[0m \u001b[0mValueError\u001b[0m\u001b[0;34m(\u001b[0m\u001b[0;34m\"Le poids doit être inférieure à 400 kilos\"\u001b[0m\u001b[0;34m)\u001b[0m\u001b[0;34m\u001b[0m\u001b[0;34m\u001b[0m\u001b[0m\n\u001b[0m\u001b[1;32m     16\u001b[0m         \u001b[0mself\u001b[0m\u001b[0;34m.\u001b[0m\u001b[0m__poids\u001b[0m \u001b[0;34m=\u001b[0m \u001b[0mnouveau_poids\u001b[0m\u001b[0;34m\u001b[0m\u001b[0;34m\u001b[0m\u001b[0m\n\u001b[1;32m     17\u001b[0m \u001b[0;34m\u001b[0m\u001b[0m\n",
      "\u001b[0;31mValueError\u001b[0m: Le poids doit être inférieure à 400 kilos"
     ]
    }
   ],
   "source": [
    "class Person:\n",
    "    def __init__(self, nom, age, adresse):\n",
    "        self.nom = nom\n",
    "        self.age = age\n",
    "        self.__adresse = adresse\n",
    "        self.__poids = 20\n",
    "        \n",
    "    @property # on définit d'abord la propriété poids\n",
    "    def poids(self):\n",
    "        return self.__poids\n",
    "    \n",
    "    @poids.setter # mutateur, on peut inclure une condition préalable à la modification de l'attribut\n",
    "    def poids(self, nouveau_poids):\n",
    "        if nouveau_poids > 400:\n",
    "            raise ValueError(\"Le poids doit être inférieure à 400 kilos\")\n",
    "        self.__poids = nouveau_poids\n",
    "        \n",
    "    @poids.getter # accesseur : si on veut changer la méthode de lecture de la variable\n",
    "    def poids(self):\n",
    "        return f\"le poids de {self.nom} est {self.__poids}\"\n",
    "        \n",
    "theo = Person(\"Théo\", 20, \"100 rue de la Paix\")\n",
    "print(theo.poids)\n",
    "theo.poids = 500"
   ]
  },
  {
   "cell_type": "markdown",
   "metadata": {},
   "source": [
    "## Exercice\n",
    "\n",
    "### 1. Créer une classe `Vehicule` avec les attributs `marque`, `vitesse_max`, `kilométrage`, `nb_places` et une `méthode afficher_nb_places`, affichant le nombre de places dans le véhicule"
   ]
  },
  {
   "cell_type": "code",
   "execution_count": null,
   "metadata": {},
   "outputs": [],
   "source": []
  },
  {
   "cell_type": "markdown",
   "metadata": {},
   "source": [
    "### 2. Créer une classe enfant `Bus` qui héritera des attributs / méthodes de la classe `Vehicule`. Ajouter un attribut `prix_ticket`."
   ]
  },
  {
   "cell_type": "code",
   "execution_count": null,
   "metadata": {},
   "outputs": [],
   "source": []
  },
  {
   "cell_type": "markdown",
   "metadata": {},
   "source": [
    "### 3. Reprendre le code de la classe `Bus`. Ajouter une méthode `calculer_gain_total` retournant le produit de `nb_places` et du `prix_ticket`."
   ]
  },
  {
   "cell_type": "code",
   "execution_count": null,
   "metadata": {},
   "outputs": [],
   "source": []
  },
  {
   "cell_type": "markdown",
   "metadata": {},
   "source": [
    "### 4. Créer une instance `mercedes` de type `Vehicule` et un `bus_ecole` de type `Bus`. Vérifier à quelle classe appartient chaque objet."
   ]
  },
  {
   "cell_type": "code",
   "execution_count": null,
   "metadata": {},
   "outputs": [],
   "source": []
  },
  {
   "cell_type": "markdown",
   "metadata": {},
   "source": [
    "### 5. Appeler la méthode `afficher_nb_places` de `mercedes` et `bus_ecole`."
   ]
  },
  {
   "cell_type": "code",
   "execution_count": null,
   "metadata": {},
   "outputs": [],
   "source": []
  },
  {
   "cell_type": "markdown",
   "metadata": {},
   "source": [
    "### 6. Reprendre le code de la classe `Vehicule`. Ajouter une méthode `__repr__` à `Vehicule`. Cette fonction permet de modifier la description d'une instance. Essayer d'utiliser tous les attributs pour donner la description la plus exhaustive possible. Créer une instance `Vehicule` nommée `moto`. Vérifier que `print(moto)` correspond au résultat de la méthode `__repr__`."
   ]
  },
  {
   "cell_type": "code",
   "execution_count": 42,
   "metadata": {},
   "outputs": [],
   "source": []
  },
  {
   "cell_type": "markdown",
   "metadata": {},
   "source": [
    "### 7. Reprendre le code de la classe Vehicule. Ajouter une méthode de classe `fromYear` permettant de créer un véhicule autrement. Cette méthode prendra en argument tous les éléments nécessaires pour créer un `Vehicule` à l'exception de `kilométrage`. On l'estimera en fonction d'un paramètre supplémentaire `annee` correspondant à l'année de fabrication du `Véhicule`. On supposera que depuis sa fabrication, le véhicule aura roulé 200km par an. Il faudra donc calculer le kilométrage total depuis la fabrication du véhicule. \n",
    "\n",
    "(Voir dans le cours l'exemple sur les méthodes de classe pour récupérer le nombre d'années de fonctionnement)."
   ]
  },
  {
   "cell_type": "code",
   "execution_count": null,
   "metadata": {},
   "outputs": [],
   "source": []
  },
  {
   "cell_type": "markdown",
   "metadata": {},
   "source": [
    "### 8. Reprendre le code de la classe `Bus`. Ajouter un attribut protégé `annee`. Créer une nouvelle instance de `Bus`. Pouvez-vous accéder à l'attribut `annee` ?"
   ]
  },
  {
   "cell_type": "code",
   "execution_count": null,
   "metadata": {},
   "outputs": [],
   "source": []
  },
  {
   "cell_type": "markdown",
   "metadata": {},
   "source": [
    "### 9. Reprendre le code de la classe Bus. Ajouter un attribut privé `usure` de type booléen. Faites les modifications qui s'imposent pour que le code continue de fonctionner. Afficher l'attribut `usure` de `bus_ecole`. Qu'obtenez-vous ?"
   ]
  },
  {
   "cell_type": "code",
   "execution_count": null,
   "metadata": {},
   "outputs": [],
   "source": []
  },
  {
   "cell_type": "markdown",
   "metadata": {},
   "source": [
    "### 10. Reprendre le code de la classe Bus. Créer une méthode statique nommé `getFullCapacity` qui nous permettra de calculer la capacité totale de plusieurs bus (passer en argument une liste de plusieurs `Bus`)."
   ]
  },
  {
   "cell_type": "code",
   "execution_count": null,
   "metadata": {},
   "outputs": [],
   "source": []
  },
  {
   "cell_type": "markdown",
   "metadata": {},
   "source": [
    "### 11. Reprendre le code de la classe `Bus`. Ajouter un attribut privé nommé `__annee`. Créer ensuite une propriété `annee` pour accéder à cette donnée en lecture seule. Créer une nouvelle instance de `Bus` nommé `bus` et vérifier que `bus.annee` retourne bien la valeur attendue. Essayer de changer la valeur de l'attribut `annee`."
   ]
  },
  {
   "cell_type": "code",
   "execution_count": 78,
   "metadata": {},
   "outputs": [],
   "source": []
  },
  {
   "cell_type": "markdown",
   "metadata": {},
   "source": [
    "### 12. Reprendre le code de la classe `Bus`. Modifier la propriété `annee` pour qu'elle soit accessible en lecture et écriture."
   ]
  },
  {
   "cell_type": "code",
   "execution_count": null,
   "metadata": {},
   "outputs": [],
   "source": []
  },
  {
   "cell_type": "markdown",
   "metadata": {},
   "source": [
    "## Ressources\n",
    "\n",
    "[Encapsulation - Datascientest](https://datascientest.com/lencapsulation-programmation-orientee-objet)  \n",
    "[Programmation orientée objet - Wikipedia](https://fr.wikipedia.org/wiki/Programmation_orient%C3%A9e_objet)  \n",
    "[Supercharge Your Classes With Python super() - Real Python](https://realpython.com/python-super/)  \n",
    "[Méthodes magiques](https://www.tutorialsteacher.com/python/magic-methods-in-python)  \n",
    "[Qu'est-ce que la programmation orientée-objet ? - Jedha](https://www.jedha.co/blog/quest-ce-que-la-programmation-orientee-objet)"
   ]
  }
 ],
 "metadata": {
  "kernelspec": {
   "display_name": "Python 3",
   "language": "python",
   "name": "python3"
  },
  "language_info": {
   "codemirror_mode": {
    "name": "ipython",
    "version": 3
   },
   "file_extension": ".py",
   "mimetype": "text/x-python",
   "name": "python",
   "nbconvert_exporter": "python",
   "pygments_lexer": "ipython3",
   "version": "3.9.0"
  }
 },
 "nbformat": 4,
 "nbformat_minor": 4
}
