{
 "cells": [
  {
   "cell_type": "markdown",
   "metadata": {},
   "source": [
    "# Expressions régulières - 09/04"
   ]
  },
  {
   "cell_type": "markdown",
   "metadata": {},
   "source": [
    "\n",
    "## Qu'est-ce qu'une expression régulière ?\n",
    "\n",
    "Il s'agit d'une chaîne de caractères qui vient décrire selon une syntaxe précise un ensemble de chaînes de caractères. Les expressions régulières ou regex sont utilisées dans de nombreux langages de programmation. Elles sont très utiles pour analyser, modifier des textes, la manipulation de données, le web scraping et la validation de textes.\n",
    "\n",
    "## Sites pour tester ses regex\n",
    "\n",
    "Si vous souhaitez tester l'efficacité de vos regex sans passer par du code, je vous conseille ces deux sites :\n",
    "\n",
    "- [RegexR](https://regexr.com/)\n",
    "- [Regex101](https://regex101.com/)\n",
    "\n",
    "## Les patterns à connaître\n",
    "\n",
    "On va illustrer les expressions régulières basiques. La création de patterns à partir de combinaisons d'expressions régulières nous permet d'identifier des chaînes de caractères telles que les numéros de téléphone, les adresses mail, etc...\n",
    "\n",
    "### Classes de caractères et méta-caractères\n",
    "\n",
    "**Les classes de caractère**\n",
    "\n",
    "La plupart des caractères lorsqu'ils sont utilisés dans une expression régulière correspondront à eux-mêmes. \n",
    "\n",
    "Ainsi la regex `hello` correspondra à la chaîne de caractères **hello**.\n",
    "\n",
    ">Les classes de caractères sont des expressions régulières identifiées par des crochets `[]` et permettent d'identifier un caractère à partir d'un ou plusieurs caractères possibles. \n",
    "\n",
    "ex : `[a]` - avec ce pattern on veut identifier la lettre **a** dans une chaîne de caractères.\n",
    "\n",
    "Comment identifier toutes les **voyelles** dans **Hello World** ?  \n",
    "=> recherche globale dans un texte avec la classe de caractère `[aeyuio]`  \n",
    "\n",
    "\n",
    "**Les méta-caractères et opérateurs**  \n",
    "\n",
    "Cependant, certains caractères revêtent une autre signification que leur sens d'origine. Grâce à cette caractéristique, on peut influer sur le comportement global de la regex et construire des patterns assez puissants.\n",
    "\n",
    "\n",
    "| Méta-caractère | Description | Example | Type de résultat |\n",
    "|--------------|-----------|-------|-----------------|\n",
    "|\\\\|permet d'échapper un méta-caractère|\\\\.| identifie un point |\n",
    "|-|indique des intervalles de caractères|[a-f]| identifie un caracère pouvant être compris entre a et f |\n",
    "| . | Tout type de caractère | . | a ou 9 ou un espace blanc etc...|\n",
    "| ^ | Indique le début d'une chaîne de caractères ou marque la négation d'une chaîne de caractères | `[^aeyuio]` | identifie une consonne |\n",
    "| $ | Indique la fin d'une chaîne de caractères | - | - |\n",
    "|\\*|0 ou plusieurs occurrences|a\\*b| aaaab ou b|\n",
    "|?|0 ou aucun (rend le caractère optionnel)|hell?o| hello ou helo |\n",
    "|+|une ou plusieurs occurrences|\\d+| 1728 ou 8|\n",
    "|\\||symbole OU|hello\\|hola| hello ou hola |\n",
    "|{}|indique un quantifier|{1,} ou {2, 4}, {3}| {1,} : une ou plusieurs occurrences / {2, 4} : entre 2 et 4 occurrences \\ {3} : 3 occurrences |\n",
    "|[]|indique une classe de caractères|[aeyuio]| identifie une voyelle |\n",
    "|()|indique un groupe capturant|(hello)| identifie la chaîne de caractères **hello** |\n",
    "\n",
    "\n",
    "\n",
    "Les méta-caractères couplés à des lettres ou autres symboles permettent d'aller plus vite dans nos recherches:\n",
    "\n",
    "|Méta-caractère|Description|Example|Types de résultat|\n",
    "|--------------|-----------|-------|-----------------|\n",
    "|\\w| Tout caractère alphanumérique (chiffres et lettres non accentuées) et l'underscore | \\w\\w| ab ou d9 ou 89|\n",
    "|\\d| Tout caractère numérique | \\d| 9 |\n",
    "|\\s| Tout espace blanc (espace, retour à la ligne) | - | - |"
   ]
  },
  {
   "cell_type": "markdown",
   "metadata": {},
   "source": [
    ">Vous pouvez obtenir la négation de ces meta-caractères en passant les lettres w, d ou s en majuscule.\n",
    "\n",
    "\n",
    "|Meta-caractère|Description|Example|Types de résultat|\n",
    "|--------------|-----------|-------|-----------------|\n",
    "|\\W| Tout caractère qui ne soit ni alphanumérique (chiffres et lettres non accentuées) ni un underscore | \\W | espace blanc |\n",
    "|\\D| Tout caractère non numérique | \\D | a |\n",
    "|\\S| Tout caractère qui ne représente pas un espace blanc | \\S | 9 |\n",
    "\n",
    "Les méta-caractères suivent permettent d'identifier plusieurs types d'espace blanc.\n",
    "\n",
    "|Meta-caractère|Description|\n",
    "|--------------|----|\n",
    "|\\t| Tabulation |\n",
    "|\\n| Retour à la ligne |\n",
    "|\\r| Retour chariot |\n",
    "\n",
    "Lorsqu'ils sont utilisés dans une classe de caractère, les meta-caractères n'ont pas de sens particulier à l'exception de `\\`, `^` et `-` (voir le tableau des correspondances ci-dessus)."
   ]
  },
  {
   "cell_type": "markdown",
   "metadata": {},
   "source": [
    "## Exercices\n",
    "\n",
    "### Avec l'outil en ligne, [regexr](https://regexr.com/), trouver des expressions régulières permettant d'identifier les chaînes de caractères suivantes : \n",
    "\n",
    "- \"Hello\"\n",
    "- \"success\"\n",
    "- \"john.doe87@gmail.com\"\n",
    "- \"007 James Bond\"\n",
    "- \"ABBA\" et \"ABA\"\n",
    "- \"fichier_python\"\n",
    "- \"Nous sommes le 8 septembre\"\n",
    "- Nous sommes le 8 septembre !\""
   ]
  },
  {
   "cell_type": "markdown",
   "metadata": {},
   "source": [
    "### Greedy / Lazy operators\n",
    "\n",
    "Voici un exemple pour mieux comprendre le phénomène des méta-caractères gourmands :\n",
    "\n",
    "Nous avons la phrase suivante et nous voulons capturer toutes les sous-chaînes commençant par 0 et se terminant par 1.\n",
    "\n",
    "> Voici un 0 et voici un 1, ce texte n'apparaît plus après le premier 0 et le premier 1"
   ]
  },
  {
   "cell_type": "markdown",
   "metadata": {},
   "source": [
    "> Avez-vous une idée de regex pour satisfaire la requête ?"
   ]
  },
  {
   "cell_type": "markdown",
   "metadata": {
    "jupyter": {
     "source_hidden": true
    }
   },
   "source": [
    "Une première solution serait : `0.*1`. Si on teste cette regex dans RegexR, voici le phrase identifiée : \n",
    "\n",
    "**\"0 et voici un 1, ce texte n'apparaît plus après le premier 0 et le premier 1\".**\n",
    "\n",
    "Le résultat est partiellement correct. Le méta-caractère `.` associé à l'opérateur `*` essaie de capturer le plus de caractères possibles, donc après avoir identifié un premier 0, il va aller le plus loin possible dans la chaîne de caractère en faisant fi du critère d'arrêt.\n",
    "\n",
    "Il existe heureusement un moyen de restreindre la recherche. Si vous tester la regex suivante : `0.*?1` vous verrez que les deux sous-chaînes de caractère sont clairement identifiées. Le point d'interrogation après l'opérateur `*` le rend parasseux. Au lieu d'essayer de capturer le plus de caractères possibles, `.*` s'arrêtera lorsque le caractère suivant le ? sera identifié en l'occurrence le chiffre 1."
   ]
  },
  {
   "cell_type": "markdown",
   "metadata": {},
   "source": [
    "### Groupes (capturants / non-capturants / captures nommées)\n",
    "\n",
    "#### Groupes capturants\n",
    "\n",
    "On peut grouper plusieurs caractères dans un pattern grâce à des parenthèses. Ce groupement permet :\n",
    "- de capturer une sous-chaîne\n",
    "- d'utiliser la sous-chaîne pour d'autres opérations\n",
    "- d'appliquer des traitements ultérieurs à la sous-chaîne (concept avancé : Backreferences, nous les aborderons pas dans ce notebook)\n",
    "\n",
    "\n",
    "**Example:**  \n",
    "\n",
    "ex3 = \"Nous sommes le 8 septembre !\"\n",
    "regex : `(sommes)\\s\\w{2}`\n",
    "\n",
    "résultat : **sommes** le\n",
    "\n",
    "#### Groupes non-capturants\n",
    "\n",
    "Cette option permet d'identifier des sous-chaînes sans pour autant les mémoriser. Un groupe non capturant utilise aussi des parenthèses mais avec les symboles `?:` après la parenthèse ouvrante. L'exemple suivant permet de se rendre compte de l'utilité de ce type de groupements : \n",
    "\n",
    "**Example**\n",
    "\n",
    "ex4 = \"http://stackoverflow.com/\"  \n",
    "ex5 = \"https://stackoverflow.com/questions/tagged/regex\"\n",
    "\n",
    "regex : `(https?|ftp):\\/\\/([^/\\s]+)(\\/[^\\s]*)?`\n",
    "\n",
    "Pour ex4, la regex identifiera la chaîne dans son ensemble et des groupes :\n",
    "- http://stackoverflow.com/\n",
    "\n",
    "Groupes : \n",
    "- http\n",
    "- stackoverflow.com\n",
    "- /\n",
    "\n",
    "Idem pour l'ex5:\n",
    "- https://stackoverflow.com/questions/tagged/regex\n",
    "\n",
    "Groupes : \n",
    "- https\n",
    "- stackoverflow.com\n",
    "- /questions/tagged/regex\n",
    "\n",
    "L'usage des groupements nous permet de faciliter la recherche d'urls commençant par http, https ou ftp. Par contre, si on ne souhaite pas conserver les protocoles (http / ftp) dans des groupes, on peut faire appel aux groupes non-capturants.\n",
    "\n",
    "nouvelle regex : `(?:https?|ftp):\\/\\/([^/\\s]+)(\\/[^\\s]*)?`\n",
    "\n",
    "Résultats :   \n",
    "pour ex4 => **stackoverflow.com**    \n",
    "pour ex5 => **stackoverflow.com** et **/questions/tagged/regex**"
   ]
  },
  {
   "cell_type": "markdown",
   "metadata": {},
   "source": [
    "## Exercices\n",
    "\n",
    "Utilisez les groupes capturants et non-capturants pour résoudre les prochains problèmes: \n",
    "\n",
    "#### 1. 1. Nous avons 3 fichiers nommés `text1.txt`, `text_json.json` et `text_js.js`. Créer une regex pour récupérer le basename des fichiers avec l'extension txt ou json."
   ]
  },
  {
   "cell_type": "code",
   "execution_count": null,
   "metadata": {},
   "outputs": [],
   "source": []
  },
  {
   "cell_type": "markdown",
   "metadata": {},
   "source": [
    "#### 2. Voici 3 urls : \n",
    "https://example.com/news/article1,  \n",
    "https://example.com/promotions/promo1,   \n",
    "https://example.com/cadeaux/cadeau1.  \n",
    "Créer une regex pour récupérer les catégories d'une part (news, promotions, cadeaux) et le nom des pages de l'autre (article1, promo1, cadeau1)."
   ]
  },
  {
   "cell_type": "code",
   "execution_count": null,
   "metadata": {},
   "outputs": [],
   "source": []
  },
  {
   "cell_type": "markdown",
   "metadata": {},
   "source": [
    "#### 3. Créer une regex pour extraire une date (format : JJ-MM-AAAA) d'un texte. Utiliser les groupes capturants pour pouvoir sélectionner dans la date, le jour, le mois et l'année."
   ]
  },
  {
   "cell_type": "code",
   "execution_count": null,
   "metadata": {},
   "outputs": [],
   "source": []
  },
  {
   "cell_type": "markdown",
   "metadata": {},
   "source": [
    "## Les lookaround\n",
    "\n",
    "Ce type d'expressions régulières est très utile lorsque l'on souhaite identifier des chaînes de caractères en fonction des caractères qui les entourent. \n",
    "\n",
    "### Lookahead positifs et négatifs\n",
    "\n",
    "On peut utiliser les lookahead positifs ou négatifs pour identifier une chaîne de caractères suivie ou non par un pattern.\n",
    "\n",
    "`gant(?=s)` cette expression régulière va identifier les occurrences du mot **gant** mais au pluriel seulement. \n",
    "\n",
    "`vend(?!re)` cette expression régulière va identifier les occurrences du mot **vend** et ignorer le verbe **vendre**\n",
    "\n",
    "### Lookbehind positifs et négatifs\n",
    "\n",
    "Avec les lookbehind on va observer les caractères précédant la chaîne de caractères à identifier.\n",
    "\n",
    "`(?<=ar)ranger` cette expression régulière va identifier les occurrences du mot **arranger** et ignorer le mot **ranger**. \n",
    "\n",
    "`(?<!ap)porter` cette expression régulière va identifier les occurrences du mot **porter** et ignorer le mot **apporter**"
   ]
  },
  {
   "cell_type": "markdown",
   "metadata": {},
   "source": [
    "## Exercices\n",
    "\n",
    ">Il avait d’abord commencé par récupérer des informations depuis l’ordinateur de David, puis il était allé les chercher sur Internet. Il avait lui même programmé l’ordinateur de David afin d’avoir un premier lien vers le monde extérieur : la voix. Il pouvait entendre la voix de David, mais ne la comprenait pas. C’est alors qu’il a décidé d’aller lui même à l’information. Il s’est alors \"transporté\" sur Internet afin de choisir une nouvelle \"maison\". Il lui a été beaucoup plus facile de programmer ce nouvel ordinateur afin d’entendre une nouvelle voix.\n",
    "\n",
    "A partir du texte ci-dessous et de regex, créer les regex suivantes : \n",
    "\n",
    "#### 1. Trouver les occurrences du mot \"ordinateur\" sans qu'il ne soit suivi de \"de David\"\n"
   ]
  },
  {
   "cell_type": "code",
   "execution_count": null,
   "metadata": {},
   "outputs": [],
   "source": []
  },
  {
   "cell_type": "markdown",
   "metadata": {},
   "source": [
    "#### 2. Trouver toutes les occurrences du mot \"Il\" directement suivi d'un espace et du mot \"avait\"\n"
   ]
  },
  {
   "cell_type": "code",
   "execution_count": null,
   "metadata": {},
   "outputs": [],
   "source": []
  },
  {
   "cell_type": "markdown",
   "metadata": {},
   "source": [
    "#### 3. Trouver tous les mots entourés de guillemets"
   ]
  },
  {
   "cell_type": "code",
   "execution_count": null,
   "metadata": {},
   "outputs": [],
   "source": []
  },
  {
   "cell_type": "markdown",
   "metadata": {},
   "source": [
    "#### 4. Trouver tous les mots suivis directement d'un point"
   ]
  },
  {
   "cell_type": "code",
   "execution_count": null,
   "metadata": {},
   "outputs": [],
   "source": []
  },
  {
   "cell_type": "markdown",
   "metadata": {},
   "source": [
    "## Les regex en Python (module re)\n",
    "\n",
    "L'utilisation des regex avec Python se fait généralement avec la bibliothèque standard **re**. Certaines fonctionnalités peuvent être trouvées dans d'autres bibliothèques telles que **pandas**."
   ]
  },
  {
   "cell_type": "code",
   "execution_count": 1,
   "metadata": {},
   "outputs": [],
   "source": [
    "import re"
   ]
  },
  {
   "cell_type": "markdown",
   "metadata": {},
   "source": [
    "Il existe deux manières d'écrire des regex en Python : "
   ]
  },
  {
   "cell_type": "code",
   "execution_count": 2,
   "metadata": {},
   "outputs": [],
   "source": [
    "regex = r'\\w*'\n",
    "regex_string = '\\\\w*'"
   ]
  },
  {
   "cell_type": "markdown",
   "metadata": {},
   "source": [
    "La première façon d'écrire la raw string est plus lisible cependant."
   ]
  },
  {
   "cell_type": "markdown",
   "metadata": {},
   "source": [
    "### Match, Search\n",
    "\n",
    "La methode **match** permet d'identifier un motif situé au début de la chaîne de caractères."
   ]
  },
  {
   "cell_type": "code",
   "execution_count": 3,
   "metadata": {},
   "outputs": [
    {
     "name": "stdout",
     "output_type": "stream",
     "text": [
      "Et\n"
     ]
    }
   ],
   "source": [
    "string = 'Et interdum acciderat, ut siquid.'\n",
    "\n",
    "result = re.match(r'\\w*', string)\n",
    "print(result.group())"
   ]
  },
  {
   "cell_type": "markdown",
   "metadata": {},
   "source": [
    "La methode **search** permet d'identifier la première occurrence dans la chaîne de caractères, peu importe sa position dans le texte."
   ]
  },
  {
   "cell_type": "code",
   "execution_count": 4,
   "metadata": {},
   "outputs": [
    {
     "name": "stdout",
     "output_type": "stream",
     "text": [
      "20\n"
     ]
    }
   ],
   "source": [
    "string = 'Amphiarao referente aut Marcio, quondam vatibus inclitis, postridie 20 disceret imperator.'\n",
    "\n",
    "result = re.search(r'\\d+', string)\n",
    "print(result.group())"
   ]
  },
  {
   "cell_type": "markdown",
   "metadata": {},
   "source": [
    "### Find all"
   ]
  },
  {
   "cell_type": "code",
   "execution_count": 31,
   "metadata": {
    "collapsed": true,
    "jupyter": {
     "outputs_hidden": true
    }
   },
   "outputs": [
    {
     "data": {
      "text/plain": [
       "['Amphiarao',\n",
       " 'referente',\n",
       " 'aut',\n",
       " 'Marcio',\n",
       " 'quondam',\n",
       " 'vatibus',\n",
       " 'inclitis',\n",
       " 'postridie',\n",
       " '20',\n",
       " 'disceret',\n",
       " 'imperator']"
      ]
     },
     "execution_count": 31,
     "metadata": {},
     "output_type": "execute_result"
    }
   ],
   "source": [
    "text = 'Amphiarao referente aut Marcio, quondam vatibus inclitis, postridie 20 disceret imperator.'\n",
    "result_list = re.findall(r\"\\w+\", text)\n",
    "result_list"
   ]
  },
  {
   "cell_type": "markdown",
   "metadata": {},
   "source": [
    "### Recherche avec option"
   ]
  },
  {
   "cell_type": "code",
   "execution_count": 11,
   "metadata": {},
   "outputs": [
    {
     "name": "stdout",
     "output_type": "stream",
     "text": [
      "['Apparaître', 'disparaître']\n",
      "['PARAÎTRE', 'disparaître']\n"
     ]
    }
   ],
   "source": [
    "# Recherche des verbes se terminant par **paraître** en majuscules ou non.\n",
    "\n",
    "string = \"Apparaître disparaître PARAÎTRE\"\n",
    "string1 = \"PARAÎTRE disparaître\"\n",
    "\n",
    "result = re.findall(r'\\w*paraître', string)\n",
    "print(result)\n",
    "\n",
    "result = re.findall(r'\\w*paraître', string1, flags=re.IGNORECASE)\n",
    "print(result)"
   ]
  },
  {
   "cell_type": "markdown",
   "metadata": {},
   "source": [
    "### Split"
   ]
  },
  {
   "cell_type": "code",
   "execution_count": 29,
   "metadata": {},
   "outputs": [
    {
     "name": "stdout",
     "output_type": "stream",
     "text": [
      "['John Doe', 'Jane Doe', 'Dominic Joe', 'Jeanne Joe']\n"
     ]
    }
   ],
   "source": [
    "text = '''John Doe\n",
    "Jane Doe\n",
    "Dominic Joe\n",
    "Jeanne Joe'''\n",
    "results = re.split(r'\\n', text)\n",
    "print(results)"
   ]
  },
  {
   "cell_type": "markdown",
   "metadata": {},
   "source": [
    "### Substitution de chaînes de caractères"
   ]
  },
  {
   "cell_type": "code",
   "execution_count": 15,
   "metadata": {},
   "outputs": [
    {
     "name": "stdout",
     "output_type": "stream",
     "text": [
      "J'ai mangé __ oeufs de Pâques et __ fraises.\n"
     ]
    }
   ],
   "source": [
    "text = \"J'ai mangé 20 oeufs de Pâques et 30 fraises.\"\n",
    "result = re.sub('[0-9]+', '__', text)\n",
    "print(result)"
   ]
  },
  {
   "cell_type": "markdown",
   "metadata": {},
   "source": [
    "## Exercices\n",
    "\n",
    "Pour chaque énoncé, écrire une fonction qui prendra une chaîne de caractères nommée `text` :\n",
    "\n",
    "Pour rappel, les fonctions suivent cette syntaxe : \n",
    "\n",
    "```\n",
    "def function(arg1, arg2):\n",
    "   # code here\n",
    "   return something\n",
    "```\n"
   ]
  },
  {
   "cell_type": "code",
   "execution_count": 17,
   "metadata": {},
   "outputs": [],
   "source": [
    "import re"
   ]
  },
  {
   "cell_type": "markdown",
   "metadata": {},
   "source": [
    "#### 1. Vérifier que le texte passé en argument est une url"
   ]
  },
  {
   "cell_type": "code",
   "execution_count": null,
   "metadata": {},
   "outputs": [],
   "source": []
  },
  {
   "cell_type": "markdown",
   "metadata": {},
   "source": [
    "#### 2. Retirer tous les espaces d'un texte"
   ]
  },
  {
   "cell_type": "code",
   "execution_count": null,
   "metadata": {},
   "outputs": [],
   "source": []
  },
  {
   "cell_type": "markdown",
   "metadata": {},
   "source": [
    "#### 3. Créer une fonction avec deux paramètres : le premier, nommé mot, sera utilisé pour vérifier si le deuxième commence bien par cette chaîne de caractères."
   ]
  },
  {
   "cell_type": "code",
   "execution_count": null,
   "metadata": {},
   "outputs": [],
   "source": []
  },
  {
   "cell_type": "markdown",
   "metadata": {},
   "source": [
    "#### 4. Extraire une sous-chaîne entourée de parenthèses sinon retourner la chaîne entière"
   ]
  },
  {
   "cell_type": "code",
   "execution_count": null,
   "metadata": {},
   "outputs": [],
   "source": []
  },
  {
   "cell_type": "markdown",
   "metadata": {},
   "source": [
    "#### 5. Extraire tous les mots dont la longueur est supérieur à 4"
   ]
  },
  {
   "cell_type": "code",
   "execution_count": null,
   "metadata": {},
   "outputs": [],
   "source": []
  },
  {
   "cell_type": "markdown",
   "metadata": {},
   "source": [
    "#### 6. Remplacer tous les espaces, virgules et points par des points virgules"
   ]
  },
  {
   "cell_type": "code",
   "execution_count": null,
   "metadata": {},
   "outputs": [],
   "source": []
  },
  {
   "cell_type": "markdown",
   "metadata": {},
   "source": [
    "#### 7. Extraire tous les mots commençant par a et e"
   ]
  },
  {
   "cell_type": "code",
   "execution_count": null,
   "metadata": {},
   "outputs": [],
   "source": []
  },
  {
   "cell_type": "markdown",
   "metadata": {},
   "source": [
    "#### 8. Transformer une date écrite au format JJ/MM/AAAA au format AAAA-MM-JJ\n"
   ]
  },
  {
   "cell_type": "code",
   "execution_count": null,
   "metadata": {},
   "outputs": [],
   "source": []
  },
  {
   "cell_type": "markdown",
   "metadata": {},
   "source": [
    "#### 9. Créer une fonction avec deux paramètres : le premier, nommé mots, de type liste, sera utilisé pour vérifier si le deuxième, nommé text, contient tous les mots de cette liste "
   ]
  },
  {
   "cell_type": "code",
   "execution_count": null,
   "metadata": {},
   "outputs": [],
   "source": []
  },
  {
   "cell_type": "markdown",
   "metadata": {},
   "source": [
    "#### 10. Trouver les mots contenant la lettre p dans une chaîne de caractères."
   ]
  },
  {
   "cell_type": "code",
   "execution_count": null,
   "metadata": {},
   "outputs": [],
   "source": []
  },
  {
   "cell_type": "markdown",
   "metadata": {},
   "source": [
    "## Ressources\n",
    "\n",
    "[Regexr - Outil de création de regex](https://regexr.com/)  \n",
    "[Expressions régulières - Wikipedia](https://fr.wikipedia.org/wiki/Expression_r%C3%A9guli%C3%A8re#Classe_de_caract%C3%A8res)  \n",
    "[Capture Groups](https://www.regular-expressions.info/refcapture.html)  \n",
    "[Expressions régulières - Documentation Python](https://docs.python.org/3/howto/regex.html) "
   ]
  }
 ],
 "metadata": {
  "kernelspec": {
   "display_name": "Python 3",
   "language": "python",
   "name": "python3"
  },
  "language_info": {
   "codemirror_mode": {
    "name": "ipython",
    "version": 3
   },
   "file_extension": ".py",
   "mimetype": "text/x-python",
   "name": "python",
   "nbconvert_exporter": "python",
   "pygments_lexer": "ipython3",
   "version": "3.9.0"
  }
 },
 "nbformat": 4,
 "nbformat_minor": 4
}
