{
 "cells": [
  {
   "cell_type": "markdown",
   "metadata": {},
   "source": [
    "# Gestion des fichiers - Correction"
   ]
  },
  {
   "cell_type": "markdown",
   "metadata": {},
   "source": [
    "## Exercices\n",
    "\n",
    "1. Lire un fichier situé dans le dossier **Documents**\n",
    "2. Stocker dans une variable `data` les deux premières lignes du fichier **../data/diabetes.csv**\n",
    "3. Créer un dossier **textes** puis un fichier **text1.txt** situé à la racine de ce dossier et ajoutez-y du faux texte\n",
    "4. Récupérer dans une liste les lignes de ce nouveau fichier\n",
    "5. Créer un nouveau document **text2.txt**, toujours dans le même dossier, ajoutez-y du faux texte. Lire la première ligne. Puis ajoutez-y 3 lignes de faux texte.\n",
    "6. Présentez chaque ligne du fichier **text2.txt** de la manière suivante :   \n",
    "Ligne x : \"*Orientis vero limes in longum protentus et rectum ab Euphratis fluminis*\"    \n",
    "x étant le numéro de la ligne.\n",
    "7. Reprendre l'exercice 6 mais sauvegarder le résultat dans un nouveau fichier **text3.txt**\n",
    "8. Récupérer les fichiers **text1.txt** et les **text2.txt**, concaténez leur contenu puis enregistrez ce résultat dans un fichier **text4.txt**.\n",
    "9. Ecraser le contenu du fichier **text1.txt** avec la phrase **J'aime les fraises.**\n",
    "10. Ajouter du contenu au fichier **text1.txt** puis récupérer le nombre d'octets ajouté."
   ]
  },
  {
   "cell_type": "code",
   "execution_count": null,
   "metadata": {},
   "outputs": [],
   "source": [
    "# Lire un fichier situé dans le dossier Documents\n",
    "# ici je vais plutôt lire dans le dossier data\n",
    "filename = \"../../data/diabetes.csv\"\n",
    "f = open(filename, \"r\")\n",
    "print(f.read())\n",
    "f.close()"
   ]
  },
  {
   "cell_type": "code",
   "execution_count": 12,
   "metadata": {},
   "outputs": [
    {
     "name": "stdout",
     "output_type": "stream",
     "text": [
      "['Pregnancies,Glucose,BloodPressure,SkinThickness,Insulin,BMI,DiabetesPedigreeFunction,Age,Outcome\\n', '6,148,72,35,0,33.6,0.627,50,1\\n']\n"
     ]
    }
   ],
   "source": [
    "# Stocker dans une variable data les deux premières lignes du fichier ../data/diabetes.csv\n",
    "filename = \"../data/diabetes.csv\"\n",
    "f = open(filename, \"r\")\n",
    "data = f.readlines()[:2]\n",
    "print(data)\n",
    "f.close()"
   ]
  },
  {
   "cell_type": "code",
   "execution_count": 3,
   "metadata": {},
   "outputs": [],
   "source": [
    "# Créer un dossier textes puis un fichier text1.txt situé à la racine de ce dossier et ajoutez-y du faux texte\n",
    "!mkdir textes\n",
    "!touch textes/text1.txt\n",
    "\n",
    "f = open(\"textes/text1.txt\", \"w\")\n",
    "f.write(\"Hello world\")\n",
    "f.close()"
   ]
  },
  {
   "cell_type": "code",
   "execution_count": 4,
   "metadata": {},
   "outputs": [
    {
     "data": {
      "text/plain": [
       "['Hello world']"
      ]
     },
     "execution_count": 4,
     "metadata": {},
     "output_type": "execute_result"
    }
   ],
   "source": [
    "# Récupérer dans une liste les lignes de ce nouveau fichier\n",
    "f = open(\"textes/text1.txt\", \"r\")\n",
    "data = f.readlines()\n",
    "f.close()\n",
    "data"
   ]
  },
  {
   "cell_type": "code",
   "execution_count": 7,
   "metadata": {},
   "outputs": [
    {
     "name": "stdout",
     "output_type": "stream",
     "text": [
      "Hello world \n",
      "\n"
     ]
    }
   ],
   "source": [
    "# Créer un nouveau document text2.txt, toujours dans le même dossier, ajoutez-y du faux texte. \n",
    "# Lire la première ligne. Puis ajoutez-y 3 lignes de faux texte.\n",
    "!touch textes/text2.txt\n",
    "\n",
    "f = open(\"textes/text2.txt\", \"w\")\n",
    "f.write(\"Hello world \\n Hola mundo \\n Bonjour monde \\n\")\n",
    "f.close()\n",
    "\n",
    "# readlines = lit tout le ficher et stocke les lignes du texte dans une liste\n",
    "# readline = récupère la prochaîne ligne à lire\n",
    "f = open(\"textes/text2.txt\", \"r\")\n",
    "line = f.readline()\n",
    "print(line)\n",
    "f.close()\n",
    "\n",
    "f = open(\"textes/text2.txt\", \"a\")\n",
    "f.write(\"Adolescebat autem obstinatum propositum erga haec et similia multa scrutanda, \\n stimulos admovente regina, quae abrupte mariti fortunas trudebat in exitium praeceps, cum eum potius lenitate feminea ad veritatis \\n humanitatisque viam reducere utilia suadendo deberet, ut in \")\n",
    "f.close()"
   ]
  },
  {
   "cell_type": "code",
   "execution_count": 8,
   "metadata": {},
   "outputs": [
    {
     "name": "stdout",
     "output_type": "stream",
     "text": [
      "Ligne 0: Hello world \n",
      "\n",
      "Ligne 1:  Hola mundo \n",
      "\n",
      "Ligne 2:  Bonjour monde \n",
      "\n",
      "Ligne 3: Adolescebat autem obstinatum propositum erga haec et similia multa scrutanda, \n",
      "\n",
      "Ligne 4:  stimulos admovente regina, quae abrupte mariti fortunas trudebat in exitium praeceps, cum eum potius lenitate feminea ad veritatis \n",
      "\n",
      "Ligne 5:  humanitatisque viam reducere utilia suadendo deberet, ut in \n"
     ]
    }
   ],
   "source": [
    "# Présentez chaque ligne du fichier text2.txt de la manière suivante :\n",
    "# Ligne x : \"Orientis vero limes in longum protentus et rectum ab Euphratis fluminis\"\n",
    "f = open(\"textes/text2.txt\")\n",
    "\n",
    "# enumerate : cette fonction vous permet d'itérer sur les éléments de la liste et leurs index en même temps\n",
    "for idx, line in enumerate(f.readlines()):\n",
    "    print(f\"Ligne {idx}: {line}\")\n",
    "\n",
    "f.close()"
   ]
  },
  {
   "cell_type": "code",
   "execution_count": 9,
   "metadata": {},
   "outputs": [],
   "source": [
    "# Sauvegarder les modifications réalisées dans le .6 dans un nouveau fichier text3.txt\n",
    "f = open(\"textes/text2.txt\", \"r\")\n",
    "f2 = open(\"textes/text3.txt\", \"w\")\n",
    "\n",
    "for idx, line in enumerate(f.readlines()):\n",
    "    f2.write(f\"Ligne {idx}: {line} \\n\")\n",
    "\n",
    "f.close()\n",
    "f2.close()"
   ]
  },
  {
   "cell_type": "code",
   "execution_count": 10,
   "metadata": {},
   "outputs": [],
   "source": [
    "# Récupérer les fichiers text1.txt et les text2.txt, \n",
    "# concaténez leur contenu puis enregistrez ce nouveau \n",
    "# résultat dans un fichier text4.txt.\n",
    "\n",
    "res = \"\"\n",
    "\n",
    "files = [\"textes/text1.txt\", \"textes/text2.txt\"]\n",
    "\n",
    "for file in files:\n",
    "    f = open(file, \"r\")\n",
    "    res += f.read()\n",
    "    f.close()\n",
    "\n",
    "f2 = open(\"textes/text4.txt\", \"w\")\n",
    "f2.write(res)\n",
    "f2.close()"
   ]
  },
  {
   "cell_type": "code",
   "execution_count": 11,
   "metadata": {},
   "outputs": [],
   "source": [
    "# Ecraser le contenu du fichier text1.txt avec la phrase J'aime les fraises.\n",
    "f = open(\"textes/text1.txt\", \"w\")\n",
    "\n",
    "f.write(\"J'aime les fraises \\n\")\n",
    "f.close()"
   ]
  },
  {
   "cell_type": "code",
   "execution_count": 12,
   "metadata": {},
   "outputs": [
    {
     "name": "stdout",
     "output_type": "stream",
     "text": [
      "27\n"
     ]
    }
   ],
   "source": [
    "# Ajouter du contenu au fichier text1.txt puis récupérer le nombre d'octets ajouté.\n",
    "f = open(\"textes/text1.txt\", \"a\")\n",
    "print(f.write(\"Je n'aime pas les raisins \\n\"))\n",
    "f.close()"
   ]
  },
  {
   "cell_type": "markdown",
   "metadata": {},
   "source": [
    "## Ressources\n",
    "\n",
    "[File handling in Python](https://overiq.com/python-101/file-handling-in-python/)"
   ]
  }
 ],
 "metadata": {
  "kernelspec": {
   "display_name": "Python 3",
   "language": "python",
   "name": "python3"
  },
  "language_info": {
   "codemirror_mode": {
    "name": "ipython",
    "version": 3
   },
   "file_extension": ".py",
   "mimetype": "text/x-python",
   "name": "python",
   "nbconvert_exporter": "python",
   "pygments_lexer": "ipython3",
   "version": "3.9.0"
  }
 },
 "nbformat": 4,
 "nbformat_minor": 4
}
