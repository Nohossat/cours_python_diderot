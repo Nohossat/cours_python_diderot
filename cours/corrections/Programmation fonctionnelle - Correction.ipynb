{
 "cells": [
  {
   "cell_type": "markdown",
   "metadata": {},
   "source": [
    "# Programmation fonctionnelle - Correction"
   ]
  },
  {
   "cell_type": "markdown",
   "metadata": {},
   "source": [
    "### Exercices - Fonctions\n",
    "\n",
    "- Créer une fonction qui permet de déterminer si une personne est mineure ou non\n",
    "- Créer une fonction qui permet de calculer les puissances carrées de plusieurs éléments contenus dans une liste\n",
    "- Créer une fonction qui permet d'inverser les éléments d'une liste"
   ]
  },
  {
   "cell_type": "code",
   "execution_count": 1,
   "metadata": {},
   "outputs": [
    {
     "name": "stdout",
     "output_type": "stream",
     "text": [
      "Tu es majeur\n"
     ]
    }
   ],
   "source": [
    "# Créer une fonction qui permet de déterminer si une personne est mineure ou non\n",
    "\n",
    "def is_underage(age):\n",
    "    if age < 18:\n",
    "        print(\"Tu es mineur\")\n",
    "    else:\n",
    "        print(\"Tu es majeur\")\n",
    "        \n",
    "is_underage(23)"
   ]
  },
  {
   "cell_type": "code",
   "execution_count": 2,
   "metadata": {},
   "outputs": [
    {
     "data": {
      "text/plain": [
       "[64, 36, 100, 81]"
      ]
     },
     "execution_count": 2,
     "metadata": {},
     "output_type": "execute_result"
    }
   ],
   "source": [
    "# Créer une fonction qui permet de calculer les puissances carrées \n",
    "# de plusieurs éléments contenus dans une liste\n",
    "\n",
    "def calc_pow_array(liste):\n",
    "    return [item**2 for item in liste]\n",
    "\n",
    "calc_pow_array([8, 6, 10, 9])"
   ]
  },
  {
   "cell_type": "code",
   "execution_count": 3,
   "metadata": {},
   "outputs": [
    {
     "data": {
      "text/plain": [
       "[9, 10, 6, 8]"
      ]
     },
     "execution_count": 3,
     "metadata": {},
     "output_type": "execute_result"
    }
   ],
   "source": [
    "# Créer une fonction qui permet d'inverser les éléments d'une liste\n",
    "\n",
    "def inverse_liste(liste):\n",
    "    return liste[::-1]\n",
    "\n",
    "inverse_liste([8, 6, 10, 9])"
   ]
  },
  {
   "cell_type": "markdown",
   "metadata": {},
   "source": [
    "## Exercices - programmation fonctionnelle\n",
    "\n",
    "1. Créer une fonction qui permet de calculer la somme de tous les éléments d'une liste\n",
    "2. Créer une fonction qui permet de retourner les éléments uniques d'une liste (sans utiliser les sets)\n",
    "3. Créer une fonction qui prend une phrase en entrée et vérifie s'il s'agit d'un pangramme (une phrase contenant toutes les lettres de l'alphabet). Pour des raisons de simplicité, ne tenez pas compte des lettres accentuées.\n",
    "4. Créer une fonction de premier ordre ```process_string``` qui permettra d'appliquer une série de transformations à une chaîne de caractères. Le premier argument sera la chaîne de caractères, le deuxième une liste de fonctions. Par exemple, la liste `[remove_e, uppercase]` permettra de retirer la lettre e d'une chaîne de caractères que l'on passera ensuite en majuscules. Créer la fonction ```remove_e``` puis ```process_string```.\n",
    "5. Recréer la fonction `zip` : `fake_zip([1, 2], [3, 4]) => [(1, 3), (2, 4)]`\n",
    "6. Créer une fonction avec deux arguments, le premier sera un nombre `n` et le second une séquence. Retourner `n` éléments de la séquence.\n",
    "7. Créer une fonction qui permet de calculer la factorielle d'un nombre\n",
    "8. Créer une fonction qui prend argument une liste et retourne un dictionnaire avec les occurrences de chaque élément\n",
    "9. Créer une fonction qui permettra de fusionner deux dictionnaires selon une fonction. Ex : `merge(add, {\"first\" : 2, \"second\" : 10}, {\"first\" : 7}) => {\"first\" : 9, \"second\": 10}`"
   ]
  },
  {
   "cell_type": "code",
   "execution_count": null,
   "metadata": {},
   "outputs": [],
   "source": [
    "# 1 - Créer une fonction qui permet de calculer la somme de tous les éléments d'une liste"
   ]
  },
  {
   "cell_type": "markdown",
   "metadata": {},
   "source": [
    "Généralement, on utilise la fonction ```sum``` mais je vous mets aussi un exemple sans."
   ]
  },
  {
   "cell_type": "code",
   "execution_count": 1,
   "metadata": {},
   "outputs": [
    {
     "data": {
      "text/plain": [
       "33"
      ]
     },
     "execution_count": 1,
     "metadata": {},
     "output_type": "execute_result"
    }
   ],
   "source": [
    "items = [8, 6, 10, 9]\n",
    "sum(items)"
   ]
  },
  {
   "cell_type": "code",
   "execution_count": 2,
   "metadata": {},
   "outputs": [
    {
     "data": {
      "text/plain": [
       "33"
      ]
     },
     "execution_count": 2,
     "metadata": {},
     "output_type": "execute_result"
    }
   ],
   "source": [
    "items = [8, 6, 10, 9]\n",
    "\n",
    "def get_sum(liste):\n",
    "    somme = 0\n",
    "    \n",
    "    for item in liste:\n",
    "        somme += item\n",
    "        \n",
    "    return somme\n",
    "\n",
    "get_sum(items)"
   ]
  },
  {
   "cell_type": "code",
   "execution_count": 5,
   "metadata": {},
   "outputs": [
    {
     "data": {
      "text/plain": [
       "[8, 6, 10, 9, 100, 26, 628]"
      ]
     },
     "execution_count": 5,
     "metadata": {},
     "output_type": "execute_result"
    }
   ],
   "source": [
    "# 2 - Créer une fonction qui permet de retourner les éléments uniques d'une liste (sans utiliser les sets)\n",
    "items = [8, 6, 10, 9, 8, 100, 26, 628, 10, 9, 8, 8]\n",
    "\n",
    "def get_unique_elements(liste):\n",
    "    unique_elements = []\n",
    "    \n",
    "    for item in liste:\n",
    "        if item not in unique_elements:\n",
    "            unique_elements.append(item)\n",
    "    \n",
    "    return unique_elements\n",
    "\n",
    "get_unique_elements(items)"
   ]
  },
  {
   "cell_type": "code",
   "execution_count": 7,
   "metadata": {},
   "outputs": [
    {
     "name": "stdout",
     "output_type": "stream",
     "text": [
      "True\n",
      "False\n"
     ]
    }
   ],
   "source": [
    "# 3 - Créer une fonction qui prend une phrase en entrée et vérifie s'il s'agit d'un pangramme\n",
    "\n",
    "# pour des raisons de simplicité, dans cet example, on ne considèrera pas les accents\n",
    "pangramme = \"Portez ce vieux whisky au juge blond qui fume\"\n",
    "not_pangramme = \"Portez ce whisky au juge blond qui fume\"\n",
    "\n",
    "def is_pangram(pangram):\n",
    "    is_pangram = True\n",
    "    alphabet = \"abcdefghijklmnoprstuvwxyz\"\n",
    "    \n",
    "    for letter in alphabet:\n",
    "        if letter not in pangram.lower():\n",
    "            is_pangram = False\n",
    "    \n",
    "    return is_pangram\n",
    "\n",
    "print(is_pangram(pangramme))\n",
    "print(is_pangram(not_pangramme))"
   ]
  },
  {
   "cell_type": "code",
   "execution_count": 8,
   "metadata": {},
   "outputs": [
    {
     "data": {
      "text/plain": [
       "'PORTZ C VIUX WHISKY AU JUG BLOND QUI FUM'"
      ]
     },
     "execution_count": 8,
     "metadata": {},
     "output_type": "execute_result"
    }
   ],
   "source": [
    "# 4 - Créer une fonction de premier ordre qui permettra d'appliquer une série \n",
    "# de transformations à une chaîne de caractères. Par exemple, la liste \n",
    "# `[remove_e, uppercase]` permettra de retirer la lettre e d'une chaîne de caractères \n",
    "# que l'on passera ensuite en majuscules.\n",
    "\n",
    "phrase = \"Portez ce vieux whisky au juge blond qui fume\"\n",
    "\n",
    "def remove_e(string):\n",
    "    return string.replace(\"e\", \"\")\n",
    "\n",
    "def uppercase(string):\n",
    "    return string.upper()\n",
    "\n",
    "def process_string(string, transformations):\n",
    "    result = string\n",
    "    \n",
    "    for transform in transformations:\n",
    "        result = transform(result)\n",
    "        \n",
    "    return result\n",
    "\n",
    "process_string(phrase, [remove_e, uppercase])   "
   ]
  },
  {
   "cell_type": "code",
   "execution_count": 9,
   "metadata": {},
   "outputs": [
    {
     "data": {
      "text/plain": [
       "[(1, 3), (2, 4)]"
      ]
     },
     "execution_count": 9,
     "metadata": {},
     "output_type": "execute_result"
    }
   ],
   "source": [
    "# 5 - Recréer la fonction zip - fake_zip([1, 2], [3, 4]) => [[1, 3], [2, 4]]\n",
    "def fake_zip(liste1, liste2):\n",
    "    results = []\n",
    "    \n",
    "    for i in range(len(liste1)):\n",
    "        results.append((liste1[i], liste2[i]))\n",
    "    \n",
    "    return results\n",
    "\n",
    "fake_zip([1, 2], [3, 4])"
   ]
  },
  {
   "cell_type": "code",
   "execution_count": 10,
   "metadata": {},
   "outputs": [
    {
     "data": {
      "text/plain": [
       "[8, 6, 10, 9, 8]"
      ]
     },
     "execution_count": 10,
     "metadata": {},
     "output_type": "execute_result"
    }
   ],
   "source": [
    "# 6 - Créer une fonction avec deux arguments, le premier sera un \n",
    "# nombre n et le second une séquence. Retourner n éléments de la séquence.\n",
    "\n",
    "items = [8, 6, 10, 9, 8, 100, 26, 628, 10, 9]\n",
    "\n",
    "def get_elements(n, liste):\n",
    "    return liste[:n]\n",
    "\n",
    "get_elements(5, items)"
   ]
  },
  {
   "cell_type": "code",
   "execution_count": 12,
   "metadata": {},
   "outputs": [
    {
     "name": "stdout",
     "output_type": "stream",
     "text": [
      "120 720\n"
     ]
    }
   ],
   "source": [
    "# 7 - Créer une fonction qui permet de calculer la factorielle d'un nombre\n",
    "\n",
    "def factoriel(n):\n",
    "    if n == 0 or n == 1:\n",
    "        return 1\n",
    "    \n",
    "    return n * factoriel(n-1)\n",
    "\n",
    "print(factoriel(5), factoriel(6))"
   ]
  },
  {
   "cell_type": "code",
   "execution_count": 13,
   "metadata": {},
   "outputs": [
    {
     "data": {
      "text/plain": [
       "{8: 4, 6: 1, 10: 2, 9: 3, 100: 1, 26: 1, 628: 1}"
      ]
     },
     "execution_count": 13,
     "metadata": {},
     "output_type": "execute_result"
    }
   ],
   "source": [
    "# 8 - Créer une fonction qui prend en argument une liste et \n",
    "# retourne un dictionnaire avec les occurrences de chaque élément\n",
    "\n",
    "items = [8, 6, 10, 9, 8, 100, 26, 628, 10, 9, 8, 8, 9]\n",
    "\n",
    "def count_elements(liste):\n",
    "    # exemple de compréhension de dictionnaire - fonctionne comme les compréhensions de liste \n",
    "    # sauf qu'on peut préciser l'indice\n",
    "    return {item: liste.count(item) for item in liste}\n",
    "\n",
    "count_elements(items)"
   ]
  },
  {
   "cell_type": "code",
   "execution_count": 14,
   "metadata": {},
   "outputs": [
    {
     "name": "stdout",
     "output_type": "stream",
     "text": [
      "{'first': -5, 'second': 10, 'third': -23, 'fourth': 876}\n",
      "{'first': 9, 'second': 10, 'third': 175, 'fourth': 876}\n"
     ]
    }
   ],
   "source": [
    "# EXERCICE AVANCE\n",
    "# 9 - Créer une fonction qui permettra de fusionner deux dictionnaires selon une fonction.\n",
    "# Ex : merge(add, {\"first\" : 2, \"second\" : 10}, {\"first\" : 7}) => {\"first\" : 9, \"second\": 10}\n",
    "\n",
    "dict1 = {\"first\" : 2, \"second\" : 10, \"third\": 76}\n",
    "dict2 = {\"first\" : 7, \"third\": 99, \"fourth\" : 876}\n",
    "# resultat souhaité : {'first': X, 'second': X, 'third': X, 'fourth': X}\n",
    "\n",
    "def merge_dicts(fct, dict1, dict2):\n",
    "    new_dict = dict()\n",
    "    # on boucle sur chaque élément de dict1 et on \n",
    "    # applique la fonction si la clé se trouve dans chaque dictionnaire\n",
    "    # sinon on laisse l'élément tel quel\n",
    "    for key, item in dict1.items():\n",
    "        if key in dict2.keys():\n",
    "            new_dict[key] = fct(dict1[key], dict2[key])\n",
    "        else:\n",
    "            new_dict[key] = dict1[key]\n",
    "    \n",
    "    # on boucle sur le deuxième dictionnaire pour ajouter les éléments non pris en compte \n",
    "    # lors de la première boucle\n",
    "    for key, val in dict2.items():\n",
    "        if key not in new_dict.keys():\n",
    "            new_dict[key]= val\n",
    "        \n",
    "    return new_dict\n",
    "\n",
    "def add(item1, item2):\n",
    "    return item1 + item2\n",
    "\n",
    "def substract(item1, item2):\n",
    "    return item1 - item2\n",
    "\n",
    "print(merge_dicts(substract, dict1, dict2))\n",
    "print(merge_dicts(add, dict1, dict2))"
   ]
  },
  {
   "cell_type": "markdown",
   "metadata": {},
   "source": [
    "## Ressources\n",
    "\n",
    "[Functional Programming - Python](https://docs.python.org/fr/3.6/howto/functional.html)  \n",
    "[Functional Programming in Python](https://stackabuse.com/functional-programming-in-python/#:~:text=Functional%20Programming%20is%20a%20programming,processing%20data%20throughout%20its%20execution.&text=Python%20allows%20us%20to%20code,the%20map%20and%20filter%20functions.)  \n",
    "[Les itérables](https://zestedesavoir.com/tutoriels/954/notions-de-python-avancees/1-starters/2-iterables/)"
   ]
  }
 ],
 "metadata": {
  "kernelspec": {
   "display_name": "Python 3",
   "language": "python",
   "name": "python3"
  },
  "language_info": {
   "codemirror_mode": {
    "name": "ipython",
    "version": 3
   },
   "file_extension": ".py",
   "mimetype": "text/x-python",
   "name": "python",
   "nbconvert_exporter": "python",
   "pygments_lexer": "ipython3",
   "version": "3.9.0"
  }
 },
 "nbformat": 4,
 "nbformat_minor": 4
}
