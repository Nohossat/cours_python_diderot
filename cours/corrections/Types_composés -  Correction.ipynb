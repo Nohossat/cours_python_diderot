{
 "cells": [
  {
   "cell_type": "markdown",
   "id": "charged-finance",
   "metadata": {},
   "source": [
    "# Types composés - 26/02 - Correction\n",
    "\n",
    "## Sommaire\n",
    "\n",
    "#### [Listes](#listes)\n",
    "#### [Dictionnaires](#dicts)\n",
    "#### [Sets](#sets)"
   ]
  },
  {
   "cell_type": "markdown",
   "id": "suited-heath",
   "metadata": {},
   "source": [
    "<a id=\"listes\"></a>\n",
    "## Listes"
   ]
  },
  {
   "cell_type": "markdown",
   "id": "local-citizen",
   "metadata": {},
   "source": [
    "### Manipulation de listes - Correction\n",
    "\n",
    "Vous trouverez certains éléments de réponses dans le notebook et d'autres sur le net (très facilement)."
   ]
  },
  {
   "cell_type": "code",
   "execution_count": 1,
   "id": "alleged-bones",
   "metadata": {},
   "outputs": [
    {
     "data": {
      "text/plain": [
       "['foo', 298, True, 98.09, int, 'baz', 0]"
      ]
     },
     "execution_count": 1,
     "metadata": {},
     "output_type": "execute_result"
    }
   ],
   "source": [
    "random = [\"foo\", 298, True, 98.09, int, \"baz\", 0]\n",
    "random"
   ]
  },
  {
   "cell_type": "markdown",
   "id": "cooperative-explanation",
   "metadata": {},
   "source": [
    "\n",
    "\n",
    "- Afficher le premier élément de la liste\n",
    "- Afficher le dernier élément de la liste\n",
    "- Afficher le 3ème et 4ème éléments de la liste\n",
    "- Vérifier que \"foo\" est bien dans la liste random\n",
    "- Vérifier que 800 n'est pas dans la liste random\n",
    "- Créer une deuxième liste **stuff** (seulement avec des valeurs numériques) et créer une troisième liste **random_stuff** qui aura le contenu des listes **random** et **stuff**\n",
    "- Récupérer la longueur de la liste **random_stuff**\n",
    "- Récupérer le minimum et le max de la liste **stuff**\n",
    "- Ajouter une nouvelle liste **nested_list** avec au moins 3 éléments à **random_stuff**\n",
    "- Afficher le 2ème élément de **nested_list** depuis **random_stuff**\n",
    "- Remplacer \"baz\" par \"bar\" dans **random_stuff**\n",
    "- Supprimer le 5ème élément de **random_stuff**\n",
    "- Ajouter float au début de la liste **random_stuff**\n",
    "- Copier la liste **random_stuff** dans une nouvele variable **another_stuff**\n",
    "- Créer, grâce à une compréhension de liste, une nouvelle liste **three_multiples**, qui contiendra tous les multiples de 3 entre 0 et 100\n",
    "- Créer deux variables x et y, assignez-leurs les valeurs que vous souhaitez. Utiliser l'unpacking pour échanger leurs valeurs.\n",
    "- Créer la liste suivante : [\"J\", \"'\", \"aime \", \"le \", \"confinement\"] et utiliser une méthode string pour transformer la liste en chaîne de caractères"
   ]
  },
  {
   "cell_type": "code",
   "execution_count": 2,
   "id": "interior-tattoo",
   "metadata": {},
   "outputs": [
    {
     "data": {
      "text/plain": [
       "'foo'"
      ]
     },
     "execution_count": 2,
     "metadata": {},
     "output_type": "execute_result"
    }
   ],
   "source": [
    "# Afficher le premier élément de la liste\n",
    "random[0]"
   ]
  },
  {
   "cell_type": "code",
   "execution_count": 3,
   "id": "secure-shelf",
   "metadata": {},
   "outputs": [
    {
     "data": {
      "text/plain": [
       "0"
      ]
     },
     "execution_count": 3,
     "metadata": {},
     "output_type": "execute_result"
    }
   ],
   "source": [
    "# Afficher le dernier élément de la liste\n",
    "random[-1]"
   ]
  },
  {
   "cell_type": "code",
   "execution_count": 4,
   "id": "silver-rochester",
   "metadata": {},
   "outputs": [
    {
     "data": {
      "text/plain": [
       "[True, 98.09]"
      ]
     },
     "execution_count": 4,
     "metadata": {},
     "output_type": "execute_result"
    }
   ],
   "source": [
    "# Afficher le 3ème et 4ème éléments de la liste\n",
    "random[2:4]"
   ]
  },
  {
   "cell_type": "code",
   "execution_count": 5,
   "id": "hollow-pavilion",
   "metadata": {},
   "outputs": [
    {
     "data": {
      "text/plain": [
       "True"
      ]
     },
     "execution_count": 5,
     "metadata": {},
     "output_type": "execute_result"
    }
   ],
   "source": [
    "# Vérifier que \"foo\" est bien dans la liste random\n",
    "\"foo\" in random"
   ]
  },
  {
   "cell_type": "code",
   "execution_count": 6,
   "id": "heavy-imperial",
   "metadata": {},
   "outputs": [
    {
     "data": {
      "text/plain": [
       "True"
      ]
     },
     "execution_count": 6,
     "metadata": {},
     "output_type": "execute_result"
    }
   ],
   "source": [
    "# Vérifier que 800 n'est pas dans la liste random\n",
    "800 not in random"
   ]
  },
  {
   "cell_type": "code",
   "execution_count": 7,
   "id": "surprising-clearance",
   "metadata": {},
   "outputs": [],
   "source": [
    "# Créer une deuxième liste stuff (seulement avec des valeurs numériques)\n",
    "stuff = [27, 98, 7, 100, 726]"
   ]
  },
  {
   "cell_type": "code",
   "execution_count": 8,
   "id": "billion-conversation",
   "metadata": {},
   "outputs": [
    {
     "data": {
      "text/plain": [
       "['foo', 298, True, 98.09, int, 'baz', 0, 27, 98, 7, 100, 726]"
      ]
     },
     "execution_count": 8,
     "metadata": {},
     "output_type": "execute_result"
    }
   ],
   "source": [
    "# et créer une troisième liste random_stuff qui aura le contenu des listes random et stuff\n",
    "random_stuff = random + stuff\n",
    "random_stuff"
   ]
  },
  {
   "cell_type": "code",
   "execution_count": 9,
   "id": "developmental-retreat",
   "metadata": {},
   "outputs": [
    {
     "data": {
      "text/plain": [
       "12"
      ]
     },
     "execution_count": 9,
     "metadata": {},
     "output_type": "execute_result"
    }
   ],
   "source": [
    "# Récupérer la longueur de la liste random_stuff\n",
    "len(random_stuff)"
   ]
  },
  {
   "cell_type": "code",
   "execution_count": 10,
   "id": "dried-spotlight",
   "metadata": {},
   "outputs": [
    {
     "name": "stdout",
     "output_type": "stream",
     "text": [
      "7 726\n"
     ]
    }
   ],
   "source": [
    "# Récupérer le minimum et le max de la liste stuff\n",
    "print(min(stuff), max(stuff))"
   ]
  },
  {
   "cell_type": "code",
   "execution_count": 11,
   "id": "balanced-probability",
   "metadata": {},
   "outputs": [],
   "source": [
    "# Ajouter une nouvelle liste nested_list avec au moins 3 éléments à random_stuff\n",
    "nested_list = [\"hola\", \"baj\", 678]\n",
    "random_stuff.append(nested_list)"
   ]
  },
  {
   "cell_type": "code",
   "execution_count": 12,
   "id": "adjustable-batch",
   "metadata": {},
   "outputs": [
    {
     "data": {
      "text/plain": [
       "['foo',\n",
       " 298,\n",
       " True,\n",
       " 98.09,\n",
       " int,\n",
       " 'baz',\n",
       " 0,\n",
       " 27,\n",
       " 98,\n",
       " 7,\n",
       " 100,\n",
       " 726,\n",
       " ['hola', 'baj', 678]]"
      ]
     },
     "execution_count": 12,
     "metadata": {},
     "output_type": "execute_result"
    }
   ],
   "source": [
    "# nested_list est bien imbriqué dans random_stuff\n",
    "random_stuff"
   ]
  },
  {
   "cell_type": "code",
   "execution_count": 13,
   "id": "rubber-herald",
   "metadata": {},
   "outputs": [
    {
     "data": {
      "text/plain": [
       "'baj'"
      ]
     },
     "execution_count": 13,
     "metadata": {},
     "output_type": "execute_result"
    }
   ],
   "source": [
    "# Afficher le 2ème élément de nested_list depuis random_stuff\n",
    "random_stuff[-1][1]"
   ]
  },
  {
   "cell_type": "code",
   "execution_count": 14,
   "id": "brown-filing",
   "metadata": {},
   "outputs": [
    {
     "data": {
      "text/plain": [
       "['foo',\n",
       " 298,\n",
       " True,\n",
       " 98.09,\n",
       " int,\n",
       " 'bar',\n",
       " 0,\n",
       " 27,\n",
       " 98,\n",
       " 7,\n",
       " 100,\n",
       " 726,\n",
       " ['hola', 'baj', 678]]"
      ]
     },
     "execution_count": 14,
     "metadata": {},
     "output_type": "execute_result"
    }
   ],
   "source": [
    "# Remplacer \"baz\" par \"bar\" dans random_stuff\n",
    "random_stuff[5] = \"bar\"\n",
    "random_stuff"
   ]
  },
  {
   "cell_type": "code",
   "execution_count": 15,
   "id": "presidential-rescue",
   "metadata": {},
   "outputs": [
    {
     "data": {
      "text/plain": [
       "int"
      ]
     },
     "execution_count": 15,
     "metadata": {},
     "output_type": "execute_result"
    }
   ],
   "source": [
    "# Supprimer le 5ème élément de random_stuff\n",
    "random_stuff.pop(4)\n",
    "# del random_stuff[4] # fonctionne aussi mais ne retourne pas de l'élément supprimé"
   ]
  },
  {
   "cell_type": "code",
   "execution_count": 24,
   "id": "ecological-local",
   "metadata": {},
   "outputs": [
    {
     "data": {
      "text/plain": [
       "[float,\n",
       " 'foo',\n",
       " 298,\n",
       " True,\n",
       " 98.09,\n",
       " 'bar',\n",
       " 0,\n",
       " 27,\n",
       " 98,\n",
       " 7,\n",
       " 100,\n",
       " 726,\n",
       " ['hola', 'baj', 678]]"
      ]
     },
     "execution_count": 24,
     "metadata": {},
     "output_type": "execute_result"
    }
   ],
   "source": [
    "# Ajouter float au début de la liste random_stuff\n",
    "random_stuff.insert(0, float)\n",
    "random_stuff"
   ]
  },
  {
   "cell_type": "code",
   "execution_count": 25,
   "id": "intimate-discretion",
   "metadata": {},
   "outputs": [],
   "source": [
    "# Copier la liste random_stuff dans une nouvele variable another_stuff\n",
    "another_stuff = random_stuff.copy() \n",
    "# il s'agit d'une vraie copie si vous faites seulement another_stuff = random_stuff \n",
    "# vous copierez seulement le pointer de random_stuff dans another_stuff : les deux variables pointeront vers la même liste"
   ]
  },
  {
   "cell_type": "code",
   "execution_count": 26,
   "id": "senior-comfort",
   "metadata": {
    "collapsed": true,
    "jupyter": {
     "outputs_hidden": true
    }
   },
   "outputs": [
    {
     "data": {
      "text/plain": [
       "[0,\n",
       " 3,\n",
       " 6,\n",
       " 9,\n",
       " 12,\n",
       " 15,\n",
       " 18,\n",
       " 21,\n",
       " 24,\n",
       " 27,\n",
       " 30,\n",
       " 33,\n",
       " 36,\n",
       " 39,\n",
       " 42,\n",
       " 45,\n",
       " 48,\n",
       " 51,\n",
       " 54,\n",
       " 57,\n",
       " 60,\n",
       " 63,\n",
       " 66,\n",
       " 69,\n",
       " 72,\n",
       " 75,\n",
       " 78,\n",
       " 81,\n",
       " 84,\n",
       " 87,\n",
       " 90,\n",
       " 93,\n",
       " 96,\n",
       " 99]"
      ]
     },
     "execution_count": 26,
     "metadata": {},
     "output_type": "execute_result"
    }
   ],
   "source": [
    "# Créer, grâce à une compréhension de liste, une nouvelle liste three_multiples, \n",
    "# qui contiendra tous les multiples de 3 entre 0 et 100\n",
    "three_multiples = [i for i in range(0, 100) if i % 3 == 0]\n",
    "three_multiples"
   ]
  },
  {
   "cell_type": "code",
   "execution_count": 28,
   "id": "advanced-degree",
   "metadata": {},
   "outputs": [
    {
     "name": "stdout",
     "output_type": "stream",
     "text": [
      "hello 100\n"
     ]
    }
   ],
   "source": [
    "# Créer deux variables x et y, assignez-leurs les valeurs que vous souhaitez. \n",
    "# Utiliser l'unpacking pour échanger leurs valeurs.\n",
    "\n",
    "x = 100\n",
    "y = \"hello\"\n",
    "\n",
    "y, x = x, y\n",
    "print(x, y)"
   ]
  },
  {
   "cell_type": "code",
   "execution_count": 30,
   "id": "decreased-sensitivity",
   "metadata": {},
   "outputs": [
    {
     "data": {
      "text/plain": [
       "\"J'aime le confinement\""
      ]
     },
     "execution_count": 30,
     "metadata": {},
     "output_type": "execute_result"
    }
   ],
   "source": [
    "# Créer la liste suivante : [\"J\", \"'\", \"aime \", \"le \", \"confinement\"] et utiliser une méthode string pour \n",
    "# transformer la liste en chaîne de caractères\n",
    "phrase = [\"J\", \"'\", \"aime \", \"le \", \"confinement\"]\n",
    "''.join(phrase)"
   ]
  },
  {
   "cell_type": "markdown",
   "id": "eight-residence",
   "metadata": {},
   "source": [
    "<a id=\"dicts\"></a>\n",
    "## Dictionnaires"
   ]
  },
  {
   "cell_type": "markdown",
   "id": "located-quebec",
   "metadata": {},
   "source": [
    "### Manipulation de dictionnaires"
   ]
  },
  {
   "cell_type": "markdown",
   "id": "greatest-space",
   "metadata": {},
   "source": [
    "Créer le dictionnaire suivant : \n",
    "\n",
    "```\n",
    "dictionnaire = dict([\n",
    "    (\"a\", 97),\n",
    "    (\"b\", 98), \n",
    "    (\"foo\", \"hello\"),\n",
    "    (\"courir\", False),\n",
    "    (12, \"salut\")\n",
    "])\n",
    "\n",
    "```\n",
    "\n",
    "- afficher la valeur associée aux clés **a** et **12**\n",
    "- Créer un autre dictionnaire **person**, vide. Puis ajoutez-y les éléments pour définir une personne tels que son nom, âge, taille, poids, etc..\n",
    "- Afficher l'âge contenu dans le dictionnaire **person**.\n",
    "- Créer le dictionnaire suivant : \n",
    "\n",
    "```\n",
    "{\n",
    "  \"Bourgogne\" : \"Dijon\",\n",
    "  \"Ile de France\" : \"Paris\",\n",
    "  \"Bretagne\" : \"Brest\",\n",
    "  \"Alsace\" : \"Strasbourg\",\n",
    "  \"Ile de France\" : \"Melun\"\n",
    "}\n",
    "```\n",
    "\n",
    "- D'ou vient l'erreur ?\n",
    "- Afficher le nombre d'élements dans le dictionnaire **person**\n",
    "- Récupérer seulement les clés de **person**\n",
    "- Récupérer seulement les valeurs de **person**\n",
    "- Récupérer les éléments de **person** sous forme de tuples, ex : (\"nom\", \"Patrice\"), (\"age\", 20), etc..\n",
    "- Retirer le poids de **person**\n",
    "- Créer un autre dictionnaire **person2**\n",
    "- Fusionner **person** et **person2**\n",
    "- Vider le dictionnaire **person**"
   ]
  },
  {
   "cell_type": "code",
   "execution_count": 31,
   "id": "identified-publisher",
   "metadata": {},
   "outputs": [],
   "source": [
    "dictionnaire = dict([\n",
    "    (\"a\", 97),\n",
    "    (\"b\", 98), \n",
    "    (\"foo\", \"hello\"),\n",
    "    (\"courir\", False),\n",
    "    (12, \"salut\")\n",
    "])"
   ]
  },
  {
   "cell_type": "code",
   "execution_count": 32,
   "id": "legitimate-chocolate",
   "metadata": {},
   "outputs": [
    {
     "name": "stdout",
     "output_type": "stream",
     "text": [
      "97 salut\n"
     ]
    }
   ],
   "source": [
    "# afficher la valeur associée aux clés a et 12\n",
    "print(dictionnaire[\"a\"], dictionnaire[12])"
   ]
  },
  {
   "cell_type": "code",
   "execution_count": 47,
   "id": "medium-oriental",
   "metadata": {},
   "outputs": [
    {
     "data": {
      "text/plain": [
       "{'nom': 'Paul', 'age': 26, 'taille': 180, 'poids': 76, 'statut': 'étudiant'}"
      ]
     },
     "execution_count": 47,
     "metadata": {},
     "output_type": "execute_result"
    }
   ],
   "source": [
    "# Créer un autre dictionnaire person, vide. Puis ajoutez-y les éléments \n",
    "# pour définir une personne tels que son nom, âge, taille, poids, etc..\n",
    "person = {}\n",
    "person[\"nom\"] = \"Paul\"\n",
    "person[\"age\"] = 26\n",
    "person[\"taille\"] = 180\n",
    "person[\"poids\"] = 76\n",
    "person[\"statut\"] = \"étudiant\"\n",
    "person"
   ]
  },
  {
   "cell_type": "code",
   "execution_count": 48,
   "id": "spiritual-chase",
   "metadata": {},
   "outputs": [
    {
     "name": "stdout",
     "output_type": "stream",
     "text": [
      "26\n"
     ]
    }
   ],
   "source": [
    "# Afficher l'âge contenu dans le dictionnaire person.\n",
    "print(person[\"age\"])"
   ]
  },
  {
   "cell_type": "code",
   "execution_count": 38,
   "id": "saved-indication",
   "metadata": {},
   "outputs": [],
   "source": [
    "regions_villes = {\n",
    "  \"Bourgogne\" : \"Dijon\",\n",
    "  \"Ile de France\" : \"Paris\",\n",
    "  \"Bretagne\" : \"Brest\",\n",
    "  \"Alsace\" : \"Strasbourg\",\n",
    "  \"Ile de France\" : \"Melun\"\n",
    "}"
   ]
  },
  {
   "cell_type": "code",
   "execution_count": 39,
   "id": "graphic-lease",
   "metadata": {},
   "outputs": [
    {
     "data": {
      "text/plain": [
       "{'Bourgogne': 'Dijon',\n",
       " 'Ile de France': 'Melun',\n",
       " 'Bretagne': 'Brest',\n",
       " 'Alsace': 'Strasbourg'}"
      ]
     },
     "execution_count": 39,
     "metadata": {},
     "output_type": "execute_result"
    }
   ],
   "source": [
    "# D'ou vient l'erreur ?\n",
    "regions_villes "
   ]
  },
  {
   "cell_type": "markdown",
   "id": "colonial-generic",
   "metadata": {},
   "source": [
    ">La valeur associée à la clé Ile de France a été remplacée."
   ]
  },
  {
   "cell_type": "code",
   "execution_count": 40,
   "id": "subtle-divide",
   "metadata": {},
   "outputs": [
    {
     "data": {
      "text/plain": [
       "5"
      ]
     },
     "execution_count": 40,
     "metadata": {},
     "output_type": "execute_result"
    }
   ],
   "source": [
    "# Afficher le nombre d'élements dans le dictionnaire person\n",
    "len(person)"
   ]
  },
  {
   "cell_type": "code",
   "execution_count": 49,
   "id": "athletic-double",
   "metadata": {},
   "outputs": [
    {
     "data": {
      "text/plain": [
       "dict_keys(['nom', 'age', 'taille', 'poids', 'statut'])"
      ]
     },
     "execution_count": 49,
     "metadata": {},
     "output_type": "execute_result"
    }
   ],
   "source": [
    "# Récupérer seulement les clés de person\n",
    "person.keys()"
   ]
  },
  {
   "cell_type": "code",
   "execution_count": 50,
   "id": "ambient-mainland",
   "metadata": {},
   "outputs": [
    {
     "data": {
      "text/plain": [
       "dict_values(['Paul', 26, 180, 76, 'étudiant'])"
      ]
     },
     "execution_count": 50,
     "metadata": {},
     "output_type": "execute_result"
    }
   ],
   "source": [
    "# Récupérer seulement les valeurs de person\n",
    "person.values()"
   ]
  },
  {
   "cell_type": "code",
   "execution_count": 51,
   "id": "focal-anthropology",
   "metadata": {},
   "outputs": [
    {
     "data": {
      "text/plain": [
       "dict_items([('nom', 'Paul'), ('age', 26), ('taille', 180), ('poids', 76), ('statut', 'étudiant')])"
      ]
     },
     "execution_count": 51,
     "metadata": {},
     "output_type": "execute_result"
    }
   ],
   "source": [
    "# Récupérer les éléments de person sous forme de tuples\n",
    "person.items()"
   ]
  },
  {
   "cell_type": "code",
   "execution_count": 52,
   "id": "primary-running",
   "metadata": {},
   "outputs": [
    {
     "data": {
      "text/plain": [
       "{'nom': 'Paul', 'age': 26, 'taille': 180, 'statut': 'étudiant'}"
      ]
     },
     "execution_count": 52,
     "metadata": {},
     "output_type": "execute_result"
    }
   ],
   "source": [
    "# Retirer le poids de person\n",
    "person.pop(\"poids\")\n",
    "person"
   ]
  },
  {
   "cell_type": "code",
   "execution_count": 53,
   "id": "negative-drama",
   "metadata": {},
   "outputs": [],
   "source": [
    "# Créer un autre dictionnaire person2\n",
    "person2 = {\n",
    "    \"nom\" : \"Marie\",\n",
    "    \"ville\" : \"Paris\",\n",
    "    \"pays\" : \"France\",\n",
    "    \"taille\" : 156,\n",
    "    \"poids\" : 55,\n",
    "    \"statut\" : \"salariée\"\n",
    "}"
   ]
  },
  {
   "cell_type": "code",
   "execution_count": 54,
   "id": "comic-influence",
   "metadata": {},
   "outputs": [
    {
     "data": {
      "text/plain": [
       "{'nom': 'Marie',\n",
       " 'age': 26,\n",
       " 'taille': 156,\n",
       " 'statut': 'salariée',\n",
       " 'ville': 'Paris',\n",
       " 'pays': 'France',\n",
       " 'poids': 55}"
      ]
     },
     "execution_count": 54,
     "metadata": {},
     "output_type": "execute_result"
    }
   ],
   "source": [
    "# Fusionner person et person2\n",
    "person |= person2\n",
    "person # on s'aperçoit que les clés ont été mises à jour dans person même si la clé \"âge\" n'est pas présente dans person2"
   ]
  },
  {
   "cell_type": "code",
   "execution_count": 55,
   "id": "living-depression",
   "metadata": {},
   "outputs": [],
   "source": [
    "# Vider le dictionnaire person\n",
    "person.clear()"
   ]
  },
  {
   "cell_type": "code",
   "execution_count": 56,
   "id": "boring-yield",
   "metadata": {},
   "outputs": [
    {
     "data": {
      "text/plain": [
       "{}"
      ]
     },
     "execution_count": 56,
     "metadata": {},
     "output_type": "execute_result"
    }
   ],
   "source": [
    "person"
   ]
  },
  {
   "cell_type": "markdown",
   "id": "european-spider",
   "metadata": {},
   "source": [
    "<a id=\"sets\"></a>\n",
    "## Sets"
   ]
  },
  {
   "cell_type": "markdown",
   "id": "ceramic-border",
   "metadata": {},
   "source": [
    "### Manipulation de sets\n",
    "\n",
    "N'hésitez pas à chercher sur le net ou entre vous, si vous ne trouvez pas la solution. \n",
    "\n",
    "- Créer un nouveau set avec différents types de données\n",
    "- Afficher ce nouveau set. Que peut-on observer ?\n",
    "- Afficher le nombre d'éléments\n",
    "- Vérifier si la chaîne de caractères \"foo\" est dans ce set\n",
    "- Créer un autre set avec certains éléments en commun avec le premier set\n",
    "- Afficher l'intersection entre les deux sets\n",
    "- Afficher l'union des deux sets\n",
    "- Afficher la différence entre ces deux sets\n",
    "- Afficher leur différence symétrique\n",
    "- Ajouter un élément au premier set\n",
    "- Créer un troisième set et ajouter son contenu au premier set\n",
    "- Retirer un élément au troisème set\n",
    "- Vider le premier set"
   ]
  },
  {
   "cell_type": "code",
   "execution_count": 57,
   "id": "hired-atlas",
   "metadata": {},
   "outputs": [
    {
     "data": {
      "text/plain": [
       "{2, int, True, 'foo', 'hello'}"
      ]
     },
     "execution_count": 57,
     "metadata": {},
     "output_type": "execute_result"
    }
   ],
   "source": [
    "# Créer un nouveau set avec différents types de données\n",
    "example_set = set([2, \"hello\", \"foo\", True, int])\n",
    "example_set"
   ]
  },
  {
   "cell_type": "markdown",
   "id": "deadly-skirt",
   "metadata": {},
   "source": [
    "> Afficher ce nouveau set. Que peut-on observer ?\n",
    "\n",
    "L'ordre des valeurs n'est pas préservé."
   ]
  },
  {
   "cell_type": "code",
   "execution_count": 58,
   "id": "pressed-confidence",
   "metadata": {},
   "outputs": [
    {
     "data": {
      "text/plain": [
       "5"
      ]
     },
     "execution_count": 58,
     "metadata": {},
     "output_type": "execute_result"
    }
   ],
   "source": [
    "# Afficher le nombre d'éléments\n",
    "len(example_set)"
   ]
  },
  {
   "cell_type": "code",
   "execution_count": 59,
   "id": "mounted-marina",
   "metadata": {},
   "outputs": [
    {
     "data": {
      "text/plain": [
       "True"
      ]
     },
     "execution_count": 59,
     "metadata": {},
     "output_type": "execute_result"
    }
   ],
   "source": [
    "# Vérifier si la chaîne de caractères \"foo\" est dans ce set\n",
    "\"foo\" in example_set"
   ]
  },
  {
   "cell_type": "code",
   "execution_count": 60,
   "id": "interpreted-listening",
   "metadata": {},
   "outputs": [],
   "source": [
    "# Créer un autre set avec certains éléments en commun avec le premier set\n",
    "another_set = set([928, \"chaine\", \"personne\", int, str, 71, True, \"hello\"])"
   ]
  },
  {
   "cell_type": "code",
   "execution_count": 61,
   "id": "given-gauge",
   "metadata": {},
   "outputs": [
    {
     "data": {
      "text/plain": [
       "{int, True, 'hello'}"
      ]
     },
     "execution_count": 61,
     "metadata": {},
     "output_type": "execute_result"
    }
   ],
   "source": [
    "# Afficher l'intersection entre les deux sets\n",
    "example_set & another_set"
   ]
  },
  {
   "cell_type": "code",
   "execution_count": 62,
   "id": "usual-encoding",
   "metadata": {},
   "outputs": [
    {
     "data": {
      "text/plain": [
       "{2, 71, 928, int, str, True, 'chaine', 'foo', 'hello', 'personne'}"
      ]
     },
     "execution_count": 62,
     "metadata": {},
     "output_type": "execute_result"
    }
   ],
   "source": [
    "# Afficher l'union entre les deux sets\n",
    "example_set | another_set"
   ]
  },
  {
   "cell_type": "code",
   "execution_count": 63,
   "id": "cultural-pharmaceutical",
   "metadata": {},
   "outputs": [
    {
     "data": {
      "text/plain": [
       "{2, 'foo'}"
      ]
     },
     "execution_count": 63,
     "metadata": {},
     "output_type": "execute_result"
    }
   ],
   "source": [
    "# Afficher la différence entre les deux sets\n",
    "example_set - another_set"
   ]
  },
  {
   "cell_type": "code",
   "execution_count": 64,
   "id": "breeding-graham",
   "metadata": {},
   "outputs": [
    {
     "data": {
      "text/plain": [
       "{2, 71, 928, str, 'chaine', 'foo', 'personne'}"
      ]
     },
     "execution_count": 64,
     "metadata": {},
     "output_type": "execute_result"
    }
   ],
   "source": [
    "# Afficher la différence symétrique entre les deux sets\n",
    "example_set ^ another_set"
   ]
  },
  {
   "cell_type": "code",
   "execution_count": 66,
   "id": "clinical-religious",
   "metadata": {},
   "outputs": [
    {
     "data": {
      "text/plain": [
       "{2, int, True, 'arbre', 'foo', 'hello'}"
      ]
     },
     "execution_count": 66,
     "metadata": {},
     "output_type": "execute_result"
    }
   ],
   "source": [
    "# Ajouter un élément au premier set\n",
    "example_set.add(\"arbre\")\n",
    "example_set"
   ]
  },
  {
   "cell_type": "code",
   "execution_count": 67,
   "id": "reported-saint",
   "metadata": {},
   "outputs": [
    {
     "data": {
      "text/plain": [
       "{2, 89, int, False, True, 'aire', 'arbre', 'ballon', 'foo', 'hello', 'parc'}"
      ]
     },
     "execution_count": 67,
     "metadata": {},
     "output_type": "execute_result"
    }
   ],
   "source": [
    "# Créer un troisième set et ajouter son contenu au premier set\n",
    "other_set = set([\"parc\", \"aire\", 89, \"ballon\", False])\n",
    "example_set |= other_set # l'union nous permet de conserver les valeurs des deux sets\n",
    "example_set"
   ]
  },
  {
   "cell_type": "code",
   "execution_count": 69,
   "id": "composite-membrane",
   "metadata": {},
   "outputs": [
    {
     "data": {
      "text/plain": [
       "{89, 'aire', 'ballon'}"
      ]
     },
     "execution_count": 69,
     "metadata": {},
     "output_type": "execute_result"
    }
   ],
   "source": [
    "# Retirer un élément au troisème set\n",
    "other_set.remove(\"parc\")\n",
    "other_set"
   ]
  },
  {
   "cell_type": "code",
   "execution_count": 70,
   "id": "voluntary-buffalo",
   "metadata": {},
   "outputs": [
    {
     "data": {
      "text/plain": [
       "set()"
      ]
     },
     "execution_count": 70,
     "metadata": {},
     "output_type": "execute_result"
    }
   ],
   "source": [
    "# Vider le premier set\n",
    "other_set.clear()\n",
    "other_set"
   ]
  }
 ],
 "metadata": {
  "kernelspec": {
   "display_name": "Python 3",
   "language": "python",
   "name": "python3"
  },
  "language_info": {
   "codemirror_mode": {
    "name": "ipython",
    "version": 3
   },
   "file_extension": ".py",
   "mimetype": "text/x-python",
   "name": "python",
   "nbconvert_exporter": "python",
   "pygments_lexer": "ipython3",
   "version": "3.9.0"
  }
 },
 "nbformat": 4,
 "nbformat_minor": 5
}
