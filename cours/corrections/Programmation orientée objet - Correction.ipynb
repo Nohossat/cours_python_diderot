{
 "cells": [
  {
   "cell_type": "markdown",
   "metadata": {},
   "source": [
    "# Programmation orientée objet (POO) en Python - Correction"
   ]
  },
  {
   "cell_type": "markdown",
   "metadata": {},
   "source": [
    "## Exercice\n",
    "\n",
    "### 1. Créer une classe `Vehicule` avec les attributs `marque`, `vitesse_max`, `kilométrage`, `nb_places` et une `méthode afficher_nb_places`, affichant le nombre de places dans le véhicule"
   ]
  },
  {
   "cell_type": "code",
   "execution_count": 23,
   "metadata": {},
   "outputs": [
    {
     "name": "stdout",
     "output_type": "stream",
     "text": [
      "4 Renault\n"
     ]
    }
   ],
   "source": [
    "class Vehicule:\n",
    "    \n",
    "    def __init__(self, marque, vitesse_max, kilometrage, nb_places):\n",
    "        self.marque = marque\n",
    "        self.vitesse_max = vitesse_max\n",
    "        self.kilometrage = kilometrage\n",
    "        self.nb_places = nb_places\n",
    "        \n",
    "    def afficher_nb_places(self):\n",
    "        return self.nb_places\n",
    "    \n",
    "    \n",
    "voiture = Vehicule(\"Renault\", 200, 23489, 4)\n",
    "print(voiture.afficher_nb_places(), voiture.marque)"
   ]
  },
  {
   "cell_type": "markdown",
   "metadata": {
    "jupyter": {
     "source_hidden": true
    }
   },
   "source": [
    "### 2. Créer une classe enfant `Bus` qui héritera des attributs / méthodes de la classe `Vehicule`. Ajouter un attribut `prix_ticket`."
   ]
  },
  {
   "cell_type": "code",
   "execution_count": 24,
   "metadata": {},
   "outputs": [],
   "source": [
    "class Bus(Vehicule):\n",
    "    \n",
    "    def __init__(self, marque, vitesse_max, kilometrage, nb_places, prix_ticket):\n",
    "        super().__init__(marque, vitesse_max, kilometrage, nb_places)\n",
    "        self.prix_ticket = prix_ticket"
   ]
  },
  {
   "cell_type": "code",
   "execution_count": 25,
   "metadata": {},
   "outputs": [
    {
     "name": "stdout",
     "output_type": "stream",
     "text": [
      "Il y 8 places\n",
      "Le prix d'un ticket est : 3\n"
     ]
    }
   ],
   "source": [
    "bus = Bus('Citroen', 100, 8999, 8, 3)\n",
    "print(f\"Il y {bus.afficher_nb_places()} places\")\n",
    "print(f\"Le prix d'un ticket est : {bus.prix_ticket}\")"
   ]
  },
  {
   "cell_type": "markdown",
   "metadata": {
    "jupyter": {
     "source_hidden": true
    }
   },
   "source": [
    "### 3. Reprendre le code de la classe `Bus`. Ajouter une méthode `calculer_gain_total` retournant le produit de `nb_places` et du `prix_ticket`."
   ]
  },
  {
   "cell_type": "code",
   "execution_count": 26,
   "metadata": {},
   "outputs": [],
   "source": [
    "class Bus(Vehicule):\n",
    "    \n",
    "    def __init__(self, marque, vitesse_max, kilometrage, nb_places, prix_ticket):\n",
    "        super().__init__(marque, vitesse_max, kilometrage, nb_places)\n",
    "        self.prix_ticket = prix_ticket\n",
    "        \n",
    "    def calculer_tarif(self):\n",
    "        return self.nb_places * self.prix_ticket"
   ]
  },
  {
   "cell_type": "code",
   "execution_count": 27,
   "metadata": {},
   "outputs": [
    {
     "name": "stdout",
     "output_type": "stream",
     "text": [
      "Le gain maximal espéré pour un trajet est de 24 €\n"
     ]
    }
   ],
   "source": [
    "bus = Bus(\"Citroen\", 100, 8999, 8, 3)\n",
    "print(f\"Le gain maximal espéré pour un trajet est de {bus.calculer_tarif()} €\")"
   ]
  },
  {
   "cell_type": "markdown",
   "metadata": {},
   "source": [
    "### 4. Créer une instance `mercedes` de type `Vehicule` et un `bus_ecole` de type `Bus`. Vérifier à quelle classe appartient chaque objet."
   ]
  },
  {
   "cell_type": "code",
   "execution_count": 30,
   "metadata": {},
   "outputs": [
    {
     "data": {
      "text/plain": [
       "True"
      ]
     },
     "execution_count": 30,
     "metadata": {},
     "output_type": "execute_result"
    }
   ],
   "source": [
    "mercedes = Vehicule(marque=\"Mercedes\", vitesse_max=200, kilometrage=6272, nb_places=5)\n",
    "\n",
    "isinstance(mercedes, Vehicule)"
   ]
  },
  {
   "cell_type": "code",
   "execution_count": 31,
   "metadata": {},
   "outputs": [
    {
     "data": {
      "text/plain": [
       "True"
      ]
     },
     "execution_count": 31,
     "metadata": {},
     "output_type": "execute_result"
    }
   ],
   "source": [
    "bus_ecole = Bus(marque=\"Volkwagen\", vitesse_max=230, kilometrage=100, nb_places=15, prix_ticket=8)\n",
    "isinstance(bus_ecole, Bus)"
   ]
  },
  {
   "cell_type": "markdown",
   "metadata": {},
   "source": [
    "### 5. Appeler la méthode `afficher_nb_places` de `mercedes` et `bus_ecole`."
   ]
  },
  {
   "cell_type": "code",
   "execution_count": 32,
   "metadata": {},
   "outputs": [
    {
     "data": {
      "text/plain": [
       "5"
      ]
     },
     "execution_count": 32,
     "metadata": {},
     "output_type": "execute_result"
    }
   ],
   "source": [
    "mercedes.afficher_nb_places()"
   ]
  },
  {
   "cell_type": "code",
   "execution_count": 34,
   "metadata": {},
   "outputs": [
    {
     "data": {
      "text/plain": [
       "15"
      ]
     },
     "execution_count": 34,
     "metadata": {},
     "output_type": "execute_result"
    }
   ],
   "source": [
    "bus_ecole.afficher_nb_places()"
   ]
  },
  {
   "cell_type": "markdown",
   "metadata": {},
   "source": [
    "### 6. Reprendre le code de la classe `Vehicule`. Ajouter une méthode `__repr__` à `Vehicule`. Cette fonction permet de modifier la description d'une instance. Essayer d'utiliser tous les attributs pour donner la description la plus exhaustive possible. Créer une instance `Vehicule` nommée `moto`. Vérifier que `print(moto)` correspond au résultat de la méthode `__repr__`."
   ]
  },
  {
   "cell_type": "code",
   "execution_count": 42,
   "metadata": {},
   "outputs": [],
   "source": [
    "class Vehicule:\n",
    "    \n",
    "    def __init__(self, marque, vitesse_max, kilometrage, nb_places):\n",
    "        self.marque = marque\n",
    "        self.vitesse_max = vitesse_max\n",
    "        self.kilometrage = kilometrage\n",
    "        self.nb_places = nb_places\n",
    "        \n",
    "    def afficher_nb_places(self):\n",
    "        return self.nb_places\n",
    "    \n",
    "    def __repr__(self):\n",
    "        return f\"Ce véhicule a {self.nb_places} place(s). Il s'agit d'un véhicule {self.marque}. Il a {self.kilometrage} km au compteur et il peut aller jusqu'à {self.vitesse_max} km/h.\""
   ]
  },
  {
   "cell_type": "code",
   "execution_count": 43,
   "metadata": {},
   "outputs": [
    {
     "name": "stdout",
     "output_type": "stream",
     "text": [
      "Ce véhicule a 1 place(s). Il s'agit d'un véhicule Mitsubishi. Il a 19 km au compteur et il peut aller jusqu'à 300 km/h.\n"
     ]
    }
   ],
   "source": [
    "moto = Vehicule(\"Mitsubishi\", 300, 19, 1)\n",
    "print(moto)"
   ]
  },
  {
   "cell_type": "markdown",
   "metadata": {},
   "source": [
    "### 7. Reprendre le code de la classe Vehicule. Ajouter une méthode de classe `fromYear` permettant de créer un véhicule autrement. Cette méthode prendra en argument tous les éléments nécessaires pour créer un `Vehicule` à l'exception de `kilométrage`. On l'estimera en fonction d'un paramètre supplémentaire `annee` correspondant à l'année de fabrication du `Véhicule`. On supposera que depuis sa fabrication, le véhicule aura roulé 200km par an. Il faudra donc calculer le kilométrage total depuis la fabrication du véhicule. \n",
    "\n",
    "(Voir dans le cours l'exemple sur les méthodes de classe pour récupérer le nombre d'années de fonctionnement)."
   ]
  },
  {
   "cell_type": "code",
   "execution_count": 48,
   "metadata": {},
   "outputs": [],
   "source": [
    "from datetime import datetime\n",
    "\n",
    "class Vehicule:\n",
    "    \n",
    "    def __init__(self, marque, vitesse_max, kilometrage, nb_places):\n",
    "        self.marque = marque\n",
    "        self.vitesse_max = vitesse_max\n",
    "        self.kilometrage = kilometrage\n",
    "        self.nb_places = nb_places\n",
    "        \n",
    "    def afficher_nb_places(self):\n",
    "        return self.nb_places\n",
    "    \n",
    "    @classmethod\n",
    "    def fromYear(cls, marque, vitesse_max, annee, nb_places):\n",
    "        kilometrage = (datetime.now().year - annee) * 200\n",
    "        return cls(marque, vitesse_max, kilometrage, nb_places)\n",
    "    \n",
    "    def __repr__(self):\n",
    "        return f\"Ce véhicule a {self.nb_places} place(s). Il s'agit d'un véhicule {self.marque}. Il a {self.kilometrage} km au compteur et il peut aller jusqu'à {self.vitesse_max} km/h.\""
   ]
  },
  {
   "cell_type": "code",
   "execution_count": 49,
   "metadata": {},
   "outputs": [
    {
     "data": {
      "text/plain": [
       "2400"
      ]
     },
     "execution_count": 49,
     "metadata": {},
     "output_type": "execute_result"
    }
   ],
   "source": [
    "van = Vehicule.fromYear(\"Audi\", 180, 2009, 10)\n",
    "van.kilometrage # (2021 - 2009) * 200"
   ]
  },
  {
   "cell_type": "markdown",
   "metadata": {},
   "source": [
    "### 8. Reprendre le code de la classe `Bus`. Ajouter un attribut protégé `annee`. Créer une nouvelle instance de `Bus`. Pouvez-vous accéder à l'attribut `annee` ?"
   ]
  },
  {
   "cell_type": "code",
   "execution_count": 57,
   "metadata": {},
   "outputs": [],
   "source": [
    "class Bus(Vehicule):\n",
    "    \n",
    "    def __init__(self, marque, vitesse_max, kilometrage, nb_places, prix_ticket, annee):\n",
    "        super().__init__(marque, vitesse_max, kilometrage, nb_places)\n",
    "        self.prix_ticket = prix_ticket\n",
    "        self._annee = annee\n",
    "        \n",
    "    def calculer_tarif(self):\n",
    "        return self.nb_places * self.prix_ticket"
   ]
  },
  {
   "cell_type": "code",
   "execution_count": 60,
   "metadata": {},
   "outputs": [
    {
     "data": {
      "text/plain": [
       "2009"
      ]
     },
     "execution_count": 60,
     "metadata": {},
     "output_type": "execute_result"
    }
   ],
   "source": [
    "bus_ecole = Bus(marque=\"Volkwagen\", vitesse_max=230, kilometrage=100, nb_places=15, prix_ticket=8, annee=2009)\n",
    "# print(bus_ecole.annee) ### ne fonctionnera pas\n",
    "bus_ecole._annee"
   ]
  },
  {
   "cell_type": "markdown",
   "metadata": {},
   "source": [
    "### 9. Reprendre le code de la classe Bus. Ajouter un attribut privé `usure` de type booléen. Faites les modifications qui s'imposent pour que le code continue de fonctionner. Afficher l'attribut `usure` de `bus_ecole`. Qu'obtenez-vous ?"
   ]
  },
  {
   "cell_type": "code",
   "execution_count": 65,
   "metadata": {},
   "outputs": [],
   "source": [
    "class Bus(Vehicule):\n",
    "    \n",
    "    def __init__(self, marque, vitesse_max, kilometrage, nb_places, prix_ticket, annee, usure):\n",
    "        super().__init__(marque, vitesse_max, kilometrage, nb_places)\n",
    "        self.prix_ticket = prix_ticket\n",
    "        self._annee = annee\n",
    "        self.__usure = usure\n",
    "        \n",
    "    def calculer_tarif(self):\n",
    "        return self.nb_places * self.prix_ticket"
   ]
  },
  {
   "cell_type": "code",
   "execution_count": 67,
   "metadata": {},
   "outputs": [
    {
     "data": {
      "text/plain": [
       "True"
      ]
     },
     "execution_count": 67,
     "metadata": {},
     "output_type": "execute_result"
    }
   ],
   "source": [
    "bus_ecole = Bus(marque=\"Volkwagen\", vitesse_max=230, kilometrage=100, nb_places=15, prix_ticket=8, annee=2018, usure=True)\n",
    "# print(bus_ecole.usure) ### ne fonctionnera pas\n",
    "bus_ecole._Bus__usure"
   ]
  },
  {
   "cell_type": "markdown",
   "metadata": {},
   "source": [
    "### 10. Reprendre le code de la classe Bus. Créer une méthode statique nommé `getFullCapacity` qui nous permettra de calculer la capacité totale de plusieurs bus (passer en argument une liste de plusieurs `Bus`)."
   ]
  },
  {
   "cell_type": "code",
   "execution_count": 68,
   "metadata": {},
   "outputs": [],
   "source": [
    "class Bus(Vehicule):\n",
    "    \n",
    "    def __init__(self, marque, vitesse_max, kilometrage, nb_places, prix_ticket, annee, usure):\n",
    "        super().__init__(marque, vitesse_max, kilometrage, nb_places)\n",
    "        self.prix_ticket = prix_ticket\n",
    "        self._annee = annee\n",
    "        self.__usure = usure\n",
    "        \n",
    "    def calculer_tarif(self):\n",
    "        return self.nb_places * self.prix_ticket\n",
    "    \n",
    "    @staticmethod\n",
    "    def getFullCapacity(buses):\n",
    "        return sum([bus.nb_places for bus in buses])"
   ]
  },
  {
   "cell_type": "code",
   "execution_count": 69,
   "metadata": {},
   "outputs": [],
   "source": [
    "bus_ecole1 = Bus(marque=\"Volkwagen\", vitesse_max=230, kilometrage=100, nb_places=15, prix_ticket=8, annee=2018, usure=True)\n",
    "bus_ecole2 = Bus(marque=\"Volkwagen\", vitesse_max=230, kilometrage=100, nb_places=25, prix_ticket=8, annee=2018, usure=True)\n",
    "bus_ecole3 = Bus(marque=\"Volkwagen\", vitesse_max=230, kilometrage=100, nb_places=40, prix_ticket=8, annee=2018, usure=True)"
   ]
  },
  {
   "cell_type": "code",
   "execution_count": 70,
   "metadata": {},
   "outputs": [
    {
     "data": {
      "text/plain": [
       "80"
      ]
     },
     "execution_count": 70,
     "metadata": {},
     "output_type": "execute_result"
    }
   ],
   "source": [
    "Bus.getFullCapacity([bus_ecole1, bus_ecole2, bus_ecole3])"
   ]
  },
  {
   "cell_type": "markdown",
   "metadata": {},
   "source": [
    "### 11. Reprendre le code de la classe `Bus`. Ajouter un attribut privé nommé `__annee`. Créer ensuite une propriété `annee` pour accéder à cette donnée en lecture seule. Créer une nouvelle instance de `Bus` nommé `bus` et vérifier que `bus.annee` retourne bien la valeur attendue. Essayer de changer la valeur de l'attribut `annee`."
   ]
  },
  {
   "cell_type": "code",
   "execution_count": 78,
   "metadata": {},
   "outputs": [],
   "source": [
    "class Bus(Vehicule):\n",
    "    \n",
    "    def __init__(self, marque, vitesse_max, kilometrage, nb_places, prix_ticket, annee):\n",
    "        super().__init__(marque, vitesse_max, kilometrage, nb_places)\n",
    "        self.prix_ticket = prix_ticket\n",
    "        self.__annee = annee\n",
    "        \n",
    "    def calculer_tarif(self):\n",
    "        return self.nb_places * self.prix_ticket\n",
    "    \n",
    "    @property\n",
    "    def annee(self):\n",
    "        return self.__annee"
   ]
  },
  {
   "cell_type": "code",
   "execution_count": 80,
   "metadata": {},
   "outputs": [
    {
     "data": {
      "text/plain": [
       "1999"
      ]
     },
     "execution_count": 80,
     "metadata": {},
     "output_type": "execute_result"
    }
   ],
   "source": [
    "bus = Bus(marque=\"Volkwagen\", vitesse_max=230, kilometrage=100, nb_places=15, prix_ticket=8, annee=1999)\n",
    "bus.annee"
   ]
  },
  {
   "cell_type": "code",
   "execution_count": 81,
   "metadata": {},
   "outputs": [
    {
     "ename": "AttributeError",
     "evalue": "can't set attribute",
     "output_type": "error",
     "traceback": [
      "\u001b[0;31m---------------------------------------------------------------------------\u001b[0m",
      "\u001b[0;31mAttributeError\u001b[0m                            Traceback (most recent call last)",
      "\u001b[0;32m<ipython-input-81-159b161bd618>\u001b[0m in \u001b[0;36m<module>\u001b[0;34m\u001b[0m\n\u001b[0;32m----> 1\u001b[0;31m \u001b[0mbus\u001b[0m\u001b[0;34m.\u001b[0m\u001b[0mannee\u001b[0m \u001b[0;34m=\u001b[0m \u001b[0;36m2000\u001b[0m\u001b[0;34m\u001b[0m\u001b[0;34m\u001b[0m\u001b[0m\n\u001b[0m",
      "\u001b[0;31mAttributeError\u001b[0m: can't set attribute"
     ]
    }
   ],
   "source": [
    "bus.annee = 2000"
   ]
  },
  {
   "cell_type": "markdown",
   "metadata": {},
   "source": [
    "### 12. Reprendre le code de la classe `Bus`. Modifier la propriété `annee` pour qu'elle soit accessible en lecture et écriture."
   ]
  },
  {
   "cell_type": "code",
   "execution_count": 83,
   "metadata": {},
   "outputs": [],
   "source": [
    "class Bus(Vehicule):\n",
    "    \n",
    "    def __init__(self, marque, vitesse_max, kilometrage, nb_places, prix_ticket, annee):\n",
    "        super().__init__(marque, vitesse_max, kilometrage, nb_places)\n",
    "        self.prix_ticket = prix_ticket\n",
    "        self.__annee = annee\n",
    "        \n",
    "    def calculer_tarif(self):\n",
    "        return self.nb_places * self.prix_ticket\n",
    "    \n",
    "    @property\n",
    "    def annee(self):\n",
    "        return self.__annee\n",
    "    \n",
    "    @annee.setter\n",
    "    def annee(self, new_year):\n",
    "        self.__annee = new_year"
   ]
  },
  {
   "cell_type": "code",
   "execution_count": 85,
   "metadata": {},
   "outputs": [
    {
     "name": "stdout",
     "output_type": "stream",
     "text": [
      "2004\n"
     ]
    }
   ],
   "source": [
    "bus = Bus(marque=\"Volkwagen\", vitesse_max=230, kilometrage=100, nb_places=15, prix_ticket=8, annee=1999)\n",
    "bus.annee = 2004\n",
    "print(bus.annee)"
   ]
  }
 ],
 "metadata": {
  "kernelspec": {
   "display_name": "Python 3",
   "language": "python",
   "name": "python3"
  },
  "language_info": {
   "codemirror_mode": {
    "name": "ipython",
    "version": 3
   },
   "file_extension": ".py",
   "mimetype": "text/x-python",
   "name": "python",
   "nbconvert_exporter": "python",
   "pygments_lexer": "ipython3",
   "version": "3.9.0"
  }
 },
 "nbformat": 4,
 "nbformat_minor": 4
}
