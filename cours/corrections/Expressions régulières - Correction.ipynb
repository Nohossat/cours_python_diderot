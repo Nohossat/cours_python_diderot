{
 "cells": [
  {
   "cell_type": "markdown",
   "metadata": {},
   "source": [
    "# Expressions régulières - 09/04"
   ]
  },
  {
   "cell_type": "markdown",
   "metadata": {},
   "source": [
    "## Exercices\n",
    "\n",
    "### Avec l'outil en ligne, [regexr](https://regexr.com/), trouver des expressions régulières permettant d'identifier les chaînes de caractères suivantes : \n",
    "\n",
    "- \"Hello\"\n",
    "- \"success\"\n",
    "- \"john.doe87@gmail.com\"\n",
    "- \"007 James Bond\"\n",
    "- \"ABBA\" et \"ABA\"\n",
    "- \"fichier_python\"\n",
    "- \"Nous sommes le 8 septembre\"\n",
    "- Nous sommes le 8 septembre !\""
   ]
  },
  {
   "cell_type": "code",
   "execution_count": 1,
   "metadata": {},
   "outputs": [],
   "source": [
    "pattern = r\"Hel{2}o\"\n",
    "pattern1 = r\"suc{2}es{2}\"\n",
    "pattern2 = r\"[\\w+\\.\\w+@*]+\"\n",
    "pattern3 = r\"\\d{3}[\\s\\w+]+\"\n",
    "pattern4 = r\"AB+A\"\n",
    "pattern5 = r\"\\w+\"\n",
    "pattern6 = r\"[\\w+\\s+]+\"\n",
    "pattern7 = r\"[\\w+\\s+]+\\!\""
   ]
  },
  {
   "cell_type": "markdown",
   "metadata": {},
   "source": [
    "## Exercices\n",
    "\n",
    "Utilisez les groupes capturants et non-capturants pour résoudre les prochains problèmes: \n",
    "\n",
    "#### 1. Nous avons 3 fichiers nommés `text1.txt`, `text_json.json` et `text_js.js`. Créer une regex pour récupérer le basename des fichiers avec l'extension txt ou json."
   ]
  },
  {
   "cell_type": "code",
   "execution_count": null,
   "metadata": {},
   "outputs": [],
   "source": [
    "pattern = r\"(\\w+)(?=\\.(txt|json))\""
   ]
  },
  {
   "cell_type": "markdown",
   "metadata": {},
   "source": [
    "#### 2. Voici 3 urls : \n",
    "https://example.com/news/article1,  \n",
    "https://example.com/promotions/promo1,   \n",
    "https://example.com/cadeaux/cadeau1.  \n",
    "Créer une regex pour récupérer les catégories d'une part (news, promotions, cadeaux) et le nom des pages de l'autre (article1, promo1, cadeau1)."
   ]
  },
  {
   "cell_type": "code",
   "execution_count": 1,
   "metadata": {},
   "outputs": [],
   "source": [
    "pattern = r\"https:\\/\\/\\w+\\.\\w{3}\\/(\\w+)\\/(\\w+)\""
   ]
  },
  {
   "cell_type": "markdown",
   "metadata": {},
   "source": [
    "#### 3. Créer une regex pour extraire une date (format : JJ-MM-AAAA) d'un texte. Utiliser les groupes capturants pour pouvoir sélectionner dans la date, le jour, le mois et l'année."
   ]
  },
  {
   "cell_type": "code",
   "execution_count": null,
   "metadata": {},
   "outputs": [],
   "source": [
    "pattern = r\"(\\d{2})\\-(\\d{2})\\-(\\d{4})\""
   ]
  },
  {
   "cell_type": "markdown",
   "metadata": {},
   "source": [
    "## Exercices\n",
    "\n",
    ">Il avait d’abord commencé par récupérer des informations depuis l’ordinateur de David, puis il était allé les chercher sur Internet. Il avait lui même programmé l’ordinateur de David afin d’avoir un premier lien vers le monde extérieur : la voix. Il pouvait entendre la voix de David, mais ne la comprenait pas. C’est alors qu’il a décidé d’aller lui même à l’information. Il s’est alors \"transporté\" sur Internet afin de choisir une nouvelle \"maison\". Il lui a été beaucoup plus facile de programmer ce nouvel ordinateur afin d’entendre une nouvelle voix.\n",
    "\n",
    "A partir du texte ci-dessous et regexr, créer les regex suivantes : \n",
    "\n",
    "#### 1. Trouver les occurrences du mot \"ordinateur\" sans qu'il ne soit suivi de \"de David\"\n"
   ]
  },
  {
   "cell_type": "code",
   "execution_count": null,
   "metadata": {},
   "outputs": [],
   "source": [
    "pattern = r\"ordinateur(?![\\w\\s]*David)\""
   ]
  },
  {
   "cell_type": "markdown",
   "metadata": {},
   "source": [
    "#### 2. Trouver toutes les occurrences du mot \"Il\" directement suivi d'un espace et du mot \"avait\"\n"
   ]
  },
  {
   "cell_type": "code",
   "execution_count": null,
   "metadata": {},
   "outputs": [],
   "source": [
    "pattern = r\"Il(?=\\savait)\""
   ]
  },
  {
   "cell_type": "markdown",
   "metadata": {},
   "source": [
    "#### 3. Trouver tous les mots entourés de guillemets"
   ]
  },
  {
   "cell_type": "code",
   "execution_count": null,
   "metadata": {},
   "outputs": [],
   "source": [
    "pattern = r'\\\".*?\\\"'"
   ]
  },
  {
   "cell_type": "markdown",
   "metadata": {},
   "source": [
    "#### 4. Trouver tous les mots suivis directement d'un point"
   ]
  },
  {
   "cell_type": "code",
   "execution_count": null,
   "metadata": {},
   "outputs": [],
   "source": [
    "pattern = r\"\\w+(?=\\.)\""
   ]
  },
  {
   "cell_type": "markdown",
   "metadata": {},
   "source": [
    "## Exercices\n",
    "\n",
    "Pour chaque énoncé, écrire une fonction qui prendra une chaîne de caractères nommée `text` :\n",
    "\n",
    "Pour rappel, les fonctions suivent cette syntaxe : \n",
    "\n",
    "```\n",
    "def function(arg1, arg2):\n",
    "   # code here\n",
    "   return something\n",
    "```"
   ]
  },
  {
   "cell_type": "code",
   "execution_count": 3,
   "metadata": {},
   "outputs": [],
   "source": [
    "import re"
   ]
  },
  {
   "cell_type": "markdown",
   "metadata": {},
   "source": [
    "#### 1. Vérifier que le texte passé en argument est une url"
   ]
  },
  {
   "cell_type": "code",
   "execution_count": 8,
   "metadata": {},
   "outputs": [],
   "source": [
    "def is_url(url):\n",
    "    pattern = r\"(?:https?\\:\\/\\/)?(?:w{3}\\.)?\\w+\\.\\w{2,3}(?:(?:\\/\\w+)*)?\"\n",
    "    res = re.match(pattern, url)\n",
    "\n",
    "    return bool(res)"
   ]
  },
  {
   "cell_type": "code",
   "execution_count": 9,
   "metadata": {},
   "outputs": [
    {
     "name": "stdout",
     "output_type": "stream",
     "text": [
      "True\n",
      "True\n",
      "True\n",
      "True\n",
      "True\n",
      "True\n",
      "True\n",
      "False\n",
      "True\n"
     ]
    }
   ],
   "source": [
    "exemples = [\"https://example.com/news/article1\",\n",
    "\"https://example.com/promotions/promo1\",\n",
    "\"https://example.com/cadeaux/cadeau1\",\n",
    "\"https://example.com\",\n",
    "\"www.example.com\",\n",
    "\"https://www.example.com\",\n",
    "\"http://www.example.com\",\n",
    "\"examplecom\",\n",
    "\"example.com\"]\n",
    "\n",
    "for ex in exemples:\n",
    "    print(is_url(ex))"
   ]
  },
  {
   "cell_type": "markdown",
   "metadata": {},
   "source": [
    "#### 2. Retirer tous les espaces du texte"
   ]
  },
  {
   "cell_type": "code",
   "execution_count": 10,
   "metadata": {},
   "outputs": [
    {
     "data": {
      "text/plain": [
       "'Onaretirétouslesespaces:-s'"
      ]
     },
     "execution_count": 10,
     "metadata": {},
     "output_type": "execute_result"
    }
   ],
   "source": [
    "def remove_spaces(text):\n",
    "    return re.sub(r\"\\s\", \"\", text)\n",
    "\n",
    "remove_spaces(\"On a retiré tous les espaces :-s\")"
   ]
  },
  {
   "cell_type": "markdown",
   "metadata": {},
   "source": [
    "#### 3. Créer une fonction avec deux paramètres : le premier, nommé mot, sera utilisé pour vérifier si le deuxième commence bien par cette chaîne de caractères."
   ]
  },
  {
   "cell_type": "code",
   "execution_count": 11,
   "metadata": {},
   "outputs": [
    {
     "name": "stdout",
     "output_type": "stream",
     "text": [
      "False\n",
      "True\n",
      "False\n"
     ]
    }
   ],
   "source": [
    "def start_with(mot, text):\n",
    "    res = re.match(mot, text)\n",
    "    return res is not None\n",
    "\n",
    "print(start_with(\"fraise\", \"J'aime les fraises\"))\n",
    "print(start_with(\"J'\", \"J'aime les fraises\"))\n",
    "print(start_with(\"les\", \"J'aime les fraises\"))"
   ]
  },
  {
   "cell_type": "markdown",
   "metadata": {},
   "source": [
    "#### 4. Extraire une sous-chaîne entourée de parenthèses sinon retourner la chaîne entière"
   ]
  },
  {
   "cell_type": "code",
   "execution_count": 14,
   "metadata": {},
   "outputs": [
    {
     "data": {
      "text/plain": [
       "'presque'"
      ]
     },
     "execution_count": 14,
     "metadata": {},
     "output_type": "execute_result"
    }
   ],
   "source": [
    "def extract_substring(text):\n",
    "    res = re.search(r'\\((.+?)\\)', text)\n",
    "    \n",
    "    if res is not None:\n",
    "        return res.group(1)\n",
    "    else:\n",
    "        return text\n",
    "    \n",
    "    \n",
    "extract_substring(\"Il s'agit d'une chaîne de caractères (presque) normale\")"
   ]
  },
  {
   "cell_type": "markdown",
   "metadata": {},
   "source": [
    "#### 5. Extraire tous les mots dont la longueur est supérieur à 4"
   ]
  },
  {
   "cell_type": "code",
   "execution_count": 15,
   "metadata": {},
   "outputs": [
    {
     "data": {
      "text/plain": [
       "['avait',\n",
       " 'abord',\n",
       " 'commencé',\n",
       " 'récupérer',\n",
       " 'informations',\n",
       " 'depuis',\n",
       " 'ordinateur',\n",
       " 'David']"
      ]
     },
     "execution_count": 15,
     "metadata": {},
     "output_type": "execute_result"
    }
   ],
   "source": [
    "def extract_correct_words(text):\n",
    "    res = re.findall(r\"\\w{4,}\", text)\n",
    "    return res\n",
    "\n",
    "extract_correct_words(\"Il avait d’abord commencé par récupérer des informations depuis l’ordinateur de David\")"
   ]
  },
  {
   "cell_type": "markdown",
   "metadata": {},
   "source": [
    "#### 6. Remplacer tous les espaces, virgules et points par des points virgules"
   ]
  },
  {
   "cell_type": "code",
   "execution_count": 16,
   "metadata": {},
   "outputs": [
    {
     "data": {
      "text/plain": [
       "'Il;avait;d’abord;commencé;par;récupérer;des;informations;depuis;l’ordinateur;de;David;;puis;il;était;allé;les;chercher;sur;Internet;'"
      ]
     },
     "execution_count": 16,
     "metadata": {},
     "output_type": "execute_result"
    }
   ],
   "source": [
    "def replace_punctuation(text):\n",
    "    res = re.sub(r\"[\\s\\,\\.]\", \";\", text)\n",
    "    return res\n",
    "\n",
    "replace_punctuation(\"Il avait d’abord commencé par récupérer des informations depuis l’ordinateur de David, puis il était allé les chercher sur Internet.\")\n",
    "\n"
   ]
  },
  {
   "cell_type": "markdown",
   "metadata": {},
   "source": [
    "#### 7. Extraire tous les mots commençant par a et e"
   ]
  },
  {
   "cell_type": "code",
   "execution_count": 19,
   "metadata": {},
   "outputs": [
    {
     "data": {
      "text/plain": [
       "['avait', 'abord', 'était', 'allé']"
      ]
     },
     "execution_count": 19,
     "metadata": {},
     "output_type": "execute_result"
    }
   ],
   "source": [
    "def extract_words(text):\n",
    "    res = re.findall(r\"\\b[aeéèà]\\w+\\b\", text) # ici on prend aussi en compte les lettres accentuées\n",
    "    return res\n",
    "\n",
    "extract_words(\"Il avait d’abord commencé par récupérer des informations depuis l’ordinateur de David, puis il était allé les chercher sur Internet.\")"
   ]
  },
  {
   "cell_type": "markdown",
   "metadata": {},
   "source": [
    "#### 8. Transformer une date écrite au format JJ/MM/AAAA au format AAAA-MM-JJ\n"
   ]
  },
  {
   "cell_type": "code",
   "execution_count": 20,
   "metadata": {},
   "outputs": [
    {
     "data": {
      "text/plain": [
       "'2020-08-23'"
      ]
     },
     "execution_count": 20,
     "metadata": {},
     "output_type": "execute_result"
    }
   ],
   "source": [
    "def transform_date(date):\n",
    "    day, month, year = re.findall(r\"\\d{2,4}\", date)\n",
    "    return f\"{year}-{month}-{day}\"\n",
    "\n",
    "transform_date(\"23/08/2020\")"
   ]
  },
  {
   "cell_type": "markdown",
   "metadata": {},
   "source": [
    "#### 9. Créer une fonction avec deux paramètres : le premier, nommé mots, de type liste, sera utilisé pour vérifier si le deuxième, nommé text, contient tous les mots de cette liste "
   ]
  },
  {
   "cell_type": "code",
   "execution_count": 21,
   "metadata": {},
   "outputs": [
    {
     "name": "stdout",
     "output_type": "stream",
     "text": [
      "True\n",
      "False\n"
     ]
    }
   ],
   "source": [
    "def has_words(mots, text):\n",
    "    flag = True\n",
    "    \n",
    "    for word in mots:\n",
    "        res = re.search(word, text)\n",
    "        \n",
    "        if res is None:\n",
    "            flag = False\n",
    "            break\n",
    "    \n",
    "    return flag\n",
    "\n",
    "print(has_words([\"Il\", \"par\"], \"Il avait d’abord commencé par récupérer des informations\"))\n",
    "print(has_words([\"des\", \"infos\"], \"Il avait d’abord commencé par récupérer des informations\"))"
   ]
  },
  {
   "cell_type": "markdown",
   "metadata": {},
   "source": [
    "#### 10. Trouver les mots contenant la lettre p dans une chaîne de caractères."
   ]
  },
  {
   "cell_type": "code",
   "execution_count": 22,
   "metadata": {},
   "outputs": [
    {
     "data": {
      "text/plain": [
       "['par', 'récupérer']"
      ]
     },
     "execution_count": 22,
     "metadata": {},
     "output_type": "execute_result"
    }
   ],
   "source": [
    "def has_p(text):\n",
    "    return re.findall(r\"\\b\\w*p+\\w*\\b\", text)\n",
    "\n",
    "has_p(\"Il avait d’abord commencé par récupérer des informations\")"
   ]
  }
 ],
 "metadata": {
  "kernelspec": {
   "display_name": "Python 3",
   "language": "python",
   "name": "python3"
  },
  "language_info": {
   "codemirror_mode": {
    "name": "ipython",
    "version": 3
   },
   "file_extension": ".py",
   "mimetype": "text/x-python",
   "name": "python",
   "nbconvert_exporter": "python",
   "pygments_lexer": "ipython3",
   "version": "3.8.5"
  }
 },
 "nbformat": 4,
 "nbformat_minor": 4
}
