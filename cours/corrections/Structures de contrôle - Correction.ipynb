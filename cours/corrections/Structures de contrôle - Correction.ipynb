{
 "cells": [
  {
   "cell_type": "markdown",
   "metadata": {},
   "source": [
    "# Structures de contrôle et Exceptions - Correction - 12/03"
   ]
  },
  {
   "cell_type": "markdown",
   "metadata": {},
   "source": [
    "### Exercices sur les structures de contrôle\n",
    "\n",
    "1. Récupérer un nombre saisi par l'utilisateur puis créer une boucle de 0 jusqu'au nombre saisi. Afficher le nombre à chaque itération.\n",
    "2. Récupérer une lettre saisie par un utilisateur et vérifier s'il s'agit d'une voyelle ou une consonne. \n",
    "3. Ecrire un programme qui affiche le plus petit entier n tel que 1² + 2² + 3² + ... + n² dépasse 230987.\n",
    "4. Ecrire un programme qui affiche la table de multiplication d’un chiffre n.\n",
    "5. Ecrire un programme qui affiche la puissance des 10 premiers entiers positifs. \n",
    "6. Ecrire un programme pour trouver un maximum entre trois nombres inscrits dans une liste. `ex : 20 56 12`\n",
    "7. Écrire un programme pour vérifier si un nombre est divisible par 7 et 19 ou non.\n",
    "8. Ecrire un programme qui affiche le plus petit entier n tel que (n+1)*(n+3) dépasse 12345.\n",
    "9. `numbers = [3, 12, 25, 33, 45, 56, 70, 102, 110, 122, 155, 183, 205]` Itérer sur la liste `numbers` et retourner les nombres multiples de 5. Si vous tombez sur un nombre supérieur à 155, arrêter la boucle.\n",
    "10. Récupérer un nombre saisi par l'utilisateur et afficher la longueur du nombre"
   ]
  },
  {
   "cell_type": "code",
   "execution_count": 1,
   "metadata": {},
   "outputs": [
    {
     "name": "stdin",
     "output_type": "stream",
     "text": [
      "Donner un nombre: 10\n"
     ]
    },
    {
     "name": "stdout",
     "output_type": "stream",
     "text": [
      "0\n",
      "1\n",
      "2\n",
      "3\n",
      "4\n",
      "5\n",
      "6\n",
      "7\n",
      "8\n",
      "9\n"
     ]
    }
   ],
   "source": [
    "# Récupérer un nombre saisi par l'utilisateur puis créer une boucle de 0 \n",
    "# jusqu'au nombre saisi. Afficher le nombre à chaque itération.\n",
    "nb = input(\"Donner un nombre:\")\n",
    "for i in range(int(nb)):\n",
    "    print(i)"
   ]
  },
  {
   "cell_type": "code",
   "execution_count": 12,
   "metadata": {},
   "outputs": [
    {
     "name": "stdin",
     "output_type": "stream",
     "text": [
      "Ecrire une lettre: l\n"
     ]
    },
    {
     "name": "stdout",
     "output_type": "stream",
     "text": [
      "il s'agit d'une consonne\n"
     ]
    }
   ],
   "source": [
    "# Récupérer une lettre saisie par un utilisateur et vérifier s'il s'agit d'une voyelle ou une consonne.\n",
    "# on pourrait complexifier l'exercice en procédant à la vérification de l'input\n",
    "lettre = input(\"Ecrire une lettre:\") \n",
    "\n",
    "if lettre in \"aeyuio\":\n",
    "    print(\"il s'agit d'une voyelle\")\n",
    "else:\n",
    "    print(\"il s'agit d'une consonne\")"
   ]
  },
  {
   "cell_type": "code",
   "execution_count": 17,
   "metadata": {},
   "outputs": [
    {
     "name": "stdout",
     "output_type": "stream",
     "text": [
      "n vaut 88 pour un total de 231044\n"
     ]
    }
   ],
   "source": [
    "# Ecrire un programme qui affiche le plus petit entier n tel que 1² + 2² + 3² + ... + n² dépasse 230987\n",
    "\n",
    "total = 0\n",
    "n = 0\n",
    "\n",
    "while total < 230987:\n",
    "    n += 1\n",
    "    total = total + n**2\n",
    "else:\n",
    "    print(f\"n vaut {n} pour un total de {total}\")"
   ]
  },
  {
   "cell_type": "code",
   "execution_count": 19,
   "metadata": {},
   "outputs": [
    {
     "name": "stdin",
     "output_type": "stream",
     "text": [
      "Ecrire un nombre 2\n"
     ]
    },
    {
     "name": "stdout",
     "output_type": "stream",
     "text": [
      "0\n",
      "2\n",
      "4\n",
      "6\n",
      "8\n",
      "10\n",
      "12\n",
      "14\n",
      "16\n",
      "18\n",
      "20\n"
     ]
    }
   ],
   "source": [
    "# Ecrire un programme qui affiche la table de multiplication d’un chiffre n.\n",
    "\n",
    "nb = input(\"Ecrire un nombre\")\n",
    "\n",
    "for i in range(11):\n",
    "    print(int(nb) * i)"
   ]
  },
  {
   "cell_type": "code",
   "execution_count": 20,
   "metadata": {},
   "outputs": [
    {
     "name": "stdout",
     "output_type": "stream",
     "text": [
      "0\n",
      "1\n",
      "4\n",
      "9\n",
      "16\n",
      "25\n",
      "36\n",
      "49\n",
      "64\n",
      "81\n",
      "100\n"
     ]
    }
   ],
   "source": [
    "# Ecrire un programme qui affiche la puissance des 10 premiers entiers positifs. \n",
    "for i in range(11):\n",
    "    print(i**2)"
   ]
  },
  {
   "cell_type": "code",
   "execution_count": 24,
   "metadata": {},
   "outputs": [
    {
     "name": "stdout",
     "output_type": "stream",
     "text": [
      "2282\n"
     ]
    }
   ],
   "source": [
    "# Ecrire un programme pour trouver un maximum entre trois nombres inscrits dans une liste. ex : 20 56 12\n",
    "nbs = [20, 56, 12, 672, 9, 2282, 1]\n",
    "\n",
    "max_val = nbs[0]\n",
    "for i in range(1, len(nbs)):\n",
    "    if nbs[i] > max_val:\n",
    "        max_val = nbs[i]\n",
    "else:\n",
    "    print(max_val)"
   ]
  },
  {
   "cell_type": "code",
   "execution_count": 27,
   "metadata": {},
   "outputs": [
    {
     "name": "stdout",
     "output_type": "stream",
     "text": [
      "le nombre n'est pas divisible par 7 et 19\n"
     ]
    }
   ],
   "source": [
    "# Écrire un programme pour vérifier si un nombre est divisible par 7 et 19 ou non.\n",
    "nb = 133 # divisible par 7 et 19\n",
    "# nb = 738 # n'est pas divisible par 7 et 19\n",
    "\n",
    "if nb % 7 == 0 and nb % 19 == 0:\n",
    "    print(\"le nombre est divisible par 7 et 19\")\n",
    "else:\n",
    "    print(\"le nombre n'est pas divisible par 7 et 19\")"
   ]
  },
  {
   "cell_type": "code",
   "execution_count": 28,
   "metadata": {},
   "outputs": [
    {
     "name": "stdout",
     "output_type": "stream",
     "text": [
      "n vaut 31 pour un total de 12493\n"
     ]
    }
   ],
   "source": [
    "# Ecrire un programme qui affiche le plus petit entier n tel que (n+1)*(n+3) dépasse 12345.\n",
    "\n",
    "total = 0\n",
    "n = 0\n",
    "\n",
    "while total < 12345:\n",
    "    n += 1\n",
    "    total = total + (n + 1) * (n + 3)\n",
    "else:\n",
    "    print(f\"n vaut {n} pour un total de {total}\")"
   ]
  },
  {
   "cell_type": "code",
   "execution_count": 29,
   "metadata": {},
   "outputs": [
    {
     "name": "stdout",
     "output_type": "stream",
     "text": [
      "25\n",
      "45\n",
      "70\n",
      "110\n",
      "155\n"
     ]
    }
   ],
   "source": [
    "# numbers = [3, 12, 25, 33, 45, 56, 70, 102, 110, 122, 155, 183, 205] \n",
    "# Itérer sur la liste numbers et retourner les nombres multiples de 5. \n",
    "# Si vous tombez sur un nombre supérieur à 155, arrêter la boucle\n",
    "\n",
    "numbers = [3, 12, 25, 33, 45, 56, 70, 102, 110, 122, 155, 183, 205] \n",
    "\n",
    "for i in numbers:\n",
    "    if i > 155:\n",
    "        break\n",
    "    else:\n",
    "        if i % 5 == 0:\n",
    "            print(i)"
   ]
  },
  {
   "cell_type": "code",
   "execution_count": 31,
   "metadata": {},
   "outputs": [
    {
     "name": "stdin",
     "output_type": "stream",
     "text": [
      "Ecrire un nombre 83827984\n"
     ]
    },
    {
     "name": "stdout",
     "output_type": "stream",
     "text": [
      "8\n"
     ]
    }
   ],
   "source": [
    "# Récupérer un nombre saisi par l'utilisateur et afficher la longueur du nombre\n",
    "nb = input(\"Ecrire un nombre\")\n",
    "\n",
    "print(len(nb))"
   ]
  },
  {
   "cell_type": "markdown",
   "metadata": {},
   "source": [
    "<a id=\"errors\"></a>\n",
    "## Erreurs et Exceptions"
   ]
  },
  {
   "cell_type": "markdown",
   "metadata": {},
   "source": [
    "## Exercices\n",
    "\n",
    "Corrigez les erreurs des codes suivants et/ou prenez en compte les exceptions. Assurez-vous de leur compilation : "
   ]
  },
  {
   "cell_type": "code",
   "execution_count": 32,
   "metadata": {},
   "outputs": [
    {
     "data": {
      "text/plain": [
       "'Hello John'"
      ]
     },
     "execution_count": 32,
     "metadata": {},
     "output_type": "execute_result"
    }
   ],
   "source": [
    "def say_hello(person):\n",
    "    return f\"Hello {person}\"\n",
    "\n",
    "say_hello(\"John\")"
   ]
  },
  {
   "cell_type": "code",
   "execution_count": 34,
   "metadata": {},
   "outputs": [
    {
     "name": "stdin",
     "output_type": "stream",
     "text": [
      "Saisir un nombre :  89382\n",
      "Saisir un deuxième nombre :  0\n"
     ]
    },
    {
     "name": "stdout",
     "output_type": "stream",
     "text": [
      "On ne peut pas faire une division par 0\n"
     ]
    }
   ],
   "source": [
    "user_input1 = input(\"Saisir un nombre : \")\n",
    "user_input2 = input(\"Saisir un deuxième nombre : \")\n",
    "\n",
    "try:\n",
    "    int(user_input1) / int(user_input2)\n",
    "except ZeroDivisionError as e:\n",
    "    print(\"On ne peut pas faire une division par 0\")"
   ]
  },
  {
   "cell_type": "code",
   "execution_count": 37,
   "metadata": {},
   "outputs": [
    {
     "name": "stdout",
     "output_type": "stream",
     "text": [
      "Cete valeur n'existe pas\n"
     ]
    }
   ],
   "source": [
    "parfums = [\n",
    "    'chocalat',\n",
    "    'vanille',\n",
    "    'fraise'\n",
    "]\n",
    "\n",
    "try:\n",
    "    print(parfums[3])\n",
    "except IndexError as e:\n",
    "    print(\"Cete valeur n'existe pas\")"
   ]
  },
  {
   "cell_type": "code",
   "execution_count": 39,
   "metadata": {},
   "outputs": [
    {
     "name": "stdout",
     "output_type": "stream",
     "text": [
      "hello, world!\n"
     ]
    },
    {
     "data": {
      "text/plain": [
       "'hello, world!'"
      ]
     },
     "execution_count": 39,
     "metadata": {},
     "output_type": "execute_result"
    }
   ],
   "source": [
    "def say_hello():\n",
    "    msg = 'hello, world!'\n",
    "    print(msg)\n",
    "    return msg\n",
    "say_hello()"
   ]
  },
  {
   "cell_type": "code",
   "execution_count": 40,
   "metadata": {},
   "outputs": [
    {
     "name": "stdout",
     "output_type": "stream",
     "text": [
      "The count is: 45\n"
     ]
    }
   ],
   "source": [
    "count = 0\n",
    "for number in range(10):\n",
    "    count = count + number\n",
    "print('The count is:', count)"
   ]
  },
  {
   "cell_type": "code",
   "execution_count": 43,
   "metadata": {},
   "outputs": [
    {
     "name": "stdout",
     "output_type": "stream",
     "text": [
      "Cette clé n'existe pas\n"
     ]
    }
   ],
   "source": [
    "def print_message(day):\n",
    "    messages = {\n",
    "        'monday': 'Hello, world!',\n",
    "        'tuesday': 'Today is Tuesday!',\n",
    "        'wednesday': 'It is the middle of the week.',\n",
    "        'thursday': 'Today is Donnerstag in German!',\n",
    "        'friday': 'Last day of the week!',\n",
    "        'saturday': 'Hooray for the weekend!',\n",
    "        'sunday': 'Aw, the weekend is almost over.'\n",
    "    }\n",
    "    print(messages[day])\n",
    "\n",
    "try:\n",
    "    print_message('Friday')\n",
    "except KeyError as e:\n",
    "    print(\"Cette clé n'existe pas\")"
   ]
  },
  {
   "cell_type": "code",
   "execution_count": 46,
   "metadata": {},
   "outputs": [
    {
     "name": "stdout",
     "output_type": "stream",
     "text": [
      "abbabbabba\n"
     ]
    }
   ],
   "source": [
    "message = \"\"\n",
    "for number in range(10):\n",
    "    if (number % 3) == 0:\n",
    "        a = \"a\"\n",
    "        message = message + a\n",
    "    else:\n",
    "        message = message + 'b'\n",
    "print(message)"
   ]
  },
  {
   "cell_type": "code",
   "execution_count": 47,
   "metadata": {},
   "outputs": [
    {
     "name": "stdout",
     "output_type": "stream",
     "text": [
      "Ma saison préférée est Hiver\n"
     ]
    }
   ],
   "source": [
    "saisons = ['Printemps', 'Ete', 'Automne', 'Hiver']\n",
    "print(f'Ma saison préférée est {saisons[3]}')"
   ]
  },
  {
   "cell_type": "code",
   "execution_count": 48,
   "metadata": {},
   "outputs": [
    {
     "name": "stdout",
     "output_type": "stream",
     "text": [
      "le fichier n'existe pas\n"
     ]
    }
   ],
   "source": [
    "try:\n",
    "    file = \"non_existing_file.txt\"\n",
    "    f = open(file, 'r')\n",
    "    print(len(f.read()))\n",
    "    f.close()\n",
    "except FileNotFoundError as e:\n",
    "    print(\"le fichier n'existe pas\")"
   ]
  },
  {
   "cell_type": "markdown",
   "metadata": {},
   "source": [
    "Ecrire un programme qui demande à l’utilisateur d'écrire son âge et qui gère le cas où celui-ci n’entre pas un nombre."
   ]
  },
  {
   "cell_type": "code",
   "execution_count": 54,
   "metadata": {},
   "outputs": [
    {
     "name": "stdin",
     "output_type": "stream",
     "text": [
      "Quel est votre âge ? 65\n"
     ]
    },
    {
     "name": "stdout",
     "output_type": "stream",
     "text": [
      "Votre âge est 65\n"
     ]
    }
   ],
   "source": [
    "age = input(\"Quel est votre âge ?\")\n",
    "\n",
    "if not age.isnumeric():\n",
    "    print(\"L'âge doit être une valeur numérique\")\n",
    "else:\n",
    "    print(f\"Votre âge est {age}\")"
   ]
  },
  {
   "cell_type": "markdown",
   "metadata": {},
   "source": [
    "## Ressources\n",
    "\n",
    "[Exceptions - Documentation officielle Python](https://docs.python.org/3/tutorial/errors.html)"
   ]
  }
 ],
 "metadata": {
  "kernelspec": {
   "display_name": "Python 3",
   "language": "python",
   "name": "python3"
  },
  "language_info": {
   "codemirror_mode": {
    "name": "ipython",
    "version": 3
   },
   "file_extension": ".py",
   "mimetype": "text/x-python",
   "name": "python",
   "nbconvert_exporter": "python",
   "pygments_lexer": "ipython3",
   "version": "3.9.0"
  }
 },
 "nbformat": 4,
 "nbformat_minor": 4
}
