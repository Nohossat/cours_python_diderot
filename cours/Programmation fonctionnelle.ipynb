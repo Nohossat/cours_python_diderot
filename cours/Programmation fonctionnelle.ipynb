{
 "cells": [
  {
   "cell_type": "markdown",
   "metadata": {},
   "source": [
    "# Programmation fonctionnelle - 26/03"
   ]
  },
  {
   "cell_type": "markdown",
   "metadata": {},
   "source": [
    "## Qu'est-ce qu'une fonction ? \n",
    "\n",
    "Les fonctions comme dans les autres langages de programmation permettent une modularité de notre code et la possibilité de réutiliser certaines parties. Dans les notebooks précédents, nous avons déjà pu utiliser quelques fonctions standard telles que **len()** ou **int()**. \n",
    "\n",
    "Toute instruction suivie de parenthèses est un appel de fonction. \n",
    "\n",
    "On peut aussi créer les notres, en voici un exemple :"
   ]
  },
  {
   "cell_type": "code",
   "execution_count": 1,
   "metadata": {},
   "outputs": [
    {
     "data": {
      "text/plain": [
       "'Hello John'"
      ]
     },
     "execution_count": 1,
     "metadata": {},
     "output_type": "execute_result"
    }
   ],
   "source": [
    "def say_hello(person):\n",
    "    return f\"Hello {person}\"\n",
    "\n",
    "say_hello(\"John\")"
   ]
  },
  {
   "cell_type": "markdown",
   "metadata": {},
   "source": [
    "Pour définir une fonction, on commence nécessairement par le mot-clé **def**, suivi du nom de la fonction, des arguments entre parenthèses (optionnels) et de deux points:\n",
    "\n",
    "`def say_hello(person):`  \n",
    "`def say_hello:`\n",
    "\n",
    "Le code d'une fonction doit être indenté au risque de provoquer une **IndentationError**.\n",
    "\n",
    "Une fonction termine son exécution lorsqu'elle rencontre l'instruction **return**.\n",
    "\n",
    "### Scopes / Variables locales - globales\n",
    "\n",
    "Les arguments et les variables définis dans une fonction ne sont accessibles qu'à l'intérieur de celles-ci."
   ]
  },
  {
   "cell_type": "code",
   "execution_count": 55,
   "metadata": {},
   "outputs": [],
   "source": [
    "def introduce_yourself(person, age):\n",
    "    ville = \"Paris\"\n",
    "    return f\"Je m'appelle {person}, j'ai {age} ans et je vis à {ville}\""
   ]
  },
  {
   "cell_type": "code",
   "execution_count": 57,
   "metadata": {},
   "outputs": [
    {
     "ename": "NameError",
     "evalue": "name 'ville' is not defined",
     "output_type": "error",
     "traceback": [
      "\u001b[0;31m---------------------------------------------------------------------------\u001b[0m",
      "\u001b[0;31mNameError\u001b[0m                                 Traceback (most recent call last)",
      "\u001b[0;32m<ipython-input-57-47f5994eded0>\u001b[0m in \u001b[0;36m<module>\u001b[0;34m\u001b[0m\n\u001b[1;32m      1\u001b[0m \u001b[0mintroduce_yourself\u001b[0m\u001b[0;34m(\u001b[0m\u001b[0;34m\"Bastien\"\u001b[0m\u001b[0;34m,\u001b[0m \u001b[0;36m20\u001b[0m\u001b[0;34m)\u001b[0m\u001b[0;34m\u001b[0m\u001b[0;34m\u001b[0m\u001b[0m\n\u001b[0;32m----> 2\u001b[0;31m \u001b[0mprint\u001b[0m\u001b[0;34m(\u001b[0m\u001b[0mville\u001b[0m\u001b[0;34m)\u001b[0m\u001b[0;34m\u001b[0m\u001b[0;34m\u001b[0m\u001b[0m\n\u001b[0m",
      "\u001b[0;31mNameError\u001b[0m: name 'ville' is not defined"
     ]
    }
   ],
   "source": [
    "introduce_yourself(\"Bastien\", 20)\n",
    "print(ville)"
   ]
  },
  {
   "cell_type": "markdown",
   "metadata": {},
   "source": [
    "La variable `ville` est une variable locale : elle n'est accessible que dans le scope (portée) de la fonction `introduce_yourself`.\n",
    "\n",
    "Les variables globales sont définies en dehors de toute fonction ou classe et peuvent être accessibles depuis n'importe quel objet.\n",
    "\n",
    "**Quel est le risque des variables globales**?"
   ]
  },
  {
   "cell_type": "markdown",
   "metadata": {},
   "source": [
    "### Exercices\n",
    "\n",
    "- Créer une fonction qui permet de déterminer si une personne est mineure ou non\n",
    "- Créer une fonction qui permet de calculer les puissances carrées de plusieurs éléments contenus dans une liste\n",
    "- Créer une fonction qui permet d'inverser les éléments d'une liste"
   ]
  },
  {
   "cell_type": "code",
   "execution_count": null,
   "metadata": {},
   "outputs": [],
   "source": []
  },
  {
   "cell_type": "markdown",
   "metadata": {},
   "source": [
    "## Qu'est-ce que la programmation fonctionnelle ?\n",
    "\n",
    "Dans les premiers notebooks, nous avons majoritairement utilisé la **programmation impérative** (séquences d'instructions exécutées par l'ordinateur). Nous allons voir à présent un des paradigmes de la programmation déclarative : la **programmation fonctionnelle**. Au lieu de dire à notre code comment réaliser certaines opérations, étape par étape, on lui indique plutôt le résultat attendu, laissant au programme le choix de la meilleure implémentation. \n",
    "\n",
    "En programmation fonctionnelle, on décomposera un problème en un ensemble de fonctions. Chaque fonction, étant sensée produire un résultat ne dépendant que des arguments en entrée. Par ailleurs, les fonctions ne devront pas avoir d'état interne susceptible de modifier le résultat pour un argument donné : **une fonction x doit toujours donné le même résultat pour un argument y**. \n",
    "\n",
    "La programmation fonctionnelle est facilitée avec Python et elle permet souvent d'améliorer la lisibilité du code et sa flexibilité."
   ]
  },
  {
   "cell_type": "markdown",
   "metadata": {},
   "source": [
    "### Caractéristiques\n",
    "\n",
    "#### Fonctions pures\n",
    "\n",
    "Les fonctions ne produisant pas d'**effet de bord** sont dites **pures**. Aucune structure de données n'est mise à jour pendant l'exécution du programme et les changements réalisés au cours de l'exécution sont visibles dans la valeur de sortie. Chaque sortie d'une fonction dépend que des arguments passés en entrée. "
   ]
  },
  {
   "cell_type": "code",
   "execution_count": 10,
   "metadata": {},
   "outputs": [
    {
     "data": {
      "text/plain": [
       "[11, 13, 30, 79, 9090]"
      ]
     },
     "execution_count": 10,
     "metadata": {},
     "output_type": "execute_result"
    }
   ],
   "source": [
    "# fonction pure\n",
    "\n",
    "def add_nb(nb, liste):\n",
    "    \"\"\"\n",
    "    Ajoute nb à chaque élément de la liste\n",
    "    \n",
    "    nb (int) : nombre utilisé pour l'addition\n",
    "    liste (list) : si un élément n'est pas numérique, l'addition sera ignorée pour cet élément\n",
    "    \"\"\"\n",
    "    \n",
    "    new_liste = [int(element) + nb for element in liste if element.isnumeric()]\n",
    "    \n",
    "    return new_liste\n",
    "\n",
    "add_nb(3, [\"8\", \"10\", \"27\", \"hehe\", \"76\", \"9087\"])"
   ]
  },
  {
   "cell_type": "markdown",
   "metadata": {},
   "source": [
    "#### Immuabilité\n",
    "\n",
    "Ce qui nous amène à la deuxième condition. Une fonction ne modifie pas les éléments passés en argument. Il faudra créer une copie des arguments pour pouvoir leur appliquer des modifications.\n",
    "\n",
    "#### Fonctions de premer ordre\n",
    "\n",
    "En programmaion fonctionnelle, les fonctions sont considérées comme des objets comme les autres. Les fonctions qui prennent comme arguments d'autres fonctions et/ou en retournent sont des **fonctions de premier ordre**."
   ]
  },
  {
   "cell_type": "code",
   "execution_count": 9,
   "metadata": {},
   "outputs": [
    {
     "data": {
      "text/plain": [
       "[-2, 0, 17, 66, 9077]"
      ]
     },
     "execution_count": 9,
     "metadata": {},
     "output_type": "execute_result"
    }
   ],
   "source": [
    "def substract(nb1, nb2):\n",
    "    \"\"\"\n",
    "    Soustraie nb2 à nb1\n",
    "    \n",
    "    nb1 (int) premier terme\n",
    "    nb2 (int) deuxième terme\n",
    "    \"\"\"\n",
    "    return nb1 - nb2\n",
    "    \n",
    "# fonction de premier ordre\n",
    "def calc_liste(operation, nb, liste):\n",
    "    \"\"\"\n",
    "    Réalise une opération sur chaque élément de la liste avec le nombre indiqué\n",
    "    \n",
    "    operation (func) : function de calcul\n",
    "    nb (int) : nombre utilisé pour l'opération\n",
    "    liste (list) : si un élément n'est pas numérique, l'addition sera ignorée pour cet élément\n",
    "    \"\"\"\n",
    "    \n",
    "    return [operation(int(element), nb) for element in liste if element.isnumeric()]\n",
    "\n",
    "calc_liste(substract, 10, [\"8\", \"10\", \"27\", \"hehe\", \"76\", \"9087\"])"
   ]
  },
  {
   "cell_type": "markdown",
   "metadata": {},
   "source": [
    "## Fonctions anonymes : lambdas\n",
    "\n",
    "Lorsqu'on utilise la définition de fonction précédemment décrite, on affecte un nom à notre fonction. Mais pour certaines fonctions utilisées qu'une seule fois, on pourrait se passer de l'étape de nommage. Ces fonctions anonymes sont appelées **lambdas**."
   ]
  },
  {
   "cell_type": "code",
   "execution_count": 11,
   "metadata": {},
   "outputs": [
    {
     "data": {
      "text/plain": [
       "[80, 100, 270, 760, 90870]"
      ]
     },
     "execution_count": 11,
     "metadata": {},
     "output_type": "execute_result"
    }
   ],
   "source": [
    "calc_liste(lambda x, y: x * y, 10, [\"8\", \"10\", \"27\", \"hehe\", \"76\", \"9087\"])"
   ]
  },
  {
   "cell_type": "markdown",
   "metadata": {},
   "source": [
    "Comme vous pouvez vous en apercevoir, les lambdas nous permettent d'économiser de la mémoire et d'aller plus vite. \n",
    "\n",
    "> ATTENTION : les lambdas sont à privilégier pour des fonctions courtes. On les utilise pour des fonctions qui tiennent en une ligne."
   ]
  },
  {
   "cell_type": "markdown",
   "metadata": {},
   "source": [
    "## Fonctions de premier ordre utiles : map / filter\n",
    "\n",
    "Il s'agit de fonctions de premier ordre utilisées sur des itérables et qui nous épargnent l'utilisation de boucles."
   ]
  },
  {
   "cell_type": "markdown",
   "metadata": {},
   "source": [
    "### map\n",
    "\n",
    "La fonction ```map``` permet d'appliquer une fonction à chaque élément d'un itérable. Nous obtenons en sortie un autre itérable avec les résultats de chaque appel de fonction. Attention, en sortie, nous obtenons un itérable de type map. Si vous voulez obtenir une nouvelle liste, il faudra passer caster cet objet en liste (voir ci-dessous)."
   ]
  },
  {
   "cell_type": "code",
   "execution_count": 15,
   "metadata": {},
   "outputs": [
    {
     "data": {
      "text/plain": [
       "[33, 731, 81, 6, 15]"
      ]
     },
     "execution_count": 15,
     "metadata": {},
     "output_type": "execute_result"
    }
   ],
   "source": [
    "items = [28, 726, 76, 1, 10]\n",
    "new_items = list(map(lambda x : x + 5, items))\n",
    "new_items"
   ]
  },
  {
   "cell_type": "markdown",
   "metadata": {},
   "source": [
    "### filter\n",
    "\n",
    "La fonction ```filter``` permet de filtrer les éléments d'une liste et d'obtenir un itérable de type filter. Pour transformer ce résultat en liste, il faudra faire la même transformation de map vers liste comme indiquée ci-dessus. "
   ]
  },
  {
   "cell_type": "code",
   "execution_count": 16,
   "metadata": {},
   "outputs": [
    {
     "data": {
      "text/plain": [
       "[28, 726, 76, 10]"
      ]
     },
     "execution_count": 16,
     "metadata": {},
     "output_type": "execute_result"
    }
   ],
   "source": [
    "items = [28, 726, 76, 1, 10]\n",
    "new_items = list(filter(lambda x : x % 2 == 0, items))\n",
    "new_items"
   ]
  },
  {
   "cell_type": "markdown",
   "metadata": {},
   "source": [
    "### Recursivité\n",
    "\n",
    "Un des concepts de la programmation fonctionnelle est la récursivité. La récursivité implique qu'une fonction s'appelle elle-même. Voici quelques avantages : \n",
    "- Plus lisible dans certains cas => gain de temps lors du debuggage\n",
    "- Gain de performance (notamment lors de calculs sur des arborescences)\n",
    "- Très utile dans les algorithmes de tri\n",
    "\n",
    "**Exemple**"
   ]
  },
  {
   "cell_type": "code",
   "execution_count": 12,
   "metadata": {},
   "outputs": [
    {
     "name": "stdout",
     "output_type": "stream",
     "text": [
      "8\n"
     ]
    }
   ],
   "source": [
    "def fibonacci(n):\n",
    "    if (n <= 1):\n",
    "        return 1\n",
    "    else :\n",
    "        return fibonacci(n-1) + fibonacci(n-2)\n",
    "         \n",
    "print(fibonacci(5))"
   ]
  },
  {
   "cell_type": "markdown",
   "metadata": {},
   "source": [
    "> Que fait ce code ?"
   ]
  },
  {
   "cell_type": "markdown",
   "metadata": {},
   "source": [
    "Il faut être prudent lors d'usage de fonctions récursives car elles peuvent consommer énormément de mémoire et elles ne sont pas toujours adaptées à tous les cas de figure. Parfois une simple boucle suffit."
   ]
  },
  {
   "cell_type": "markdown",
   "metadata": {},
   "source": [
    "## Exercices \n",
    "\n",
    "1. Créer une fonction qui permet de calculer la somme de tous les éléments d'une liste\n",
    "2. Créer une fonction qui permet de retourner les éléments uniques d'une liste (sans utiliser les sets)\n",
    "3. Créer une fonction qui prend une phrase en entrée et vérifie s'il s'agit d'un pangramme (une phrase contenant toutes les lettres de l'alphabet). Pour des raisons de simplicité, ne tenez pas compte des lettres accentuées.\n",
    "4. Créer une fonction de premier ordre ```process_string``` qui permettra d'appliquer une série de transformations à une chaîne de caractères. Le premier argument sera la chaîne de caractères, le deuxième une liste de fonctions. Par exemple, la liste `[remove_e, uppercase]` permettra de retirer la lettre e d'une chaîne de caractères que l'on passera ensuite en majuscules. Créer la fonction ```remove_e``` puis ```process_string```.\n",
    "5. Recréer la fonction `zip` : `fake_zip([1, 2], [3, 4]) => [(1, 3), (2, 4)]`\n",
    "6. Créer une fonction avec deux arguments, le premier sera un nombre `n` et le second une séquence. Retourner `n` éléments de la séquence.\n",
    "7. Créer une fonction qui permet de calculer la factorielle d'un nombre\n",
    "8. Créer une fonction qui prend argument une liste et retourne un dictionnaire avec les occurrences de chaque élément\n",
    "9. Créer une fonction qui permettra de fusionner deux dictionnaires selon une fonction. \n",
    "Ex : `merge(add, {\"first\" : 2, \"second\" : 10}, {\"first\" : 7}) => {\"first\" : 9, \"second\": 10}`"
   ]
  },
  {
   "cell_type": "markdown",
   "metadata": {},
   "source": [
    "### Extra : Itérables & Générateurs\n",
    "\n",
    "#### Qu'est-ce qu'un itérable?\n",
    "\n",
    "Un itérable est un objet dont on peut parcourir les valeurs (grâce à un for ou un while). \n",
    "\n",
    "**Pouvez-vous m'en citer ?**\n",
    "\n",
    "#### Qu'est-ce qu'un générateur ?\n",
    "\n",
    "Un générateur est un type d'itérable. Par contre, les générateurs ne sont pas indicés (on ne peut pas accéder aux valeurs via un index) et ils ne prennent que très peu de place en mémoire car ils produisent les valeurs retournées à la volée. Par ailleurs, un générateur permet seulement d'accéder à un élément à la fois. "
   ]
  },
  {
   "cell_type": "code",
   "execution_count": 43,
   "metadata": {},
   "outputs": [],
   "source": [
    "def get_number():\n",
    "    for i in range(10):\n",
    "        yield i"
   ]
  },
  {
   "cell_type": "code",
   "execution_count": 86,
   "metadata": {},
   "outputs": [
    {
     "name": "stdout",
     "output_type": "stream",
     "text": [
      "0\n",
      "1\n",
      "2\n",
      "3\n",
      "4\n",
      "5\n",
      "6\n",
      "7\n",
      "8\n",
      "9\n"
     ]
    }
   ],
   "source": [
    "gen = get_number()\n",
    "for nb in gen:\n",
    "    print(nb)"
   ]
  },
  {
   "cell_type": "markdown",
   "metadata": {},
   "source": [
    "#### Description d'un générateur \n",
    "\n",
    "> Que fait réellement `get_number()` ?\n",
    "\n",
    "1. Assigne la valeur à `limit`\n",
    "2. Création d'une boucle avec une variable i comprise entre 0 et `limit`\n",
    "3. Retour de `i` si respect de la condition `i < limit`\n",
    "4. Arrêt de l'exécution avec `yield`\n",
    "5. Lors de la prochaine itération, `get_number()` est de nouveau appelée. Sauf qu'à la différence d'une fonction normale, l'état de toutes les variables est conservée et la fonction reprend là où elle s'est arrêtée.\n",
    "6. Incrémentation de `i`\n",
    "7. Retour de `i` si respect de la condition\n",
    "8. Nouvel arrêt temporaire de l'exécution de `get_number()`\n",
    "\n",
    "Un générateur peut donc être créé à partir d'une simple fonction utilisant le mot-clé `yield` au lieu de `return`."
   ]
  },
  {
   "cell_type": "markdown",
   "metadata": {},
   "source": [
    "Vous pouvez aussi appeler un générateur en dehors d'une boucle avec la fonction `next()`."
   ]
  },
  {
   "cell_type": "code",
   "execution_count": 87,
   "metadata": {},
   "outputs": [
    {
     "ename": "StopIteration",
     "evalue": "",
     "output_type": "error",
     "traceback": [
      "\u001b[0;31m---------------------------------------------------------------------------\u001b[0m",
      "\u001b[0;31mStopIteration\u001b[0m                             Traceback (most recent call last)",
      "\u001b[0;32m<ipython-input-87-be0d7584d73f>\u001b[0m in \u001b[0;36m<module>\u001b[0;34m\u001b[0m\n\u001b[0;32m----> 1\u001b[0;31m \u001b[0mprint\u001b[0m\u001b[0;34m(\u001b[0m\u001b[0mnext\u001b[0m\u001b[0;34m(\u001b[0m\u001b[0mgen\u001b[0m\u001b[0;34m)\u001b[0m\u001b[0;34m)\u001b[0m\u001b[0;34m\u001b[0m\u001b[0;34m\u001b[0m\u001b[0m\n\u001b[0m",
      "\u001b[0;31mStopIteration\u001b[0m: "
     ]
    }
   ],
   "source": [
    "print(next(gen))"
   ]
  },
  {
   "cell_type": "markdown",
   "metadata": {},
   "source": [
    ">**D'où vient l'erreur ?**"
   ]
  },
  {
   "cell_type": "markdown",
   "metadata": {},
   "source": [
    "Comme il s'agit d'un générateur 'fini', on peut le convertir en liste : "
   ]
  },
  {
   "cell_type": "code",
   "execution_count": 88,
   "metadata": {},
   "outputs": [
    {
     "data": {
      "text/plain": [
       "[0, 1, 2, 3, 4, 5, 6, 7, 8, 9]"
      ]
     },
     "execution_count": 88,
     "metadata": {},
     "output_type": "execute_result"
    }
   ],
   "source": [
    "gen1 = get_number()\n",
    "list(gen1)"
   ]
  },
  {
   "cell_type": "markdown",
   "metadata": {},
   "source": [
    "On peut aussi créer un générateur avec une compréhension :  "
   ]
  },
  {
   "cell_type": "code",
   "execution_count": 91,
   "metadata": {},
   "outputs": [],
   "source": [
    "gen = (l for l in \"abcd\")"
   ]
  },
  {
   "cell_type": "code",
   "execution_count": 92,
   "metadata": {},
   "outputs": [
    {
     "name": "stdout",
     "output_type": "stream",
     "text": [
      "a\n",
      "b\n",
      "c\n",
      "d\n"
     ]
    }
   ],
   "source": [
    "for letter in gen:\n",
    "    print(letter)"
   ]
  },
  {
   "cell_type": "markdown",
   "metadata": {},
   "source": [
    "#### Que peut-on faire avec des générateurs ? \n",
    "\n",
    "Les générateurs contrairement aux listes ne conservent pas leurs éléments en mémoire ce qui les rendent très utiles pour faire des itérables personnalisés ou lire des fichiers lourds. "
   ]
  },
  {
   "cell_type": "code",
   "execution_count": 54,
   "metadata": {},
   "outputs": [],
   "source": [
    "file_name = \"data/diabetes.csv\"\n",
    "csv_gen = (row for row in open(file_name))"
   ]
  },
  {
   "cell_type": "code",
   "execution_count": 53,
   "metadata": {},
   "outputs": [
    {
     "data": {
      "text/plain": [
       "'8,183,64,0,0,23.3,0.672,32,1\\n'"
      ]
     },
     "execution_count": 53,
     "metadata": {},
     "output_type": "execute_result"
    }
   ],
   "source": [
    "next(csv_gen)"
   ]
  },
  {
   "cell_type": "markdown",
   "metadata": {},
   "source": [
    "## Ressources\n",
    "\n",
    "[Functional Programming - Python](https://docs.python.org/fr/3.6/howto/functional.html)  \n",
    "[Functional Programming in Python](https://stackabuse.com/functional-programming-in-python/#:~:text=Functional%20Programming%20is%20a%20programming,processing%20data%20throughout%20its%20execution.&text=Python%20allows%20us%20to%20code,the%20map%20and%20filter%20functions.)  \n",
    "[Les itérables](https://zestedesavoir.com/tutoriels/954/notions-de-python-avancees/1-starters/2-iterables/)"
   ]
  }
 ],
 "metadata": {
  "kernelspec": {
   "display_name": "Python 3",
   "language": "python",
   "name": "python3"
  },
  "language_info": {
   "codemirror_mode": {
    "name": "ipython",
    "version": 3
   },
   "file_extension": ".py",
   "mimetype": "text/x-python",
   "name": "python",
   "nbconvert_exporter": "python",
   "pygments_lexer": "ipython3",
   "version": "3.9.0"
  }
 },
 "nbformat": 4,
 "nbformat_minor": 4
}
